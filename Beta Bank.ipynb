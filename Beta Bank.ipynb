{
 "cells": [
  {
   "cell_type": "markdown",
   "metadata": {},
   "source": [
    "# Beta Bank"
   ]
  },
  {
   "cell_type": "markdown",
   "metadata": {},
   "source": [
    "Beta Bank customers are leaving: little by little, chipping away every month.<br>\n",
    "The bankers figured out it’s cheaper to save the existing customers rather than to attract new ones.<br><br>\n",
    "<b>Our tasks are: </b><br>\n",
    " We need to predict whether a customer will leave the bank soon.<br>\n",
    " You have the data on clients’ past behavior and termination of contracts with the bank.<br>\n",
    "Build a model with the maximum possible F1 score. To pass the project, you need an F1 score of at least 0.59. Check the F1 for the test set.\n",
    "Additionally, measure the AUC-ROC metric and compare it with the F1."
   ]
  },
  {
   "cell_type": "markdown",
   "metadata": {},
   "source": [
    "Features\n",
    "- RowNumber — data string index\n",
    "-  CustomerId — unique customer identifier\n",
    "-  Surname — surname\n",
    "-  CreditScore — credit score\n",
    "-  Geography — country of residence\n",
    "-  Gender — gender\n",
    "- Age — age\n",
    "- Tenure — period of maturation for a customer’s fixed deposit (years)\n",
    "- Balance — account balance\n",
    "- NumOfProducts — number of banking products used by the customer\n",
    "- HasCrCard — customer has a credit card\n",
    "- IsActiveMember — customer’s activeness\n",
    "- EstimatedSalary — estimated salary <br><br>\n",
    "Target\n",
    "- Exited — сustomer has left"
   ]
  },
  {
   "cell_type": "markdown",
   "metadata": {},
   "source": [
    "## Download and prepare the data"
   ]
  },
  {
   "cell_type": "code",
   "execution_count": 13,
   "metadata": {},
   "outputs": [],
   "source": [
    "import pandas as pd\n",
    "import numpy as np\n",
    "from sklearn.model_selection import train_test_split\n",
    "from sklearn.metrics import accuracy_score\n",
    "from sklearn.tree import DecisionTreeClassifier\n",
    "from sklearn.ensemble import RandomForestClassifier, RandomForestRegressor\n",
    "from sklearn.linear_model import LogisticRegression\n",
    "from sklearn.dummy import DummyClassifier\n",
    "from sklearn.preprocessing import OrdinalEncoder, StandardScaler\n",
    "from sklearn.metrics import f1_score, confusion_matrix, recall_score, precision_score, roc_curve,roc_auc_score\n",
    "from sklearn.utils import resample, shuffle\n",
    "from sklearn.model_selection import StratifiedShuffleSplit\n",
    "import pprint"
   ]
  },
  {
   "cell_type": "code",
   "execution_count": 14,
   "metadata": {},
   "outputs": [],
   "source": [
    "# const random_state \n",
    "RANDOM_STATE = 12345"
   ]
  },
  {
   "cell_type": "code",
   "execution_count": 15,
   "metadata": {},
   "outputs": [
    {
     "name": "stdout",
     "output_type": "stream",
     "text": [
      "<class 'pandas.core.frame.DataFrame'>\n",
      "RangeIndex: 10000 entries, 0 to 9999\n",
      "Data columns (total 14 columns):\n",
      "RowNumber          10000 non-null int64\n",
      "CustomerId         10000 non-null int64\n",
      "Surname            10000 non-null object\n",
      "CreditScore        10000 non-null int64\n",
      "Geography          10000 non-null object\n",
      "Gender             10000 non-null object\n",
      "Age                10000 non-null int64\n",
      "Tenure             9091 non-null float64\n",
      "Balance            10000 non-null float64\n",
      "NumOfProducts      10000 non-null int64\n",
      "HasCrCard          10000 non-null int64\n",
      "IsActiveMember     10000 non-null int64\n",
      "EstimatedSalary    10000 non-null float64\n",
      "Exited             10000 non-null int64\n",
      "dtypes: float64(3), int64(8), object(3)\n",
      "memory usage: 1.1+ MB\n"
     ]
    },
    {
     "data": {
      "text/html": [
       "<div>\n",
       "<style scoped>\n",
       "    .dataframe tbody tr th:only-of-type {\n",
       "        vertical-align: middle;\n",
       "    }\n",
       "\n",
       "    .dataframe tbody tr th {\n",
       "        vertical-align: top;\n",
       "    }\n",
       "\n",
       "    .dataframe thead th {\n",
       "        text-align: right;\n",
       "    }\n",
       "</style>\n",
       "<table border=\"1\" class=\"dataframe\">\n",
       "  <thead>\n",
       "    <tr style=\"text-align: right;\">\n",
       "      <th></th>\n",
       "      <th>RowNumber</th>\n",
       "      <th>CustomerId</th>\n",
       "      <th>Surname</th>\n",
       "      <th>CreditScore</th>\n",
       "      <th>Geography</th>\n",
       "      <th>Gender</th>\n",
       "      <th>Age</th>\n",
       "      <th>Tenure</th>\n",
       "      <th>Balance</th>\n",
       "      <th>NumOfProducts</th>\n",
       "      <th>HasCrCard</th>\n",
       "      <th>IsActiveMember</th>\n",
       "      <th>EstimatedSalary</th>\n",
       "      <th>Exited</th>\n",
       "    </tr>\n",
       "  </thead>\n",
       "  <tbody>\n",
       "    <tr>\n",
       "      <td>6932</td>\n",
       "      <td>6933</td>\n",
       "      <td>15570970</td>\n",
       "      <td>Han</td>\n",
       "      <td>647</td>\n",
       "      <td>France</td>\n",
       "      <td>Female</td>\n",
       "      <td>42</td>\n",
       "      <td>9.0</td>\n",
       "      <td>0.00</td>\n",
       "      <td>2</td>\n",
       "      <td>1</td>\n",
       "      <td>1</td>\n",
       "      <td>51362.82</td>\n",
       "      <td>0</td>\n",
       "    </tr>\n",
       "    <tr>\n",
       "      <td>8368</td>\n",
       "      <td>8369</td>\n",
       "      <td>15637690</td>\n",
       "      <td>Houghton</td>\n",
       "      <td>622</td>\n",
       "      <td>Germany</td>\n",
       "      <td>Female</td>\n",
       "      <td>34</td>\n",
       "      <td>7.0</td>\n",
       "      <td>98675.74</td>\n",
       "      <td>1</td>\n",
       "      <td>1</td>\n",
       "      <td>0</td>\n",
       "      <td>138906.85</td>\n",
       "      <td>1</td>\n",
       "    </tr>\n",
       "    <tr>\n",
       "      <td>6575</td>\n",
       "      <td>6576</td>\n",
       "      <td>15651883</td>\n",
       "      <td>Genovesi</td>\n",
       "      <td>794</td>\n",
       "      <td>Germany</td>\n",
       "      <td>Female</td>\n",
       "      <td>55</td>\n",
       "      <td>6.0</td>\n",
       "      <td>115796.70</td>\n",
       "      <td>1</td>\n",
       "      <td>1</td>\n",
       "      <td>0</td>\n",
       "      <td>160526.36</td>\n",
       "      <td>1</td>\n",
       "    </tr>\n",
       "    <tr>\n",
       "      <td>6948</td>\n",
       "      <td>6949</td>\n",
       "      <td>15803750</td>\n",
       "      <td>Ball</td>\n",
       "      <td>750</td>\n",
       "      <td>Spain</td>\n",
       "      <td>Female</td>\n",
       "      <td>33</td>\n",
       "      <td>3.0</td>\n",
       "      <td>161801.47</td>\n",
       "      <td>1</td>\n",
       "      <td>0</td>\n",
       "      <td>1</td>\n",
       "      <td>153288.97</td>\n",
       "      <td>1</td>\n",
       "    </tr>\n",
       "    <tr>\n",
       "      <td>2296</td>\n",
       "      <td>2297</td>\n",
       "      <td>15582714</td>\n",
       "      <td>Napolitani</td>\n",
       "      <td>749</td>\n",
       "      <td>Germany</td>\n",
       "      <td>Male</td>\n",
       "      <td>47</td>\n",
       "      <td>9.0</td>\n",
       "      <td>110022.74</td>\n",
       "      <td>1</td>\n",
       "      <td>0</td>\n",
       "      <td>1</td>\n",
       "      <td>135655.29</td>\n",
       "      <td>1</td>\n",
       "    </tr>\n",
       "    <tr>\n",
       "      <td>575</td>\n",
       "      <td>576</td>\n",
       "      <td>15653620</td>\n",
       "      <td>Gordon</td>\n",
       "      <td>546</td>\n",
       "      <td>France</td>\n",
       "      <td>Female</td>\n",
       "      <td>27</td>\n",
       "      <td>8.0</td>\n",
       "      <td>0.00</td>\n",
       "      <td>2</td>\n",
       "      <td>1</td>\n",
       "      <td>1</td>\n",
       "      <td>14858.10</td>\n",
       "      <td>0</td>\n",
       "    </tr>\n",
       "    <tr>\n",
       "      <td>6979</td>\n",
       "      <td>6980</td>\n",
       "      <td>15751180</td>\n",
       "      <td>Adams</td>\n",
       "      <td>539</td>\n",
       "      <td>France</td>\n",
       "      <td>Female</td>\n",
       "      <td>40</td>\n",
       "      <td>7.0</td>\n",
       "      <td>81132.21</td>\n",
       "      <td>1</td>\n",
       "      <td>1</td>\n",
       "      <td>0</td>\n",
       "      <td>167289.82</td>\n",
       "      <td>0</td>\n",
       "    </tr>\n",
       "    <tr>\n",
       "      <td>8220</td>\n",
       "      <td>8221</td>\n",
       "      <td>15727177</td>\n",
       "      <td>Manfrin</td>\n",
       "      <td>557</td>\n",
       "      <td>France</td>\n",
       "      <td>Male</td>\n",
       "      <td>42</td>\n",
       "      <td>6.0</td>\n",
       "      <td>177822.03</td>\n",
       "      <td>1</td>\n",
       "      <td>1</td>\n",
       "      <td>0</td>\n",
       "      <td>150944.31</td>\n",
       "      <td>1</td>\n",
       "    </tr>\n",
       "    <tr>\n",
       "      <td>9485</td>\n",
       "      <td>9486</td>\n",
       "      <td>15656319</td>\n",
       "      <td>Toscano</td>\n",
       "      <td>850</td>\n",
       "      <td>Spain</td>\n",
       "      <td>Male</td>\n",
       "      <td>37</td>\n",
       "      <td>NaN</td>\n",
       "      <td>88141.10</td>\n",
       "      <td>1</td>\n",
       "      <td>1</td>\n",
       "      <td>0</td>\n",
       "      <td>109659.12</td>\n",
       "      <td>0</td>\n",
       "    </tr>\n",
       "    <tr>\n",
       "      <td>2830</td>\n",
       "      <td>2831</td>\n",
       "      <td>15701555</td>\n",
       "      <td>Nicholls</td>\n",
       "      <td>575</td>\n",
       "      <td>Spain</td>\n",
       "      <td>Male</td>\n",
       "      <td>53</td>\n",
       "      <td>1.0</td>\n",
       "      <td>84903.33</td>\n",
       "      <td>2</td>\n",
       "      <td>0</td>\n",
       "      <td>1</td>\n",
       "      <td>26015.80</td>\n",
       "      <td>0</td>\n",
       "    </tr>\n",
       "  </tbody>\n",
       "</table>\n",
       "</div>"
      ],
      "text/plain": [
       "      RowNumber  CustomerId     Surname  CreditScore Geography  Gender  Age  \\\n",
       "6932       6933    15570970         Han          647    France  Female   42   \n",
       "8368       8369    15637690    Houghton          622   Germany  Female   34   \n",
       "6575       6576    15651883    Genovesi          794   Germany  Female   55   \n",
       "6948       6949    15803750        Ball          750     Spain  Female   33   \n",
       "2296       2297    15582714  Napolitani          749   Germany    Male   47   \n",
       "575         576    15653620      Gordon          546    France  Female   27   \n",
       "6979       6980    15751180       Adams          539    France  Female   40   \n",
       "8220       8221    15727177     Manfrin          557    France    Male   42   \n",
       "9485       9486    15656319     Toscano          850     Spain    Male   37   \n",
       "2830       2831    15701555    Nicholls          575     Spain    Male   53   \n",
       "\n",
       "      Tenure    Balance  NumOfProducts  HasCrCard  IsActiveMember  \\\n",
       "6932     9.0       0.00              2          1               1   \n",
       "8368     7.0   98675.74              1          1               0   \n",
       "6575     6.0  115796.70              1          1               0   \n",
       "6948     3.0  161801.47              1          0               1   \n",
       "2296     9.0  110022.74              1          0               1   \n",
       "575      8.0       0.00              2          1               1   \n",
       "6979     7.0   81132.21              1          1               0   \n",
       "8220     6.0  177822.03              1          1               0   \n",
       "9485     NaN   88141.10              1          1               0   \n",
       "2830     1.0   84903.33              2          0               1   \n",
       "\n",
       "      EstimatedSalary  Exited  \n",
       "6932         51362.82       0  \n",
       "8368        138906.85       1  \n",
       "6575        160526.36       1  \n",
       "6948        153288.97       1  \n",
       "2296        135655.29       1  \n",
       "575          14858.10       0  \n",
       "6979        167289.82       0  \n",
       "8220        150944.31       1  \n",
       "9485        109659.12       0  \n",
       "2830         26015.80       0  "
      ]
     },
     "execution_count": 15,
     "metadata": {},
     "output_type": "execute_result"
    }
   ],
   "source": [
    "#Read csv file\n",
    "bank_customers = pd.read_csv('/datasets/Churn.csv') \n",
    "#General information\n",
    "bank_customers.info()\n",
    "bank_customers.sample(10)"
   ]
  },
  {
   "cell_type": "code",
   "execution_count": 16,
   "metadata": {},
   "outputs": [
    {
     "data": {
      "text/plain": [
       "4.997690023099769"
      ]
     },
     "execution_count": 16,
     "metadata": {},
     "output_type": "execute_result"
    }
   ],
   "source": [
    "bank_customers['Tenure'].mean()"
   ]
  },
  {
   "cell_type": "code",
   "execution_count": 17,
   "metadata": {},
   "outputs": [
    {
     "data": {
      "text/html": [
       "<div>\n",
       "<style scoped>\n",
       "    .dataframe tbody tr th:only-of-type {\n",
       "        vertical-align: middle;\n",
       "    }\n",
       "\n",
       "    .dataframe tbody tr th {\n",
       "        vertical-align: top;\n",
       "    }\n",
       "\n",
       "    .dataframe thead th {\n",
       "        text-align: right;\n",
       "    }\n",
       "</style>\n",
       "<table border=\"1\" class=\"dataframe\">\n",
       "  <thead>\n",
       "    <tr style=\"text-align: right;\">\n",
       "      <th></th>\n",
       "      <th>RowNumber</th>\n",
       "      <th>CustomerId</th>\n",
       "      <th>Surname</th>\n",
       "      <th>CreditScore</th>\n",
       "      <th>Geography</th>\n",
       "      <th>Gender</th>\n",
       "      <th>Age</th>\n",
       "      <th>Tenure</th>\n",
       "      <th>Balance</th>\n",
       "      <th>NumOfProducts</th>\n",
       "      <th>HasCrCard</th>\n",
       "      <th>IsActiveMember</th>\n",
       "      <th>EstimatedSalary</th>\n",
       "      <th>Exited</th>\n",
       "    </tr>\n",
       "  </thead>\n",
       "  <tbody>\n",
       "    <tr>\n",
       "      <td>30</td>\n",
       "      <td>31</td>\n",
       "      <td>15589475</td>\n",
       "      <td>Azikiwe</td>\n",
       "      <td>591</td>\n",
       "      <td>Spain</td>\n",
       "      <td>Female</td>\n",
       "      <td>39</td>\n",
       "      <td>NaN</td>\n",
       "      <td>0.00</td>\n",
       "      <td>3</td>\n",
       "      <td>1</td>\n",
       "      <td>0</td>\n",
       "      <td>140469.38</td>\n",
       "      <td>1</td>\n",
       "    </tr>\n",
       "    <tr>\n",
       "      <td>48</td>\n",
       "      <td>49</td>\n",
       "      <td>15766205</td>\n",
       "      <td>Yin</td>\n",
       "      <td>550</td>\n",
       "      <td>Germany</td>\n",
       "      <td>Male</td>\n",
       "      <td>38</td>\n",
       "      <td>NaN</td>\n",
       "      <td>103391.38</td>\n",
       "      <td>1</td>\n",
       "      <td>0</td>\n",
       "      <td>1</td>\n",
       "      <td>90878.13</td>\n",
       "      <td>0</td>\n",
       "    </tr>\n",
       "    <tr>\n",
       "      <td>51</td>\n",
       "      <td>52</td>\n",
       "      <td>15768193</td>\n",
       "      <td>Trevisani</td>\n",
       "      <td>585</td>\n",
       "      <td>Germany</td>\n",
       "      <td>Male</td>\n",
       "      <td>36</td>\n",
       "      <td>NaN</td>\n",
       "      <td>146050.97</td>\n",
       "      <td>2</td>\n",
       "      <td>0</td>\n",
       "      <td>0</td>\n",
       "      <td>86424.57</td>\n",
       "      <td>0</td>\n",
       "    </tr>\n",
       "    <tr>\n",
       "      <td>53</td>\n",
       "      <td>54</td>\n",
       "      <td>15702298</td>\n",
       "      <td>Parkhill</td>\n",
       "      <td>655</td>\n",
       "      <td>Germany</td>\n",
       "      <td>Male</td>\n",
       "      <td>41</td>\n",
       "      <td>NaN</td>\n",
       "      <td>125561.97</td>\n",
       "      <td>1</td>\n",
       "      <td>0</td>\n",
       "      <td>0</td>\n",
       "      <td>164040.94</td>\n",
       "      <td>1</td>\n",
       "    </tr>\n",
       "    <tr>\n",
       "      <td>60</td>\n",
       "      <td>61</td>\n",
       "      <td>15651280</td>\n",
       "      <td>Hunter</td>\n",
       "      <td>742</td>\n",
       "      <td>Germany</td>\n",
       "      <td>Male</td>\n",
       "      <td>35</td>\n",
       "      <td>NaN</td>\n",
       "      <td>136857.00</td>\n",
       "      <td>1</td>\n",
       "      <td>0</td>\n",
       "      <td>0</td>\n",
       "      <td>84509.57</td>\n",
       "      <td>0</td>\n",
       "    </tr>\n",
       "    <tr>\n",
       "      <td>...</td>\n",
       "      <td>...</td>\n",
       "      <td>...</td>\n",
       "      <td>...</td>\n",
       "      <td>...</td>\n",
       "      <td>...</td>\n",
       "      <td>...</td>\n",
       "      <td>...</td>\n",
       "      <td>...</td>\n",
       "      <td>...</td>\n",
       "      <td>...</td>\n",
       "      <td>...</td>\n",
       "      <td>...</td>\n",
       "      <td>...</td>\n",
       "      <td>...</td>\n",
       "    </tr>\n",
       "    <tr>\n",
       "      <td>9944</td>\n",
       "      <td>9945</td>\n",
       "      <td>15703923</td>\n",
       "      <td>Cameron</td>\n",
       "      <td>744</td>\n",
       "      <td>Germany</td>\n",
       "      <td>Male</td>\n",
       "      <td>41</td>\n",
       "      <td>NaN</td>\n",
       "      <td>190409.34</td>\n",
       "      <td>2</td>\n",
       "      <td>1</td>\n",
       "      <td>1</td>\n",
       "      <td>138361.48</td>\n",
       "      <td>0</td>\n",
       "    </tr>\n",
       "    <tr>\n",
       "      <td>9956</td>\n",
       "      <td>9957</td>\n",
       "      <td>15707861</td>\n",
       "      <td>Nucci</td>\n",
       "      <td>520</td>\n",
       "      <td>France</td>\n",
       "      <td>Female</td>\n",
       "      <td>46</td>\n",
       "      <td>NaN</td>\n",
       "      <td>85216.61</td>\n",
       "      <td>1</td>\n",
       "      <td>1</td>\n",
       "      <td>0</td>\n",
       "      <td>117369.52</td>\n",
       "      <td>1</td>\n",
       "    </tr>\n",
       "    <tr>\n",
       "      <td>9964</td>\n",
       "      <td>9965</td>\n",
       "      <td>15642785</td>\n",
       "      <td>Douglas</td>\n",
       "      <td>479</td>\n",
       "      <td>France</td>\n",
       "      <td>Male</td>\n",
       "      <td>34</td>\n",
       "      <td>NaN</td>\n",
       "      <td>117593.48</td>\n",
       "      <td>2</td>\n",
       "      <td>0</td>\n",
       "      <td>0</td>\n",
       "      <td>113308.29</td>\n",
       "      <td>0</td>\n",
       "    </tr>\n",
       "    <tr>\n",
       "      <td>9985</td>\n",
       "      <td>9986</td>\n",
       "      <td>15586914</td>\n",
       "      <td>Nepean</td>\n",
       "      <td>659</td>\n",
       "      <td>France</td>\n",
       "      <td>Male</td>\n",
       "      <td>36</td>\n",
       "      <td>NaN</td>\n",
       "      <td>123841.49</td>\n",
       "      <td>2</td>\n",
       "      <td>1</td>\n",
       "      <td>0</td>\n",
       "      <td>96833.00</td>\n",
       "      <td>0</td>\n",
       "    </tr>\n",
       "    <tr>\n",
       "      <td>9999</td>\n",
       "      <td>10000</td>\n",
       "      <td>15628319</td>\n",
       "      <td>Walker</td>\n",
       "      <td>792</td>\n",
       "      <td>France</td>\n",
       "      <td>Female</td>\n",
       "      <td>28</td>\n",
       "      <td>NaN</td>\n",
       "      <td>130142.79</td>\n",
       "      <td>1</td>\n",
       "      <td>1</td>\n",
       "      <td>0</td>\n",
       "      <td>38190.78</td>\n",
       "      <td>0</td>\n",
       "    </tr>\n",
       "  </tbody>\n",
       "</table>\n",
       "<p>909 rows × 14 columns</p>\n",
       "</div>"
      ],
      "text/plain": [
       "      RowNumber  CustomerId    Surname  CreditScore Geography  Gender  Age  \\\n",
       "30           31    15589475    Azikiwe          591     Spain  Female   39   \n",
       "48           49    15766205        Yin          550   Germany    Male   38   \n",
       "51           52    15768193  Trevisani          585   Germany    Male   36   \n",
       "53           54    15702298   Parkhill          655   Germany    Male   41   \n",
       "60           61    15651280     Hunter          742   Germany    Male   35   \n",
       "...         ...         ...        ...          ...       ...     ...  ...   \n",
       "9944       9945    15703923    Cameron          744   Germany    Male   41   \n",
       "9956       9957    15707861      Nucci          520    France  Female   46   \n",
       "9964       9965    15642785    Douglas          479    France    Male   34   \n",
       "9985       9986    15586914     Nepean          659    France    Male   36   \n",
       "9999      10000    15628319     Walker          792    France  Female   28   \n",
       "\n",
       "      Tenure    Balance  NumOfProducts  HasCrCard  IsActiveMember  \\\n",
       "30       NaN       0.00              3          1               0   \n",
       "48       NaN  103391.38              1          0               1   \n",
       "51       NaN  146050.97              2          0               0   \n",
       "53       NaN  125561.97              1          0               0   \n",
       "60       NaN  136857.00              1          0               0   \n",
       "...      ...        ...            ...        ...             ...   \n",
       "9944     NaN  190409.34              2          1               1   \n",
       "9956     NaN   85216.61              1          1               0   \n",
       "9964     NaN  117593.48              2          0               0   \n",
       "9985     NaN  123841.49              2          1               0   \n",
       "9999     NaN  130142.79              1          1               0   \n",
       "\n",
       "      EstimatedSalary  Exited  \n",
       "30          140469.38       1  \n",
       "48           90878.13       0  \n",
       "51           86424.57       0  \n",
       "53          164040.94       1  \n",
       "60           84509.57       0  \n",
       "...               ...     ...  \n",
       "9944        138361.48       0  \n",
       "9956        117369.52       1  \n",
       "9964        113308.29       0  \n",
       "9985         96833.00       0  \n",
       "9999         38190.78       0  \n",
       "\n",
       "[909 rows x 14 columns]"
      ]
     },
     "execution_count": 17,
     "metadata": {},
     "output_type": "execute_result"
    }
   ],
   "source": [
    "bank_customers[bank_customers['Tenure'].isnull()]"
   ]
  },
  {
   "cell_type": "code",
   "execution_count": 18,
   "metadata": {},
   "outputs": [],
   "source": [
    "# fill missing values in 'Tenure' with mean value\n",
    "#bank_customers['Tenure'].fillna(bank_customers['Tenure'].mean(), inplace=True)\n",
    "\n",
    "#Filling missing values with 0. It may be that the customer does'nt have a deposit\n",
    "bank_customers['Tenure'].fillna(0, inplace=True)\n",
    "\n",
    "\n",
    "# Drop features that not required\n",
    "bank_customers.drop(['Surname','CustomerId','RowNumber'], axis=1, inplace=True)"
   ]
  },
  {
   "cell_type": "code",
   "execution_count": 19,
   "metadata": {},
   "outputs": [],
   "source": [
    "# check range of values to evaluate if the feature can be boolean \n",
    "bank_customers.Gender.unique()\n",
    "# Change type to boolean\n",
    "bank_customers.Gender = bank_customers.Gender.astype(bool)\n"
   ]
  },
  {
   "cell_type": "code",
   "execution_count": 20,
   "metadata": {},
   "outputs": [],
   "source": [
    "# check range of values to evaluate if the feature can be boolean \n",
    "bank_customers.HasCrCard.unique()\n",
    "# Change type to boolean\n",
    "bank_customers.HasCrCard = bank_customers.HasCrCard.astype(bool)\n"
   ]
  },
  {
   "cell_type": "code",
   "execution_count": 21,
   "metadata": {},
   "outputs": [],
   "source": [
    "# check range of values to evaluate if the feature can be boolean \n",
    "bank_customers.IsActiveMember.unique()\n",
    "# Change type to boolean\n",
    "bank_customers.IsActiveMember = bank_customers.IsActiveMember.astype(bool)\n"
   ]
  },
  {
   "cell_type": "code",
   "execution_count": 22,
   "metadata": {},
   "outputs": [],
   "source": [
    "# check range of values to evaluate if the feature can be boolean \n",
    "bank_customers.Exited.unique()\n",
    "# Change type to boolean\n",
    "bank_customers.Exited = bank_customers.Exited.astype(bool)\n"
   ]
  },
  {
   "cell_type": "code",
   "execution_count": 23,
   "metadata": {},
   "outputs": [
    {
     "data": {
      "text/plain": [
       "France     5014\n",
       "Germany    2509\n",
       "Spain      2477\n",
       "Name: Geography, dtype: int64"
      ]
     },
     "execution_count": 23,
     "metadata": {},
     "output_type": "execute_result"
    }
   ],
   "source": [
    "#Check the field to understand what type of it\n",
    "bank_customers.Geography.value_counts()"
   ]
  },
  {
   "cell_type": "markdown",
   "metadata": {},
   "source": [
    "'Geography' has 3 values, so it a categorical feature"
   ]
  },
  {
   "cell_type": "code",
   "execution_count": 24,
   "metadata": {},
   "outputs": [
    {
     "name": "stdout",
     "output_type": "stream",
     "text": [
      "<class 'pandas.core.frame.DataFrame'>\n",
      "RangeIndex: 10000 entries, 0 to 9999\n",
      "Data columns (total 11 columns):\n",
      "CreditScore        10000 non-null int64\n",
      "Geography          10000 non-null object\n",
      "Gender             10000 non-null bool\n",
      "Age                10000 non-null int64\n",
      "Tenure             10000 non-null float64\n",
      "Balance            10000 non-null float64\n",
      "NumOfProducts      10000 non-null int64\n",
      "HasCrCard          10000 non-null bool\n",
      "IsActiveMember     10000 non-null bool\n",
      "EstimatedSalary    10000 non-null float64\n",
      "Exited             10000 non-null bool\n",
      "dtypes: bool(4), float64(3), int64(3), object(1)\n",
      "memory usage: 586.1+ KB\n"
     ]
    }
   ],
   "source": [
    "bank_customers.info()"
   ]
  },
  {
   "cell_type": "code",
   "execution_count": 25,
   "metadata": {},
   "outputs": [],
   "source": [
    "\n",
    "# Encode the Categorical features \n",
    "Categorical_features = ['Gender','HasCrCard','IsActiveMember','Exited','Geography']\n",
    "encoder = OrdinalEncoder()\n",
    "\n",
    "bank_customers[Categorical_features] = pd.DataFrame(encoder.fit_transform(bank_customers[Categorical_features]), columns=Categorical_features)\n",
    "# Split the data into two sets:\n",
    "# training set (train)\n",
    "# validation set (valid) \n",
    "target = bank_customers['Exited']\n",
    "features = bank_customers.drop(['Exited'], axis=1)\n",
    "# Split data into train and validation\n",
    "# using stratify in order to retain the same proportion of classes in the train and valid sets\n",
    "features_train, features_valid, target_train, target_valid = train_test_split(\n",
    "    features, target, test_size=0.2, random_state=RANDOM_STATE,stratify =target)\n",
    "\n",
    "# Split data into train and test.\n",
    "# using stratify in order to retain the same proportion of classes in the train and test sets\n",
    "features_train, features_test, target_train, target_test = train_test_split(\n",
    "    features_train, target_train, test_size=0.25, random_state=RANDOM_STATE,stratify =target_train)\n"
   ]
  },
  {
   "cell_type": "code",
   "execution_count": 15,
   "metadata": {},
   "outputs": [
    {
     "name": "stdout",
     "output_type": "stream",
     "text": [
      "0.0    4777\n",
      "1.0    1223\n",
      "Name: Exited, dtype: int64\n",
      "0.0    1593\n",
      "1.0     407\n",
      "Name: Exited, dtype: int64\n",
      "0.0    1593\n",
      "1.0     407\n",
      "Name: Exited, dtype: int64\n"
     ]
    }
   ],
   "source": [
    "print(target_train.value_counts())\n",
    "print(target_valid.value_counts())\n",
    "print(target_test.value_counts())"
   ]
  },
  {
   "cell_type": "code",
   "execution_count": 16,
   "metadata": {},
   "outputs": [],
   "source": [
    "# Silence SettingWithCopyWarning \n",
    "pd.options.mode.chained_assignment = None\n",
    "\n",
    "# Standardize the numeric features\n",
    "scaler = StandardScaler()\n",
    "\n",
    "#numeric fields to scale\n",
    "numeric = ['CreditScore', 'Age', 'Tenure', 'Balance','NumOfProducts','EstimatedSalary']\n",
    "\n",
    "scaler.fit(features_train[numeric])\n",
    "features_train[numeric] = scaler.transform(features_train[numeric])\n",
    "features_valid[numeric] = scaler.transform(features_valid[numeric])\n",
    "features_test[numeric] = scaler.transform(features_test[numeric])\n"
   ]
  },
  {
   "cell_type": "code",
   "execution_count": null,
   "metadata": {},
   "outputs": [],
   "source": []
  },
  {
   "cell_type": "code",
   "execution_count": 17,
   "metadata": {},
   "outputs": [
    {
     "data": {
      "text/html": [
       "<div>\n",
       "<style scoped>\n",
       "    .dataframe tbody tr th:only-of-type {\n",
       "        vertical-align: middle;\n",
       "    }\n",
       "\n",
       "    .dataframe tbody tr th {\n",
       "        vertical-align: top;\n",
       "    }\n",
       "\n",
       "    .dataframe thead th {\n",
       "        text-align: right;\n",
       "    }\n",
       "</style>\n",
       "<table border=\"1\" class=\"dataframe\">\n",
       "  <thead>\n",
       "    <tr style=\"text-align: right;\">\n",
       "      <th></th>\n",
       "      <th>CreditScore</th>\n",
       "      <th>Geography</th>\n",
       "      <th>Gender</th>\n",
       "      <th>Age</th>\n",
       "      <th>Tenure</th>\n",
       "      <th>Balance</th>\n",
       "      <th>NumOfProducts</th>\n",
       "      <th>HasCrCard</th>\n",
       "      <th>IsActiveMember</th>\n",
       "      <th>EstimatedSalary</th>\n",
       "    </tr>\n",
       "  </thead>\n",
       "  <tbody>\n",
       "    <tr>\n",
       "      <td>1552</td>\n",
       "      <td>1.343580</td>\n",
       "      <td>0.0</td>\n",
       "      <td>0.0</td>\n",
       "      <td>-0.468981</td>\n",
       "      <td>-1.134997</td>\n",
       "      <td>-1.220573</td>\n",
       "      <td>-0.916018</td>\n",
       "      <td>1.0</td>\n",
       "      <td>1.0</td>\n",
       "      <td>-0.615290</td>\n",
       "    </tr>\n",
       "    <tr>\n",
       "      <td>7865</td>\n",
       "      <td>0.424586</td>\n",
       "      <td>2.0</td>\n",
       "      <td>0.0</td>\n",
       "      <td>-0.849532</td>\n",
       "      <td>1.435292</td>\n",
       "      <td>-1.220573</td>\n",
       "      <td>0.797767</td>\n",
       "      <td>0.0</td>\n",
       "      <td>1.0</td>\n",
       "      <td>-1.550885</td>\n",
       "    </tr>\n",
       "    <tr>\n",
       "      <td>1595</td>\n",
       "      <td>0.280025</td>\n",
       "      <td>0.0</td>\n",
       "      <td>0.0</td>\n",
       "      <td>-0.088430</td>\n",
       "      <td>-0.171138</td>\n",
       "      <td>-1.220573</td>\n",
       "      <td>0.797767</td>\n",
       "      <td>1.0</td>\n",
       "      <td>0.0</td>\n",
       "      <td>1.522022</td>\n",
       "    </tr>\n",
       "    <tr>\n",
       "      <td>3321</td>\n",
       "      <td>0.331654</td>\n",
       "      <td>0.0</td>\n",
       "      <td>0.0</td>\n",
       "      <td>-0.849532</td>\n",
       "      <td>1.435292</td>\n",
       "      <td>-1.220573</td>\n",
       "      <td>0.797767</td>\n",
       "      <td>1.0</td>\n",
       "      <td>1.0</td>\n",
       "      <td>-1.705708</td>\n",
       "    </tr>\n",
       "    <tr>\n",
       "      <td>609</td>\n",
       "      <td>0.496866</td>\n",
       "      <td>1.0</td>\n",
       "      <td>0.0</td>\n",
       "      <td>1.148359</td>\n",
       "      <td>-0.813711</td>\n",
       "      <td>0.555849</td>\n",
       "      <td>-0.916018</td>\n",
       "      <td>1.0</td>\n",
       "      <td>0.0</td>\n",
       "      <td>-0.239839</td>\n",
       "    </tr>\n",
       "    <tr>\n",
       "      <td>832</td>\n",
       "      <td>0.847943</td>\n",
       "      <td>1.0</td>\n",
       "      <td>0.0</td>\n",
       "      <td>-0.944670</td>\n",
       "      <td>-1.134997</td>\n",
       "      <td>1.248933</td>\n",
       "      <td>-0.916018</td>\n",
       "      <td>1.0</td>\n",
       "      <td>1.0</td>\n",
       "      <td>0.665804</td>\n",
       "    </tr>\n",
       "    <tr>\n",
       "      <td>8163</td>\n",
       "      <td>1.219671</td>\n",
       "      <td>1.0</td>\n",
       "      <td>0.0</td>\n",
       "      <td>0.862946</td>\n",
       "      <td>-1.456283</td>\n",
       "      <td>0.744863</td>\n",
       "      <td>-0.916018</td>\n",
       "      <td>1.0</td>\n",
       "      <td>1.0</td>\n",
       "      <td>-1.315065</td>\n",
       "    </tr>\n",
       "    <tr>\n",
       "      <td>7982</td>\n",
       "      <td>-1.082978</td>\n",
       "      <td>1.0</td>\n",
       "      <td>0.0</td>\n",
       "      <td>-0.564119</td>\n",
       "      <td>-1.134997</td>\n",
       "      <td>0.900015</td>\n",
       "      <td>0.797767</td>\n",
       "      <td>0.0</td>\n",
       "      <td>1.0</td>\n",
       "      <td>0.125416</td>\n",
       "    </tr>\n",
       "    <tr>\n",
       "      <td>775</td>\n",
       "      <td>-0.019423</td>\n",
       "      <td>0.0</td>\n",
       "      <td>0.0</td>\n",
       "      <td>-0.564119</td>\n",
       "      <td>0.792720</td>\n",
       "      <td>0.938675</td>\n",
       "      <td>-0.916018</td>\n",
       "      <td>1.0</td>\n",
       "      <td>1.0</td>\n",
       "      <td>0.292351</td>\n",
       "    </tr>\n",
       "    <tr>\n",
       "      <td>4120</td>\n",
       "      <td>0.166441</td>\n",
       "      <td>1.0</td>\n",
       "      <td>0.0</td>\n",
       "      <td>-1.705771</td>\n",
       "      <td>-1.134997</td>\n",
       "      <td>0.728796</td>\n",
       "      <td>0.797767</td>\n",
       "      <td>1.0</td>\n",
       "      <td>1.0</td>\n",
       "      <td>-0.006847</td>\n",
       "    </tr>\n",
       "  </tbody>\n",
       "</table>\n",
       "</div>"
      ],
      "text/plain": [
       "      CreditScore  Geography  Gender       Age    Tenure   Balance  \\\n",
       "1552     1.343580        0.0     0.0 -0.468981 -1.134997 -1.220573   \n",
       "7865     0.424586        2.0     0.0 -0.849532  1.435292 -1.220573   \n",
       "1595     0.280025        0.0     0.0 -0.088430 -0.171138 -1.220573   \n",
       "3321     0.331654        0.0     0.0 -0.849532  1.435292 -1.220573   \n",
       "609      0.496866        1.0     0.0  1.148359 -0.813711  0.555849   \n",
       "832      0.847943        1.0     0.0 -0.944670 -1.134997  1.248933   \n",
       "8163     1.219671        1.0     0.0  0.862946 -1.456283  0.744863   \n",
       "7982    -1.082978        1.0     0.0 -0.564119 -1.134997  0.900015   \n",
       "775     -0.019423        0.0     0.0 -0.564119  0.792720  0.938675   \n",
       "4120     0.166441        1.0     0.0 -1.705771 -1.134997  0.728796   \n",
       "\n",
       "      NumOfProducts  HasCrCard  IsActiveMember  EstimatedSalary  \n",
       "1552      -0.916018        1.0             1.0        -0.615290  \n",
       "7865       0.797767        0.0             1.0        -1.550885  \n",
       "1595       0.797767        1.0             0.0         1.522022  \n",
       "3321       0.797767        1.0             1.0        -1.705708  \n",
       "609       -0.916018        1.0             0.0        -0.239839  \n",
       "832       -0.916018        1.0             1.0         0.665804  \n",
       "8163      -0.916018        1.0             1.0        -1.315065  \n",
       "7982       0.797767        0.0             1.0         0.125416  \n",
       "775       -0.916018        1.0             1.0         0.292351  \n",
       "4120       0.797767        1.0             1.0        -0.006847  "
      ]
     },
     "execution_count": 17,
     "metadata": {},
     "output_type": "execute_result"
    }
   ],
   "source": [
    "#explorer the data\n",
    "features_train.sample(10)"
   ]
  },
  {
   "cell_type": "code",
   "execution_count": null,
   "metadata": {},
   "outputs": [],
   "source": []
  },
  {
   "cell_type": "markdown",
   "metadata": {},
   "source": [
    "## Examine the balance of classes.  <br>    Train the model without taking into account the imbalance. "
   ]
  },
  {
   "cell_type": "code",
   "execution_count": 18,
   "metadata": {},
   "outputs": [
    {
     "data": {
      "text/plain": [
       "0.0    7963\n",
       "1.0    2037\n",
       "Name: Exited, dtype: int64"
      ]
     },
     "execution_count": 18,
     "metadata": {},
     "output_type": "execute_result"
    }
   ],
   "source": [
    "class_count = bank_customers['Exited'].value_counts()\n",
    "class_count"
   ]
  },
  {
   "cell_type": "code",
   "execution_count": 19,
   "metadata": {},
   "outputs": [
    {
     "name": "stdout",
     "output_type": "stream",
     "text": [
      "0.0    0.7963\n",
      "1.0    0.2037\n",
      "Name: Exited, dtype: float64\n"
     ]
    }
   ],
   "source": [
    "class_frequency = bank_customers['Exited'].value_counts(normalize=True)\n",
    "print(class_frequency)"
   ]
  },
  {
   "cell_type": "code",
   "execution_count": 20,
   "metadata": {},
   "outputs": [
    {
     "data": {
      "image/png": "[encoded data removed]",
      "text/plain": [
       "<Figure size 432x288 with 1 Axes>"
      ]
     },
     "metadata": {
      "needs_background": "light"
     },
     "output_type": "display_data"
    }
   ],
   "source": [
    "# plot a graph of frequency\n",
    "class_frequency.plot(kind='bar');\n"
   ]
  },
  {
   "cell_type": "code",
   "execution_count": 21,
   "metadata": {},
   "outputs": [
    {
     "name": "stdout",
     "output_type": "stream",
     "text": [
      "Accuracy: 0.777\n"
     ]
    }
   ],
   "source": [
    "model = DecisionTreeClassifier(random_state=RANDOM_STATE)\n",
    "model.fit(features_train,target_train)\n",
    "\n",
    "predicted_valid = model.predict(features_valid)\n",
    "accuracy_valid = accuracy_score(target_valid,predicted_valid)\n",
    "\n",
    "print('Accuracy:', accuracy_valid )"
   ]
  },
  {
   "cell_type": "code",
   "execution_count": 22,
   "metadata": {},
   "outputs": [
    {
     "name": "stdout",
     "output_type": "stream",
     "text": [
      "TN = 1350 \n",
      "TP = 204 \n",
      "FN = 203 \n",
      "FP = 243\n"
     ]
    }
   ],
   "source": [
    "tn, fp, fn, tp = confusion_matrix(target_valid,predicted_valid).ravel()\n",
    "print('TN = {} \\nTP = {} \\nFN = {} \\nFP = {}'.format(tn, tp, fn, fp))"
   ]
  },
  {
   "cell_type": "code",
   "execution_count": 23,
   "metadata": {},
   "outputs": [
    {
     "data": {
      "text/plain": [
       "0.5012285012285013"
      ]
     },
     "execution_count": 23,
     "metadata": {},
     "output_type": "execute_result"
    }
   ],
   "source": [
    "recall_score(target_valid,predicted_valid)"
   ]
  },
  {
   "cell_type": "markdown",
   "metadata": {},
   "source": [
    "We want the recall value to be close to 1. <br>\n",
    "The value we got is 0.466  <br>\n",
    "The model needs to be checked and fixed."
   ]
  },
  {
   "cell_type": "code",
   "execution_count": 24,
   "metadata": {},
   "outputs": [
    {
     "data": {
      "text/plain": [
       "0.4563758389261745"
      ]
     },
     "execution_count": 24,
     "metadata": {},
     "output_type": "execute_result"
    }
   ],
   "source": [
    "precision_score(target_valid,predicted_valid)"
   ]
  },
  {
   "cell_type": "markdown",
   "metadata": {},
   "source": [
    "We want the precision value to be close to 1. <br>\n",
    "The value we got is 0.473   <br>\n",
    "The model needs to be checked and fixed."
   ]
  },
  {
   "cell_type": "code",
   "execution_count": 25,
   "metadata": {},
   "outputs": [
    {
     "data": {
      "text/plain": [
       "0.47775175644028106"
      ]
     },
     "execution_count": 25,
     "metadata": {},
     "output_type": "execute_result"
    }
   ],
   "source": [
    "f1_score(target_valid,predicted_valid)"
   ]
  },
  {
   "cell_type": "markdown",
   "metadata": {},
   "source": [
    "We want the f1_score value to be close to 1. <br>\n",
    "The value we got is 0.469   <br>\n",
    "The model needs to be checked and fixed."
   ]
  },
  {
   "cell_type": "code",
   "execution_count": 26,
   "metadata": {},
   "outputs": [
    {
     "data": {
      "text/plain": [
       "0.6743430641735726"
      ]
     },
     "execution_count": 26,
     "metadata": {},
     "output_type": "execute_result"
    }
   ],
   "source": [
    "# roc_auc calc\n",
    "probabilities_valid = model.predict_proba(features_valid)\n",
    "probabilities_one_valid = probabilities_valid[:, 1]\n",
    "\n",
    "roc_auc_score(target_valid,probabilities_one_valid)\n"
   ]
  },
  {
   "cell_type": "code",
   "execution_count": 42,
   "metadata": {
    "scrolled": true
   },
   "outputs": [
    {
     "name": "stdout",
     "output_type": "stream",
     "text": [
      "[('n_estimators=12,max_depth=9 ', 0.863),\n",
      " ('n_estimators=4,max_depth=9 ', 0.8625),\n",
      " ('n_estimators=23,max_depth=9 ', 0.8625),\n",
      " ('n_estimators=9,max_depth=9 ', 0.862),\n",
      " ('n_estimators=6,max_depth=9 ', 0.862),\n",
      " ('n_estimators=25,max_depth=9 ', 0.862),\n",
      " ('n_estimators=21,max_depth=9 ', 0.862),\n",
      " ('n_estimators=20,max_depth=9 ', 0.862),\n",
      " ('n_estimators=19,max_depth=9 ', 0.862),\n",
      " ('n_estimators=5,max_depth=9 ', 0.8615),\n",
      " ('n_estimators=26,max_depth=9 ', 0.8615),\n",
      " ('n_estimators=23,max_depth=10 ', 0.8615),\n",
      " ('n_estimators=17,max_depth=9 ', 0.8615),\n",
      " ('n_estimators=13,max_depth=9 ', 0.8615),\n",
      " ('n_estimators=10,max_depth=9 ', 0.8615),\n",
      " ('n_estimators=36,max_depth=9 ', 0.861),\n",
      " ('n_estimators=35,max_depth=9 ', 0.861),\n",
      " ('n_estimators=32,max_depth=9 ', 0.861),\n",
      " ('n_estimators=28,max_depth=9 ', 0.861),\n",
      " ('n_estimators=27,max_depth=9 ', 0.861),\n",
      " ('n_estimators=24,max_depth=9 ', 0.861),\n",
      " ('n_estimators=24,max_depth=10 ', 0.861),\n",
      " ('n_estimators=22,max_depth=9 ', 0.861),\n",
      " ('n_estimators=18,max_depth=9 ', 0.861),\n",
      " ('n_estimators=16,max_depth=9 ', 0.861),\n",
      " ('n_estimators=15,max_depth=9 ', 0.861),\n",
      " ('n_estimators=15,max_depth=10 ', 0.861),\n",
      " ('n_estimators=11,max_depth=9 ', 0.861),\n",
      " ('n_estimators=33,max_depth=9 ', 0.8605),\n",
      " ('n_estimators=31,max_depth=9 ', 0.8605),\n",
      " ('n_estimators=29,max_depth=9 ', 0.8605),\n",
      " ('n_estimators=21,max_depth=10 ', 0.8605),\n",
      " ('n_estimators=45,max_depth=9 ', 0.86),\n",
      " ('n_estimators=39,max_depth=9 ', 0.86),\n",
      " ('n_estimators=38,max_depth=9 ', 0.86),\n",
      " ('n_estimators=35,max_depth=10 ', 0.86),\n",
      " ('n_estimators=33,max_depth=10 ', 0.86),\n",
      " ('n_estimators=30,max_depth=9 ', 0.86),\n",
      " ('n_estimators=30,max_depth=10 ', 0.86),\n",
      " ('n_estimators=29,max_depth=10 ', 0.86),\n",
      " ('n_estimators=26,max_depth=10 ', 0.86),\n",
      " ('n_estimators=23,max_depth=8 ', 0.86),\n",
      " ('n_estimators=17,max_depth=10 ', 0.86),\n",
      " ('n_estimators=14,max_depth=9 ', 0.86),\n",
      " ('n_estimators=50,max_depth=9 ', 0.8595),\n",
      " ('n_estimators=49,max_depth=9 ', 0.8595),\n",
      " ('n_estimators=48,max_depth=9 ', 0.8595),\n",
      " ('n_estimators=44,max_depth=9 ', 0.8595),\n",
      " ('n_estimators=43,max_depth=9 ', 0.8595),\n",
      " ('n_estimators=42,max_depth=9 ', 0.8595),\n",
      " ('n_estimators=40,max_depth=9 ', 0.8595),\n",
      " ('n_estimators=37,max_depth=9 ', 0.8595),\n",
      " ('n_estimators=37,max_depth=10 ', 0.8595),\n",
      " ('n_estimators=36,max_depth=10 ', 0.8595),\n",
      " ('n_estimators=35,max_depth=7 ', 0.8595),\n",
      " ('n_estimators=34,max_depth=9 ', 0.8595),\n",
      " ('n_estimators=34,max_depth=10 ', 0.8595),\n",
      " ('n_estimators=28,max_depth=10 ', 0.8595),\n",
      " ('n_estimators=25,max_depth=7 ', 0.8595),\n",
      " ('n_estimators=22,max_depth=10 ', 0.8595),\n",
      " ('n_estimators=18,max_depth=10 ', 0.8595),\n",
      " ('n_estimators=14,max_depth=10 ', 0.8595),\n",
      " ('n_estimators=13,max_depth=10 ', 0.8595),\n",
      " ('n_estimators=47,max_depth=9 ', 0.859),\n",
      " ('n_estimators=41,max_depth=9 ', 0.859),\n",
      " ('n_estimators=38,max_depth=7 ', 0.859),\n",
      " ('n_estimators=32,max_depth=7 ', 0.859),\n",
      " ('n_estimators=32,max_depth=10 ', 0.859),\n",
      " ('n_estimators=3,max_depth=9 ', 0.859),\n",
      " ('n_estimators=27,max_depth=10 ', 0.859),\n",
      " ('n_estimators=25,max_depth=8 ', 0.859),\n",
      " ('n_estimators=24,max_depth=8 ', 0.859),\n",
      " ('n_estimators=23,max_depth=7 ', 0.859),\n",
      " ('n_estimators=22,max_depth=8 ', 0.859),\n",
      " ('n_estimators=20,max_depth=10 ', 0.859),\n",
      " ('n_estimators=8,max_depth=9 ', 0.8585),\n",
      " ('n_estimators=7,max_depth=9 ', 0.8585),\n",
      " ('n_estimators=46,max_depth=9 ', 0.8585),\n",
      " ('n_estimators=46,max_depth=10 ', 0.8585),\n",
      " ('n_estimators=40,max_depth=7 ', 0.8585),\n",
      " ('n_estimators=39,max_depth=7 ', 0.8585),\n",
      " ('n_estimators=34,max_depth=7 ', 0.8585),\n",
      " ('n_estimators=31,max_depth=10 ', 0.8585),\n",
      " ('n_estimators=26,max_depth=7 ', 0.8585),\n",
      " ('n_estimators=16,max_depth=10 ', 0.8585),\n",
      " ('n_estimators=11,max_depth=10 ', 0.8585),\n",
      " ('n_estimators=9,max_depth=10 ', 0.858),\n",
      " ('n_estimators=48,max_depth=10 ', 0.858),\n",
      " ('n_estimators=41,max_depth=8 ', 0.858),\n",
      " ('n_estimators=39,max_depth=10 ', 0.858),\n",
      " ('n_estimators=38,max_depth=8 ', 0.858),\n",
      " ('n_estimators=38,max_depth=10 ', 0.858),\n",
      " ('n_estimators=33,max_depth=7 ', 0.858),\n",
      " ('n_estimators=31,max_depth=7 ', 0.858),\n",
      " ('n_estimators=29,max_depth=7 ', 0.858),\n",
      " ('n_estimators=25,max_depth=10 ', 0.858),\n",
      " ('n_estimators=24,max_depth=7 ', 0.858),\n",
      " ('n_estimators=22,max_depth=7 ', 0.858),\n",
      " ('n_estimators=19,max_depth=10 ', 0.858),\n",
      " ('n_estimators=14,max_depth=8 ', 0.858),\n",
      " ('n_estimators=12,max_depth=10 ', 0.858),\n",
      " ('n_estimators=10,max_depth=10 ', 0.858),\n",
      " ('n_estimators=50,max_depth=7 ', 0.8575),\n",
      " ('n_estimators=5,max_depth=7 ', 0.8575),\n",
      " ('n_estimators=44,max_depth=8 ', 0.8575),\n",
      " ('n_estimators=44,max_depth=10 ', 0.8575),\n",
      " ('n_estimators=43,max_depth=8 ', 0.8575),\n",
      " ('n_estimators=43,max_depth=10 ', 0.8575),\n",
      " ('n_estimators=42,max_depth=7 ', 0.8575),\n",
      " ('n_estimators=42,max_depth=10 ', 0.8575),\n",
      " ('n_estimators=41,max_depth=7 ', 0.8575),\n",
      " ('n_estimators=40,max_depth=8 ', 0.8575),\n",
      " ('n_estimators=40,max_depth=10 ', 0.8575),\n",
      " ('n_estimators=37,max_depth=7 ', 0.8575),\n",
      " ('n_estimators=35,max_depth=8 ', 0.8575),\n",
      " ('n_estimators=30,max_depth=8 ', 0.8575),\n",
      " ('n_estimators=30,max_depth=7 ', 0.8575),\n",
      " ('n_estimators=27,max_depth=8 ', 0.8575),\n",
      " ('n_estimators=27,max_depth=7 ', 0.8575),\n",
      " ('n_estimators=26,max_depth=8 ', 0.8575),\n",
      " ('n_estimators=21,max_depth=7 ', 0.8575),\n",
      " ('n_estimators=8,max_depth=7 ', 0.857),\n",
      " ('n_estimators=7,max_depth=8 ', 0.857),\n",
      " ('n_estimators=50,max_depth=8 ', 0.857),\n",
      " ('n_estimators=50,max_depth=10 ', 0.857),\n",
      " ('n_estimators=47,max_depth=8 ', 0.857),\n",
      " ('n_estimators=47,max_depth=7 ', 0.857),\n",
      " ('n_estimators=47,max_depth=10 ', 0.857),\n",
      " ('n_estimators=46,max_depth=7 ', 0.857),\n",
      " ('n_estimators=45,max_depth=7 ', 0.857),\n",
      " ('n_estimators=45,max_depth=10 ', 0.857),\n",
      " ('n_estimators=42,max_depth=8 ', 0.857),\n",
      " ('n_estimators=41,max_depth=10 ', 0.857),\n",
      " ('n_estimators=39,max_depth=8 ', 0.857),\n",
      " ('n_estimators=37,max_depth=8 ', 0.857),\n",
      " ('n_estimators=29,max_depth=8 ', 0.857),\n",
      " ('n_estimators=20,max_depth=7 ', 0.857),\n",
      " ('n_estimators=10,max_depth=8 ', 0.857),\n",
      " ('n_estimators=9,max_depth=8 ', 0.8565),\n",
      " ('n_estimators=6,max_depth=7 ', 0.8565),\n",
      " ('n_estimators=49,max_depth=7 ', 0.8565),\n",
      " ('n_estimators=49,max_depth=10 ', 0.8565),\n",
      " ('n_estimators=48,max_depth=8 ', 0.8565),\n",
      " ('n_estimators=48,max_depth=7 ', 0.8565),\n",
      " ('n_estimators=46,max_depth=8 ', 0.8565),\n",
      " ('n_estimators=36,max_depth=7 ', 0.8565),\n",
      " ('n_estimators=34,max_depth=8 ', 0.8565),\n",
      " ('n_estimators=33,max_depth=8 ', 0.8565),\n",
      " ('n_estimators=32,max_depth=8 ', 0.8565),\n",
      " ('n_estimators=31,max_depth=8 ', 0.8565),\n",
      " ('n_estimators=28,max_depth=8 ', 0.8565),\n",
      " ('n_estimators=28,max_depth=7 ', 0.8565),\n",
      " ('n_estimators=21,max_depth=8 ', 0.8565),\n",
      " ('n_estimators=20,max_depth=8 ', 0.8565),\n",
      " ('n_estimators=13,max_depth=8 ', 0.8565),\n",
      " ('n_estimators=12,max_depth=8 ', 0.8565),\n",
      " ('n_estimators=8,max_depth=10 ', 0.856),\n",
      " ('n_estimators=7,max_depth=10 ', 0.856),\n",
      " ('n_estimators=49,max_depth=8 ', 0.856),\n",
      " ('n_estimators=45,max_depth=8 ', 0.856),\n",
      " ('n_estimators=44,max_depth=7 ', 0.856),\n",
      " ('n_estimators=36,max_depth=8 ', 0.856),\n",
      " ('n_estimators=16,max_depth=8 ', 0.856),\n",
      " ('n_estimators=15,max_depth=8 ', 0.856),\n",
      " ('n_estimators=7,max_depth=7 ', 0.8555),\n",
      " ('n_estimators=6,max_depth=8 ', 0.8555),\n",
      " ('n_estimators=19,max_depth=8 ', 0.8555),\n",
      " ('n_estimators=18,max_depth=8 ', 0.8555),\n",
      " ('n_estimators=11,max_depth=8 ', 0.8555),\n",
      " ('n_estimators=8,max_depth=8 ', 0.855),\n",
      " ('n_estimators=5,max_depth=10 ', 0.855),\n",
      " ('n_estimators=47,max_depth=5 ', 0.855),\n",
      " ('n_estimators=44,max_depth=5 ', 0.855),\n",
      " ('n_estimators=36,max_depth=5 ', 0.855),\n",
      " ('n_estimators=35,max_depth=5 ', 0.855),\n",
      " ('n_estimators=24,max_depth=5 ', 0.855),\n",
      " ('n_estimators=21,max_depth=5 ', 0.855),\n",
      " ('n_estimators=20,max_depth=5 ', 0.855),\n",
      " ('n_estimators=19,max_depth=7 ', 0.855),\n",
      " ('n_estimators=18,max_depth=7 ', 0.855),\n",
      " ('n_estimators=17,max_depth=8 ', 0.855),\n",
      " ('n_estimators=11,max_depth=7 ', 0.855),\n",
      " ('n_estimators=6,max_depth=6 ', 0.8545),\n",
      " ('n_estimators=49,max_depth=5 ', 0.8545),\n",
      " ('n_estimators=43,max_depth=7 ', 0.8545),\n",
      " ('n_estimators=43,max_depth=5 ', 0.8545),\n",
      " ('n_estimators=33,max_depth=5 ', 0.8545),\n",
      " ('n_estimators=32,max_depth=5 ', 0.8545),\n",
      " ('n_estimators=25,max_depth=5 ', 0.8545),\n",
      " ('n_estimators=22,max_depth=5 ', 0.8545),\n",
      " ('n_estimators=16,max_depth=7 ', 0.8545),\n",
      " ('n_estimators=14,max_depth=7 ', 0.8545),\n",
      " ('n_estimators=10,max_depth=7 ', 0.8545),\n",
      " ('n_estimators=5,max_depth=8 ', 0.854),\n",
      " ('n_estimators=48,max_depth=5 ', 0.854),\n",
      " ('n_estimators=42,max_depth=5 ', 0.854),\n",
      " ('n_estimators=41,max_depth=5 ', 0.854),\n",
      " ('n_estimators=23,max_depth=5 ', 0.854),\n",
      " ('n_estimators=19,max_depth=5 ', 0.854),\n",
      " ('n_estimators=18,max_depth=5 ', 0.854),\n",
      " ('n_estimators=15,max_depth=7 ', 0.854),\n",
      " ('n_estimators=14,max_depth=6 ', 0.854),\n",
      " ('n_estimators=9,max_depth=7 ', 0.8535),\n",
      " ('n_estimators=6,max_depth=10 ', 0.8535),\n",
      " ('n_estimators=50,max_depth=5 ', 0.8535),\n",
      " ('n_estimators=46,max_depth=5 ', 0.8535),\n",
      " ('n_estimators=45,max_depth=5 ', 0.8535),\n",
      " ('n_estimators=40,max_depth=6 ', 0.8535),\n",
      " ('n_estimators=40,max_depth=5 ', 0.8535),\n",
      " ('n_estimators=4,max_depth=7 ', 0.8535),\n",
      " ('n_estimators=4,max_depth=10 ', 0.8535),\n",
      " ('n_estimators=38,max_depth=5 ', 0.8535),\n",
      " ('n_estimators=34,max_depth=5 ', 0.8535),\n",
      " ('n_estimators=31,max_depth=5 ', 0.8535),\n",
      " ('n_estimators=28,max_depth=5 ', 0.8535),\n",
      " ('n_estimators=27,max_depth=5 ', 0.8535),\n",
      " ('n_estimators=17,max_depth=7 ', 0.8535),\n",
      " ('n_estimators=16,max_depth=5 ', 0.8535),\n",
      " ('n_estimators=13,max_depth=7 ', 0.8535),\n",
      " ('n_estimators=12,max_depth=6 ', 0.8535),\n",
      " ('n_estimators=10,max_depth=6 ', 0.8535),\n",
      " ('n_estimators=9,max_depth=6 ', 0.853),\n",
      " ('n_estimators=50,max_depth=6 ', 0.853),\n",
      " ('n_estimators=49,max_depth=6 ', 0.853),\n",
      " ('n_estimators=48,max_depth=6 ', 0.853),\n",
      " ('n_estimators=47,max_depth=6 ', 0.853),\n",
      " ('n_estimators=46,max_depth=6 ', 0.853),\n",
      " ('n_estimators=37,max_depth=5 ', 0.853),\n",
      " ('n_estimators=31,max_depth=6 ', 0.853),\n",
      " ('n_estimators=30,max_depth=6 ', 0.853),\n",
      " ('n_estimators=30,max_depth=5 ', 0.853),\n",
      " ('n_estimators=3,max_depth=7 ', 0.853),\n",
      " ('n_estimators=27,max_depth=6 ', 0.853),\n",
      " ('n_estimators=26,max_depth=5 ', 0.853),\n",
      " ('n_estimators=25,max_depth=6 ', 0.853),\n",
      " ('n_estimators=17,max_depth=5 ', 0.853),\n",
      " ('n_estimators=12,max_depth=7 ', 0.853),\n",
      " ('n_estimators=45,max_depth=6 ', 0.8525),\n",
      " ('n_estimators=44,max_depth=6 ', 0.8525),\n",
      " ('n_estimators=42,max_depth=6 ', 0.8525),\n",
      " ('n_estimators=41,max_depth=6 ', 0.8525),\n",
      " ('n_estimators=39,max_depth=6 ', 0.8525),\n",
      " ('n_estimators=39,max_depth=5 ', 0.8525),\n",
      " ('n_estimators=38,max_depth=6 ', 0.8525),\n",
      " ('n_estimators=33,max_depth=6 ', 0.8525),\n",
      " ('n_estimators=29,max_depth=5 ', 0.8525),\n",
      " ('n_estimators=26,max_depth=6 ', 0.8525),\n",
      " ('n_estimators=23,max_depth=6 ', 0.8525),\n",
      " ('n_estimators=13,max_depth=6 ', 0.8525),\n",
      " ('n_estimators=13,max_depth=5 ', 0.8525),\n",
      " ('n_estimators=10,max_depth=5 ', 0.8525),\n",
      " ('n_estimators=8,max_depth=6 ', 0.852),\n",
      " ('n_estimators=7,max_depth=6 ', 0.852),\n",
      " ('n_estimators=43,max_depth=6 ', 0.852),\n",
      " ('n_estimators=37,max_depth=6 ', 0.852),\n",
      " ('n_estimators=36,max_depth=6 ', 0.852),\n",
      " ('n_estimators=35,max_depth=6 ', 0.852),\n",
      " ('n_estimators=3,max_depth=6 ', 0.852),\n",
      " ('n_estimators=29,max_depth=6 ', 0.852),\n",
      " ('n_estimators=22,max_depth=6 ', 0.852),\n",
      " ('n_estimators=20,max_depth=6 ', 0.852),\n",
      " ('n_estimators=14,max_depth=5 ', 0.852),\n",
      " ('n_estimators=12,max_depth=5 ', 0.852),\n",
      " ('n_estimators=7,max_depth=5 ', 0.8515),\n",
      " ('n_estimators=4,max_depth=8 ', 0.8515),\n",
      " ('n_estimators=34,max_depth=6 ', 0.8515),\n",
      " ('n_estimators=32,max_depth=6 ', 0.8515),\n",
      " ('n_estimators=2,max_depth=7 ', 0.8515),\n",
      " ('n_estimators=19,max_depth=6 ', 0.8515),\n",
      " ('n_estimators=18,max_depth=6 ', 0.8515),\n",
      " ('n_estimators=15,max_depth=6 ', 0.8515),\n",
      " ('n_estimators=11,max_depth=6 ', 0.8515),\n",
      " ('n_estimators=28,max_depth=6 ', 0.851),\n",
      " ('n_estimators=24,max_depth=6 ', 0.851),\n",
      " ('n_estimators=21,max_depth=6 ', 0.851),\n",
      " ('n_estimators=17,max_depth=6 ', 0.851),\n",
      " ('n_estimators=16,max_depth=6 ', 0.851),\n",
      " ('n_estimators=15,max_depth=5 ', 0.851),\n",
      " ('n_estimators=11,max_depth=5 ', 0.851),\n",
      " ('n_estimators=5,max_depth=6 ', 0.8505),\n",
      " ('n_estimators=5,max_depth=5 ', 0.8505),\n",
      " ('n_estimators=44,max_depth=4 ', 0.8505),\n",
      " ('n_estimators=4,max_depth=6 ', 0.8505),\n",
      " ('n_estimators=3,max_depth=8 ', 0.8505),\n",
      " ('n_estimators=9,max_depth=5 ', 0.8495),\n",
      " ('n_estimators=47,max_depth=4 ', 0.8495),\n",
      " ('n_estimators=46,max_depth=4 ', 0.849),\n",
      " ('n_estimators=8,max_depth=5 ', 0.8485),\n",
      " ('n_estimators=45,max_depth=4 ', 0.8485),\n",
      " ('n_estimators=48,max_depth=4 ', 0.848),\n",
      " ('n_estimators=43,max_depth=4 ', 0.848),\n",
      " ('n_estimators=38,max_depth=4 ', 0.848),\n",
      " ('n_estimators=37,max_depth=4 ', 0.848),\n",
      " ('n_estimators=42,max_depth=4 ', 0.8475),\n",
      " ('n_estimators=6,max_depth=5 ', 0.847),\n",
      " ('n_estimators=50,max_depth=4 ', 0.847),\n",
      " ('n_estimators=41,max_depth=4 ', 0.847),\n",
      " ('n_estimators=49,max_depth=4 ', 0.8465),\n",
      " ('n_estimators=39,max_depth=4 ', 0.8465),\n",
      " ('n_estimators=36,max_depth=4 ', 0.846),\n",
      " ('n_estimators=3,max_depth=10 ', 0.846),\n",
      " ('n_estimators=2,max_depth=6 ', 0.846),\n",
      " ('n_estimators=4,max_depth=5 ', 0.8455),\n",
      " ('n_estimators=1,max_depth=6 ', 0.8455),\n",
      " ('n_estimators=40,max_depth=4 ', 0.8445),\n",
      " ('n_estimators=2,max_depth=9 ', 0.8445),\n",
      " ('n_estimators=1,max_depth=9 ', 0.8445),\n",
      " ('n_estimators=35,max_depth=4 ', 0.844),\n",
      " ('n_estimators=34,max_depth=4 ', 0.844),\n",
      " ('n_estimators=33,max_depth=4 ', 0.844),\n",
      " ('n_estimators=27,max_depth=4 ', 0.844),\n",
      " ('n_estimators=25,max_depth=4 ', 0.8435),\n",
      " ('n_estimators=1,max_depth=7 ', 0.8435),\n",
      " ('n_estimators=24,max_depth=4 ', 0.843),\n",
      " ('n_estimators=23,max_depth=4 ', 0.843),\n",
      " ('n_estimators=22,max_depth=4 ', 0.843),\n",
      " ('n_estimators=21,max_depth=4 ', 0.843),\n",
      " ('n_estimators=32,max_depth=4 ', 0.8425),\n",
      " ('n_estimators=28,max_depth=4 ', 0.842),\n",
      " ('n_estimators=20,max_depth=4 ', 0.842),\n",
      " ('n_estimators=31,max_depth=4 ', 0.8415),\n",
      " ('n_estimators=29,max_depth=4 ', 0.8415),\n",
      " ('n_estimators=26,max_depth=4 ', 0.8415),\n",
      " ('n_estimators=19,max_depth=4 ', 0.841),\n",
      " ('n_estimators=18,max_depth=4 ', 0.841),\n",
      " ('n_estimators=15,max_depth=4 ', 0.841),\n",
      " ('n_estimators=14,max_depth=4 ', 0.841),\n",
      " ('n_estimators=17,max_depth=4 ', 0.8405),\n",
      " ('n_estimators=16,max_depth=4 ', 0.8405),\n",
      " ('n_estimators=13,max_depth=4 ', 0.8405),\n",
      " ('n_estimators=12,max_depth=4 ', 0.8405),\n",
      " ('n_estimators=11,max_depth=4 ', 0.8405),\n",
      " ('n_estimators=2,max_depth=8 ', 0.84),\n",
      " ('n_estimators=30,max_depth=4 ', 0.8395),\n",
      " ('n_estimators=10,max_depth=4 ', 0.8375),\n",
      " ('n_estimators=9,max_depth=4 ', 0.8365),\n",
      " ('n_estimators=2,max_depth=10 ', 0.8355),\n",
      " ('n_estimators=3,max_depth=5 ', 0.8335),\n",
      " ('n_estimators=4,max_depth=4 ', 0.8325),\n",
      " ('n_estimators=8,max_depth=4 ', 0.8315),\n",
      " ('n_estimators=5,max_depth=4 ', 0.8315),\n",
      " ('n_estimators=7,max_depth=4 ', 0.8295),\n",
      " ('n_estimators=1,max_depth=10 ', 0.8285),\n",
      " ('n_estimators=1,max_depth=4 ', 0.8275),\n",
      " ('n_estimators=1,max_depth=8 ', 0.8265),\n",
      " ('n_estimators=4,max_depth=3 ', 0.8245),\n",
      " ('n_estimators=20,max_depth=3 ', 0.8235),\n",
      " ('n_estimators=2,max_depth=4 ', 0.823),\n",
      " ('n_estimators=5,max_depth=3 ', 0.8225),\n",
      " ('n_estimators=12,max_depth=3 ', 0.8225),\n",
      " ('n_estimators=14,max_depth=3 ', 0.822),\n",
      " ('n_estimators=39,max_depth=3 ', 0.8215),\n",
      " ('n_estimators=38,max_depth=3 ', 0.8215),\n",
      " ('n_estimators=37,max_depth=3 ', 0.8215),\n",
      " ('n_estimators=30,max_depth=2 ', 0.821),\n",
      " ('n_estimators=29,max_depth=2 ', 0.821),\n",
      " ('n_estimators=28,max_depth=2 ', 0.821),\n",
      " ('n_estimators=24,max_depth=2 ', 0.821),\n",
      " ('n_estimators=23,max_depth=2 ', 0.821),\n",
      " ('n_estimators=40,max_depth=3 ', 0.8205),\n",
      " ('n_estimators=36,max_depth=3 ', 0.8205),\n",
      " ('n_estimators=27,max_depth=2 ', 0.8205),\n",
      " ('n_estimators=26,max_depth=2 ', 0.8205),\n",
      " ('n_estimators=25,max_depth=2 ', 0.8205),\n",
      " ('n_estimators=20,max_depth=2 ', 0.8205),\n",
      " ('n_estimators=19,max_depth=2 ', 0.8205),\n",
      " ('n_estimators=17,max_depth=2 ', 0.8205),\n",
      " ('n_estimators=10,max_depth=3 ', 0.8205),\n",
      " ('n_estimators=35,max_depth=3 ', 0.82),\n",
      " ('n_estimators=32,max_depth=2 ', 0.82),\n",
      " ('n_estimators=3,max_depth=4 ', 0.82),\n",
      " ('n_estimators=21,max_depth=2 ', 0.82),\n",
      " ('n_estimators=2,max_depth=5 ', 0.82),\n",
      " ('n_estimators=18,max_depth=2 ', 0.82),\n",
      " ('n_estimators=50,max_depth=3 ', 0.8195),\n",
      " ('n_estimators=34,max_depth=3 ', 0.8195),\n",
      " ('n_estimators=32,max_depth=3 ', 0.8195),\n",
      " ('n_estimators=30,max_depth=3 ', 0.8195),\n",
      " ('n_estimators=16,max_depth=3 ', 0.8195),\n",
      " ('n_estimators=15,max_depth=3 ', 0.8195),\n",
      " ('n_estimators=13,max_depth=3 ', 0.8195),\n",
      " ('n_estimators=41,max_depth=3 ', 0.819),\n",
      " ('n_estimators=25,max_depth=3 ', 0.819),\n",
      " ('n_estimators=24,max_depth=3 ', 0.819),\n",
      " ('n_estimators=22,max_depth=2 ', 0.819),\n",
      " ('n_estimators=2,max_depth=3 ', 0.819),\n",
      " ('n_estimators=11,max_depth=3 ', 0.819),\n",
      " ('n_estimators=6,max_depth=4 ', 0.8185),\n",
      " ('n_estimators=42,max_depth=3 ', 0.8185),\n",
      " ('n_estimators=33,max_depth=3 ', 0.8185),\n",
      " ('n_estimators=28,max_depth=3 ', 0.8185),\n",
      " ('n_estimators=26,max_depth=3 ', 0.8185),\n",
      " ('n_estimators=22,max_depth=3 ', 0.8185),\n",
      " ('n_estimators=17,max_depth=3 ', 0.8185),\n",
      " ('n_estimators=49,max_depth=3 ', 0.818),\n",
      " ('n_estimators=48,max_depth=3 ', 0.818),\n",
      " ('n_estimators=47,max_depth=3 ', 0.818),\n",
      " ('n_estimators=45,max_depth=3 ', 0.818),\n",
      " ('n_estimators=43,max_depth=3 ', 0.818),\n",
      " ('n_estimators=38,max_depth=2 ', 0.818),\n",
      " ('n_estimators=37,max_depth=2 ', 0.818),\n",
      " ('n_estimators=31,max_depth=3 ', 0.818),\n",
      " ('n_estimators=29,max_depth=3 ', 0.818),\n",
      " ('n_estimators=27,max_depth=3 ', 0.818),\n",
      " ('n_estimators=21,max_depth=3 ', 0.818),\n",
      " ('n_estimators=19,max_depth=3 ', 0.818),\n",
      " ('n_estimators=16,max_depth=2 ', 0.818),\n",
      " ('n_estimators=15,max_depth=2 ', 0.818),\n",
      " ('n_estimators=13,max_depth=2 ', 0.818),\n",
      " ('n_estimators=39,max_depth=2 ', 0.8175),\n",
      " ('n_estimators=33,max_depth=2 ', 0.8175),\n",
      " ('n_estimators=23,max_depth=3 ', 0.8175),\n",
      " ('n_estimators=46,max_depth=3 ', 0.817),\n",
      " ('n_estimators=44,max_depth=3 ', 0.817),\n",
      " ('n_estimators=42,max_depth=2 ', 0.817),\n",
      " ('n_estimators=40,max_depth=2 ', 0.817),\n",
      " ('n_estimators=36,max_depth=2 ', 0.817),\n",
      " ('n_estimators=35,max_depth=2 ', 0.817),\n",
      " ('n_estimators=34,max_depth=2 ', 0.817),\n",
      " ('n_estimators=31,max_depth=2 ', 0.817),\n",
      " ('n_estimators=46,max_depth=2 ', 0.8165),\n",
      " ('n_estimators=45,max_depth=2 ', 0.8165),\n",
      " ('n_estimators=44,max_depth=2 ', 0.8165),\n",
      " ('n_estimators=43,max_depth=2 ', 0.8165),\n",
      " ('n_estimators=41,max_depth=2 ', 0.8165),\n",
      " ('n_estimators=14,max_depth=2 ', 0.8165),\n",
      " ('n_estimators=47,max_depth=2 ', 0.816),\n",
      " ('n_estimators=12,max_depth=2 ', 0.8155),\n",
      " ('n_estimators=18,max_depth=3 ', 0.815),\n",
      " ('n_estimators=49,max_depth=2 ', 0.8145),\n",
      " ('n_estimators=48,max_depth=2 ', 0.8145),\n",
      " ('n_estimators=1,max_depth=3 ', 0.8145),\n",
      " ('n_estimators=1,max_depth=2 ', 0.814),\n",
      " ('n_estimators=50,max_depth=2 ', 0.8135),\n",
      " ('n_estimators=9,max_depth=3 ', 0.8125),\n",
      " ('n_estimators=7,max_depth=3 ', 0.8125),\n",
      " ('n_estimators=4,max_depth=2 ', 0.8125),\n",
      " ('n_estimators=3,max_depth=3 ', 0.8125),\n",
      " ('n_estimators=8,max_depth=3 ', 0.812),\n",
      " ('n_estimators=11,max_depth=2 ', 0.811),\n",
      " ('n_estimators=6,max_depth=3 ', 0.8105),\n",
      " ('n_estimators=10,max_depth=2 ', 0.81),\n",
      " ('n_estimators=8,max_depth=2 ', 0.809),\n",
      " ('n_estimators=1,max_depth=5 ', 0.809),\n",
      " ('n_estimators=5,max_depth=2 ', 0.8075),\n",
      " ('n_estimators=9,max_depth=2 ', 0.807),\n",
      " ('n_estimators=13,max_depth=1 ', 0.803),\n",
      " ('n_estimators=7,max_depth=2 ', 0.8025),\n",
      " ('n_estimators=16,max_depth=1 ', 0.8015),\n",
      " ('n_estimators=14,max_depth=1 ', 0.8015),\n",
      " ('n_estimators=2,max_depth=2 ', 0.797),\n",
      " ('n_estimators=9,max_depth=1 ', 0.7965),\n",
      " ('n_estimators=8,max_depth=1 ', 0.7965),\n",
      " ('n_estimators=7,max_depth=1 ', 0.7965),\n",
      " ('n_estimators=6,max_depth=2 ', 0.7965),\n",
      " ('n_estimators=6,max_depth=1 ', 0.7965),\n",
      " ('n_estimators=50,max_depth=1 ', 0.7965),\n",
      " ('n_estimators=5,max_depth=1 ', 0.7965),\n",
      " ('n_estimators=49,max_depth=1 ', 0.7965),\n",
      " ('n_estimators=48,max_depth=1 ', 0.7965),\n",
      " ('n_estimators=47,max_depth=1 ', 0.7965),\n",
      " ('n_estimators=46,max_depth=1 ', 0.7965),\n",
      " ('n_estimators=45,max_depth=1 ', 0.7965),\n",
      " ('n_estimators=44,max_depth=1 ', 0.7965),\n",
      " ('n_estimators=43,max_depth=1 ', 0.7965),\n",
      " ('n_estimators=42,max_depth=1 ', 0.7965),\n",
      " ('n_estimators=41,max_depth=1 ', 0.7965),\n",
      " ('n_estimators=40,max_depth=1 ', 0.7965),\n",
      " ('n_estimators=4,max_depth=1 ', 0.7965),\n",
      " ('n_estimators=39,max_depth=1 ', 0.7965),\n",
      " ('n_estimators=38,max_depth=1 ', 0.7965),\n",
      " ('n_estimators=37,max_depth=1 ', 0.7965),\n",
      " ('n_estimators=36,max_depth=1 ', 0.7965),\n",
      " ('n_estimators=35,max_depth=1 ', 0.7965),\n",
      " ('n_estimators=34,max_depth=1 ', 0.7965),\n",
      " ('n_estimators=33,max_depth=1 ', 0.7965),\n",
      " ('n_estimators=32,max_depth=1 ', 0.7965),\n",
      " ('n_estimators=31,max_depth=1 ', 0.7965),\n",
      " ('n_estimators=30,max_depth=1 ', 0.7965),\n",
      " ('n_estimators=3,max_depth=2 ', 0.7965),\n",
      " ('n_estimators=3,max_depth=1 ', 0.7965),\n",
      " ('n_estimators=29,max_depth=1 ', 0.7965),\n",
      " ('n_estimators=28,max_depth=1 ', 0.7965),\n",
      " ('n_estimators=27,max_depth=1 ', 0.7965),\n",
      " ('n_estimators=26,max_depth=1 ', 0.7965),\n",
      " ('n_estimators=25,max_depth=1 ', 0.7965),\n",
      " ('n_estimators=24,max_depth=1 ', 0.7965),\n",
      " ('n_estimators=23,max_depth=1 ', 0.7965),\n",
      " ('n_estimators=22,max_depth=1 ', 0.7965),\n",
      " ('n_estimators=21,max_depth=1 ', 0.7965),\n",
      " ('n_estimators=20,max_depth=1 ', 0.7965),\n",
      " ('n_estimators=2,max_depth=1 ', 0.7965),\n",
      " ('n_estimators=19,max_depth=1 ', 0.7965),\n",
      " ('n_estimators=18,max_depth=1 ', 0.7965),\n",
      " ('n_estimators=17,max_depth=1 ', 0.7965),\n",
      " ('n_estimators=15,max_depth=1 ', 0.7965),\n",
      " ('n_estimators=12,max_depth=1 ', 0.7965),\n",
      " ('n_estimators=11,max_depth=1 ', 0.7965),\n",
      " ('n_estimators=10,max_depth=1 ', 0.7965),\n",
      " ('n_estimators=1,max_depth=1 ', 0.7965)]\n"
     ]
    }
   ],
   "source": [
    "# RandomForest model\n",
    "\n",
    "# Create dictionary\n",
    "result_dict={}\n",
    "#TODO to 51\n",
    "for estimator in range(1,51,1):\n",
    "    for depth in range(1,11,1):\n",
    "        model = RandomForestClassifier(n_estimators=estimator, max_depth=depth, random_state=RANDOM_STATE)\n",
    "        model.fit(features_train, target_train)\n",
    "        predicted_valid = model.predict(features_valid)\n",
    "        \n",
    "        key = 'n_estimators={},max_depth={} '.format(estimator,depth)\n",
    "        result_dict[key] =  accuracy_score(target_valid,predicted_valid)\n",
    "  \n",
    "\n",
    "# Sort the dictionary by values       \n",
    "sorted_results = sorted(result_dict.items(),key = lambda kv:(kv[1], kv[0]),reverse=True)\n",
    "\n",
    "# Print the results in ascending order\n",
    "pprint.pprint(sorted_results)\n",
    "\n",
    "\n"
   ]
  },
  {
   "cell_type": "markdown",
   "metadata": {},
   "source": [
    "We will chose n_estimators=12, max_depth=9 -> accuracy=0.863.<br>\n",
    "its give the best result with minimum n_estimators and max_depth<br>"
   ]
  },
  {
   "cell_type": "code",
   "execution_count": 57,
   "metadata": {
    "scrolled": true
   },
   "outputs": [
    {
     "name": "stdout",
     "output_type": "stream",
     "text": [
      "accuracy:0.863\n",
      "F1:0.5580645161290323\n",
      "ROC_AUC:0.8603187162509195\n"
     ]
    }
   ],
   "source": [
    "# RandomForest with the best hyper params \n",
    "model = RandomForestClassifier(n_estimators=12, max_depth=9, random_state=RANDOM_STATE)\n",
    "model.fit(features_train, target_train)\n",
    "predicted_valid = model.predict(features_valid)\n",
    "print('accuracy:{}'.format(accuracy_score(target_valid,predicted_valid)))\n",
    "print('F1:{}'.format(f1_score(target_valid, predicted_valid)))\n",
    "# roc_auc calc\n",
    "probabilities_valid = model.predict_proba(features_valid)\n",
    "probabilities_one_valid = probabilities_valid[:, 1]\n",
    "\n",
    "print('ROC_AUC:{}'.format(roc_auc_score(target_valid,probabilities_one_valid)))\n"
   ]
  },
  {
   "cell_type": "code",
   "execution_count": 58,
   "metadata": {
    "scrolled": true
   },
   "outputs": [
    {
     "name": "stdout",
     "output_type": "stream",
     "text": [
      "accuracy: 0.808\n",
      "F1: 0.2350597609561753\n",
      "ROC_AUC:0.7511348019822596\n"
     ]
    }
   ],
   "source": [
    "#LogisticRegression model\n",
    "model = LogisticRegression(random_state=RANDOM_STATE,solver='liblinear')\n",
    "model.fit(features_train, target_train)\n",
    "predicted_valid = model.predict(features_valid)\n",
    "print('accuracy:', accuracy_score(target_valid,predicted_valid ))\n",
    "print('F1:', f1_score(target_valid, predicted_valid))\n",
    "# roc_auc calc\n",
    "probabilities_valid = model.predict_proba(features_valid)\n",
    "probabilities_one_valid = probabilities_valid[:, 1]\n",
    "\n",
    "print('ROC_AUC:{}'.format(roc_auc_score(target_valid,probabilities_one_valid)))\n"
   ]
  },
  {
   "cell_type": "markdown",
   "metadata": {},
   "source": [
    "### Conclusion"
   ]
  },
  {
   "cell_type": "markdown",
   "metadata": {},
   "source": [
    "- We have imbalance classes: <br>\n",
    "     class 0 with 7963 (0.7963 / 79.6% of the data) <br>\n",
    "     class 1 with 2037(0.2037 / 20.3% of the data) <br>\n",
    "- recall_score of the DecisionTree is 0.466 <br>\n",
    "- precision_score of the DecisionTree is 0.4738 <br>\n",
    "- DecisionTree\n",
    "    - accuracy = 0.777 <br>\n",
    "    - F1 = 0.477 <br>\n",
    "    - ROC_AUC = 0.674\n",
    "- RandomForest\n",
    "    - n_estimators=12 , max_depth=9\n",
    "    - accuracy = 0.863 <br>\n",
    "    - F1 = 0.559 <br>\n",
    "    - ROC_AUC = 0.860  <br>\n",
    "- LogisticRegression    \n",
    "    - accuracy: 0.808\n",
    "    - F1: 0.235\n",
    "    - ROC_AUC:0.751 <br>\n",
    "<b>The modeles needs to be checked and fixed.</b>"
   ]
  },
  {
   "cell_type": "code",
   "execution_count": null,
   "metadata": {},
   "outputs": [],
   "source": []
  },
  {
   "cell_type": "markdown",
   "metadata": {},
   "source": [
    "##  Improve the quality of the model."
   ]
  },
  {
   "cell_type": "markdown",
   "metadata": {},
   "source": [
    "###  Class Weight Adjustment"
   ]
  },
  {
   "cell_type": "code",
   "execution_count": 59,
   "metadata": {},
   "outputs": [
    {
     "name": "stdout",
     "output_type": "stream",
     "text": [
      "f1_score: 0.4724602203182375\n",
      "ROC_AUC:0.6689902537360165\n"
     ]
    }
   ],
   "source": [
    "# DecisionTreeClassifier model\n",
    "model = DecisionTreeClassifier(class_weight='balanced', random_state=RANDOM_STATE)\n",
    "model.fit(features_train, target_train)\n",
    "\n",
    "predicted_valid = model.predict(features_valid)\n",
    "accuracy_valid = accuracy_score(target_valid,predicted_valid)\n",
    "\n",
    "print('f1_score:', f1_score(target_valid,predicted_valid))\n",
    "# roc_auc calc\n",
    "probabilities_valid = model.predict_proba(features_valid)\n",
    "probabilities_one_valid = probabilities_valid[:, 1]\n",
    "\n",
    "print('ROC_AUC:{}'.format(roc_auc_score(target_valid,probabilities_one_valid)))\n"
   ]
  },
  {
   "cell_type": "code",
   "execution_count": 46,
   "metadata": {
    "scrolled": true
   },
   "outputs": [
    {
     "name": "stdout",
     "output_type": "stream",
     "text": [
      "The best F1 params\n",
      "[('n_estimators=26,max_depth=9 ', 0.6352413019079686),\n",
      " ('n_estimators=49,max_depth=8 ', 0.634989200863931),\n",
      " ('n_estimators=48,max_depth=8 ', 0.6343042071197411),\n",
      " ('n_estimators=39,max_depth=8 ', 0.6343042071197411),\n",
      " ('n_estimators=28,max_depth=9 ', 0.6338185890257558),\n",
      " ('n_estimators=34,max_depth=8 ', 0.6337271750805586),\n",
      " ('n_estimators=28,max_depth=8 ', 0.6332622601279317),\n",
      " ('n_estimators=17,max_depth=8 ', 0.6331550802139037),\n",
      " ('n_estimators=27,max_depth=9 ', 0.632996632996633),\n",
      " ('n_estimators=47,max_depth=8 ', 0.6329386437029063),\n",
      " ('n_estimators=46,max_depth=8 ', 0.6329386437029063),\n",
      " ('n_estimators=38,max_depth=8 ', 0.632829373650108),\n",
      " ('n_estimators=50,max_depth=8 ', 0.6326086956521739),\n",
      " ('n_estimators=26,max_depth=8 ', 0.6324786324786326),\n",
      " ('n_estimators=16,max_depth=8 ', 0.632368703108253),\n",
      " ('n_estimators=15,max_depth=8 ', 0.6321467098166127),\n",
      " ('n_estimators=40,max_depth=8 ', 0.632034632034632),\n",
      " ('n_estimators=29,max_depth=8 ', 0.6319148936170211),\n",
      " ('n_estimators=43,max_depth=8 ', 0.6318082788671023),\n",
      " ('n_estimators=18,max_depth=8 ', 0.6314677930306231),\n",
      " ('n_estimators=30,max_depth=9 ', 0.6314606741573033),\n",
      " ('n_estimators=27,max_depth=8 ', 0.6312433581296493),\n",
      " ('n_estimators=25,max_depth=9 ', 0.6311111111111112),\n",
      " ('n_estimators=45,max_depth=8 ', 0.630669546436285),\n",
      " ('n_estimators=44,max_depth=8 ', 0.6305525460455037),\n",
      " ('n_estimators=21,max_depth=9 ', 0.6300448430493275),\n",
      " ('n_estimators=23,max_depth=8 ', 0.6297872340425532),\n",
      " ('n_estimators=24,max_depth=8 ', 0.6293558606124604),\n",
      " ('n_estimators=31,max_depth=9 ', 0.6293393057110862),\n",
      " ('n_estimators=29,max_depth=9 ', 0.6292134831460674),\n",
      " ('n_estimators=36,max_depth=8 ', 0.6291891891891892),\n",
      " ('n_estimators=35,max_depth=8 ', 0.6291891891891892),\n",
      " ('n_estimators=14,max_depth=8 ', 0.6291891891891892),\n",
      " ('n_estimators=23,max_depth=9 ', 0.6287625418060201),\n",
      " ('n_estimators=42,max_depth=8 ', 0.6283856988082341),\n",
      " ('n_estimators=31,max_depth=8 ', 0.6282051282051282),\n",
      " ('n_estimators=22,max_depth=9 ', 0.6279329608938548),\n",
      " ('n_estimators=19,max_depth=8 ', 0.6276595744680851),\n",
      " ('n_estimators=41,max_depth=8 ', 0.6275787187839305),\n",
      " ('n_estimators=21,max_depth=8 ', 0.6271186440677965),\n",
      " ('n_estimators=43,max_depth=9 ', 0.6270022883295195),\n",
      " ('n_estimators=20,max_depth=8 ', 0.626865671641791),\n",
      " ('n_estimators=33,max_depth=8 ', 0.6264800861141011),\n",
      " ('n_estimators=25,max_depth=8 ', 0.6264550264550265),\n",
      " ('n_estimators=19,max_depth=9 ', 0.6259711431742508),\n",
      " ('n_estimators=22,max_depth=8 ', 0.6257928118393236),\n",
      " ('n_estimators=30,max_depth=8 ', 0.6254002134471718),\n",
      " ('n_estimators=42,max_depth=9 ', 0.6252873563218391),\n",
      " ('n_estimators=33,max_depth=9 ', 0.6252821670428893),\n",
      " ('n_estimators=24,max_depth=9 ', 0.6251390433815351),\n",
      " ('n_estimators=37,max_depth=8 ', 0.6245919477693145),\n",
      " ('n_estimators=35,max_depth=9 ', 0.6244343891402714),\n",
      " ('n_estimators=32,max_depth=9 ', 0.6244343891402714),\n",
      " ('n_estimators=39,max_depth=9 ', 0.624),\n",
      " ('n_estimators=38,max_depth=9 ', 0.624),\n",
      " ('n_estimators=44,max_depth=9 ', 0.6231386025200458),\n",
      " ('n_estimators=32,max_depth=8 ', 0.6228448275862069),\n",
      " ('n_estimators=37,max_depth=9 ', 0.6227272727272728),\n",
      " ('n_estimators=17,max_depth=9 ', 0.6223224351747463),\n",
      " ('n_estimators=13,max_depth=8 ', 0.6221743810548979),\n",
      " ('n_estimators=36,max_depth=9 ', 0.6221719457013575),\n",
      " ('n_estimators=18,max_depth=9 ', 0.6217732884399552),\n",
      " ('n_estimators=41,max_depth=9 ', 0.6217142857142858),\n",
      " ('n_estimators=40,max_depth=9 ', 0.6217142857142858),\n",
      " ('n_estimators=34,max_depth=9 ', 0.6214689265536724),\n",
      " ('n_estimators=16,max_depth=9 ', 0.6214689265536724),\n",
      " ('n_estimators=50,max_depth=7 ', 0.6205450733752621),\n",
      " ('n_estimators=47,max_depth=7 ', 0.6205450733752621),\n",
      " ('n_estimators=48,max_depth=7 ', 0.6203995793901157),\n",
      " ('n_estimators=20,max_depth=9 ', 0.620380739081747),\n",
      " ('n_estimators=50,max_depth=9 ', 0.6202964652223489),\n",
      " ('n_estimators=45,max_depth=9 ', 0.620137299771167),\n",
      " ('n_estimators=14,max_depth=9 ', 0.6199095022624436),\n",
      " ('n_estimators=46,max_depth=9 ', 0.6198156682027649),\n",
      " ('n_estimators=43,max_depth=7 ', 0.6194503171247357),\n",
      " ('n_estimators=13,max_depth=9 ', 0.6193693693693693),\n",
      " ('n_estimators=48,max_depth=9 ', 0.6192660550458717),\n",
      " ('n_estimators=48,max_depth=6 ', 0.6189516129032259),\n",
      " ('n_estimators=15,max_depth=7 ', 0.6187961985216474),\n",
      " ('n_estimators=38,max_depth=6 ', 0.6186186186186187),\n",
      " ('n_estimators=42,max_depth=7 ', 0.618490967056323),\n",
      " ('n_estimators=49,max_depth=7 ', 0.6184486373165619),\n",
      " ('n_estimators=50,max_depth=6 ', 0.6181818181818182),\n",
      " ('n_estimators=28,max_depth=6 ', 0.6178535606820461),\n",
      " ('n_estimators=15,max_depth=9 ', 0.6178128523111612),\n",
      " ('n_estimators=45,max_depth=7 ', 0.6176470588235294),\n",
      " ('n_estimators=31,max_depth=6 ', 0.6175298804780875),\n",
      " ('n_estimators=37,max_depth=10 ', 0.6174016686531585),\n",
      " ('n_estimators=49,max_depth=9 ', 0.6173120728929385),\n",
      " ('n_estimators=33,max_depth=6 ', 0.6170854271356785),\n",
      " ('n_estimators=40,max_depth=7 ', 0.6170212765957447),\n",
      " ('n_estimators=49,max_depth=6 ', 0.6169354838709677),\n",
      " ('n_estimators=27,max_depth=10 ', 0.616822429906542),\n",
      " ('n_estimators=46,max_depth=7 ', 0.6163522012578617),\n",
      " ('n_estimators=44,max_depth=7 ', 0.6161934805467929),\n",
      " ('n_estimators=26,max_depth=10 ', 0.6159250585480093),\n",
      " ('n_estimators=41,max_depth=7 ', 0.6158730158730159),\n",
      " ('n_estimators=17,max_depth=7 ', 0.6158730158730159),\n",
      " ('n_estimators=42,max_depth=6 ', 0.6158536585365854),\n",
      " ('n_estimators=30,max_depth=10 ', 0.6157461809635723),\n",
      " ('n_estimators=39,max_depth=6 ', 0.6156941649899397),\n",
      " ('n_estimators=34,max_depth=6 ', 0.6156941649899397),\n",
      " ('n_estimators=29,max_depth=6 ', 0.6155378486055777),\n",
      " ('n_estimators=35,max_depth=6 ', 0.6153846153846154),\n",
      " ('n_estimators=49,max_depth=10 ', 0.6153846153846153),\n",
      " ('n_estimators=37,max_depth=6 ', 0.6152304609218436),\n",
      " ('n_estimators=31,max_depth=10 ', 0.6152019002375296),\n",
      " ('n_estimators=47,max_depth=9 ', 0.615028901734104),\n",
      " ('n_estimators=46,max_depth=6 ', 0.6149193548387096),\n",
      " ('n_estimators=16,max_depth=7 ', 0.6149003147953829),\n",
      " ('n_estimators=41,max_depth=10 ', 0.6148325358851674),\n",
      " ('n_estimators=32,max_depth=10 ', 0.6144721233689204),\n",
      " ('n_estimators=28,max_depth=10 ', 0.6143024618991794),\n",
      " ('n_estimators=47,max_depth=6 ', 0.6143001007049345),\n",
      " ('n_estimators=35,max_depth=10 ', 0.6142857142857143),\n",
      " ('n_estimators=23,max_depth=5 ', 0.6141575274177469),\n",
      " ('n_estimators=44,max_depth=6 ', 0.6141414141414141),\n",
      " ('n_estimators=47,max_depth=10 ', 0.6140979689366787),\n",
      " ('n_estimators=23,max_depth=7 ', 0.6140904311251314),\n",
      " ('n_estimators=36,max_depth=6 ', 0.614),\n",
      " ('n_estimators=32,max_depth=6 ', 0.614),\n",
      " ('n_estimators=41,max_depth=6 ', 0.6139817629179332),\n",
      " ('n_estimators=33,max_depth=7 ', 0.6137787056367432),\n",
      " ('n_estimators=43,max_depth=6 ', 0.6135216952573159),\n",
      " ('n_estimators=33,max_depth=10 ', 0.613365155131265),\n",
      " ('n_estimators=27,max_depth=6 ', 0.6132264529058116),\n",
      " ('n_estimators=45,max_depth=10 ', 0.6129807692307692),\n",
      " ('n_estimators=36,max_depth=7 ', 0.6129707112970711),\n",
      " ('n_estimators=34,max_depth=7 ', 0.6129707112970711),\n",
      " ('n_estimators=45,max_depth=6 ', 0.6129032258064516),\n",
      " ('n_estimators=18,max_depth=7 ', 0.6126687435098651),\n",
      " ('n_estimators=34,max_depth=10 ', 0.6124401913875597),\n",
      " ('n_estimators=16,max_depth=6 ', 0.6122860020140987),\n",
      " ('n_estimators=48,max_depth=10 ', 0.6122448979591837),\n",
      " ('n_estimators=10,max_depth=9 ', 0.6122448979591837),\n",
      " ('n_estimators=14,max_depth=7 ', 0.6118143459915613),\n",
      " ('n_estimators=40,max_depth=6 ', 0.6116700201207242),\n",
      " ('n_estimators=30,max_depth=6 ', 0.6115537848605578),\n",
      " ('n_estimators=26,max_depth=6 ', 0.6113886113886113),\n",
      " ('n_estimators=39,max_depth=7 ', 0.611344537815126),\n",
      " ('n_estimators=12,max_depth=8 ', 0.6112311015118791),\n",
      " ('n_estimators=15,max_depth=10 ', 0.6111111111111112),\n",
      " ('n_estimators=12,max_depth=9 ', 0.6108597285067874),\n",
      " ('n_estimators=20,max_depth=10 ', 0.6108490566037736),\n",
      " ('n_estimators=7,max_depth=8 ', 0.6108048511576626),\n",
      " ('n_estimators=24,max_depth=6 ', 0.6103379721669979),\n",
      " ('n_estimators=24,max_depth=7 ', 0.6102403343782654),\n",
      " ('n_estimators=19,max_depth=7 ', 0.6102403343782654),\n",
      " ('n_estimators=24,max_depth=5 ', 0.6101694915254238),\n",
      " ('n_estimators=18,max_depth=10 ', 0.6101295641931684),\n",
      " ('n_estimators=29,max_depth=7 ', 0.6097814776274714),\n",
      " ('n_estimators=23,max_depth=10 ', 0.6097271648873072),\n",
      " ('n_estimators=29,max_depth=10 ', 0.6096131301289566),\n",
      " ('n_estimators=22,max_depth=7 ', 0.6095238095238095),\n",
      " ('n_estimators=50,max_depth=10 ', 0.6094316807738814),\n",
      " ('n_estimators=31,max_depth=7 ', 0.6091476091476091),\n",
      " ('n_estimators=46,max_depth=10 ', 0.6091127098321344),\n",
      " ('n_estimators=39,max_depth=10 ', 0.6091127098321344),\n",
      " ('n_estimators=42,max_depth=10 ', 0.6087990487514863),\n",
      " ('n_estimators=17,max_depth=10 ', 0.6087990487514863),\n",
      " ('n_estimators=21,max_depth=7 ', 0.6086044071353619),\n",
      " ('n_estimators=18,max_depth=6 ', 0.6085232903865213),\n",
      " ('n_estimators=25,max_depth=6 ', 0.6083499005964215),\n",
      " ('n_estimators=35,max_depth=7 ', 0.6083333333333333),\n",
      " ('n_estimators=25,max_depth=10 ', 0.607981220657277),\n",
      " ('n_estimators=44,max_depth=10 ', 0.6076555023923446),\n",
      " ('n_estimators=5,max_depth=9 ', 0.6075085324232082),\n",
      " ('n_estimators=38,max_depth=10 ', 0.6074429771908764),\n",
      " ('n_estimators=22,max_depth=5 ', 0.6073926073926075),\n",
      " ('n_estimators=43,max_depth=10 ', 0.6069295101553166),\n",
      " ('n_estimators=34,max_depth=5 ', 0.6067864271457085),\n",
      " ('n_estimators=25,max_depth=7 ', 0.6065057712486883),\n",
      " ('n_estimators=19,max_depth=6 ', 0.6064769381746811),\n",
      " ('n_estimators=37,max_depth=5 ', 0.606425702811245),\n",
      " ('n_estimators=38,max_depth=7 ', 0.6063157894736841),\n",
      " ('n_estimators=36,max_depth=10 ', 0.6062052505966586),\n",
      " ('n_estimators=23,max_depth=6 ', 0.6057030481809242),\n",
      " ('n_estimators=24,max_depth=10 ', 0.6057007125890735),\n",
      " ('n_estimators=11,max_depth=10 ', 0.6055488540410132),\n",
      " ('n_estimators=20,max_depth=7 ', 0.6054852320675106),\n",
      " ('n_estimators=17,max_depth=6 ', 0.6053946053946054),\n",
      " ('n_estimators=35,max_depth=5 ', 0.6049751243781094),\n",
      " ('n_estimators=10,max_depth=8 ', 0.6049515608180839),\n",
      " ('n_estimators=28,max_depth=7 ', 0.6047966631908237),\n",
      " ('n_estimators=27,max_depth=7 ', 0.6047966631908237),\n",
      " ('n_estimators=37,max_depth=7 ', 0.604602510460251),\n",
      " ('n_estimators=21,max_depth=6 ', 0.6045589692765114),\n",
      " ('n_estimators=12,max_depth=7 ', 0.6045548654244307),\n",
      " ('n_estimators=40,max_depth=10 ', 0.6045400238948626),\n",
      " ('n_estimators=20,max_depth=5 ', 0.6044624746450306),\n",
      " ('n_estimators=25,max_depth=5 ', 0.6042296072507553),\n",
      " ('n_estimators=49,max_depth=5 ', 0.6041461006910167),\n",
      " ('n_estimators=42,max_depth=5 ', 0.603585657370518),\n",
      " ('n_estimators=41,max_depth=5 ', 0.603585657370518),\n",
      " ('n_estimators=8,max_depth=9 ', 0.6035087719298244),\n",
      " ('n_estimators=32,max_depth=7 ', 0.603305785123967),\n",
      " ('n_estimators=16,max_depth=10 ', 0.6031363088057902),\n",
      " ('n_estimators=22,max_depth=6 ', 0.6029556650246305),\n",
      " ('n_estimators=26,max_depth=7 ', 0.6029106029106029),\n",
      " ('n_estimators=11,max_depth=9 ', 0.6026785714285715),\n",
      " ('n_estimators=19,max_depth=10 ', 0.6026097271648874),\n",
      " ('n_estimators=11,max_depth=8 ', 0.6023329798515377),\n",
      " ('n_estimators=30,max_depth=7 ', 0.6020618556701031),\n",
      " ('n_estimators=21,max_depth=5 ', 0.602),\n",
      " ('n_estimators=22,max_depth=10 ', 0.6016646848989299),\n",
      " ('n_estimators=40,max_depth=5 ', 0.601593625498008),\n",
      " ('n_estimators=11,max_depth=6 ', 0.6015779092702169),\n",
      " ('n_estimators=48,max_depth=5 ', 0.6013847675568744),\n",
      " ('n_estimators=33,max_depth=5 ', 0.6013847675568744),\n",
      " ('n_estimators=36,max_depth=5 ', 0.601190476190476),\n",
      " ('n_estimators=13,max_depth=7 ', 0.601036269430052),\n",
      " ('n_estimators=38,max_depth=5 ', 0.6009950248756218),\n",
      " ('n_estimators=26,max_depth=5 ', 0.6009950248756218),\n",
      " ('n_estimators=31,max_depth=5 ', 0.6009852216748769),\n",
      " ('n_estimators=45,max_depth=5 ', 0.6005946481665015),\n",
      " ('n_estimators=9,max_depth=9 ', 0.6004618937644342),\n",
      " ('n_estimators=15,max_depth=6 ', 0.6003976143141153),\n",
      " ('n_estimators=9,max_depth=8 ', 0.6002166847237269),\n",
      " ('n_estimators=10,max_depth=6 ', 0.6001994017946162),\n",
      " ('n_estimators=43,max_depth=5 ', 0.6),\n",
      " ('n_estimators=28,max_depth=5 ', 0.6),\n",
      " ('n_estimators=44,max_depth=5 ', 0.599803343166175),\n",
      " ('n_estimators=50,max_depth=5 ', 0.5998013902681232),\n",
      " ('n_estimators=46,max_depth=5 ', 0.5998013902681232),\n",
      " ('n_estimators=32,max_depth=5 ', 0.599601593625498),\n",
      " ('n_estimators=21,max_depth=10 ', 0.5992865636147444),\n",
      " ('n_estimators=14,max_depth=10 ', 0.5992779783393501),\n",
      " ('n_estimators=20,max_depth=6 ', 0.5992141453831041),\n",
      " ('n_estimators=39,max_depth=5 ', 0.5992063492063493),\n",
      " ('n_estimators=19,max_depth=5 ', 0.5991983967935872),\n",
      " ('n_estimators=10,max_depth=7 ', 0.5991820040899796),\n",
      " ('n_estimators=47,max_depth=5 ', 0.5990049751243781),\n",
      " ('n_estimators=5,max_depth=8 ', 0.5987124463519313),\n",
      " ('n_estimators=18,max_depth=5 ', 0.5984095427435387),\n",
      " ('n_estimators=13,max_depth=6 ', 0.5980198019801981),\n",
      " ('n_estimators=8,max_depth=10 ', 0.5978391356542618),\n",
      " ('n_estimators=12,max_depth=6 ', 0.5978152929493545),\n",
      " ('n_estimators=9,max_depth=7 ', 0.5977710233029381),\n",
      " ('n_estimators=29,max_depth=5 ', 0.5976331360946746),\n",
      " ('n_estimators=10,max_depth=10 ', 0.597590361445783),\n",
      " ('n_estimators=8,max_depth=8 ', 0.5969498910675382),\n",
      " ('n_estimators=11,max_depth=7 ', 0.5964912280701755),\n",
      " ('n_estimators=13,max_depth=10 ', 0.5964071856287425),\n",
      " ('n_estimators=9,max_depth=10 ', 0.596153846153846),\n",
      " ('n_estimators=14,max_depth=6 ', 0.5958291956305859),\n",
      " ('n_estimators=17,max_depth=5 ', 0.5955383123181377),\n",
      " ('n_estimators=27,max_depth=5 ', 0.5954500494559841),\n",
      " ('n_estimators=7,max_depth=9 ', 0.5950991831971996),\n",
      " ('n_estimators=12,max_depth=10 ', 0.5949214026602176),\n",
      " ('n_estimators=30,max_depth=5 ', 0.5948616600790514),\n",
      " ('n_estimators=9,max_depth=6 ', 0.5942744323790721),\n",
      " ('n_estimators=7,max_depth=6 ', 0.5936254980079682),\n",
      " ('n_estimators=8,max_depth=6 ', 0.5930348258706468),\n",
      " ('n_estimators=15,max_depth=5 ', 0.5917387127761768),\n",
      " ('n_estimators=6,max_depth=8 ', 0.5914567360350493),\n",
      " ('n_estimators=5,max_depth=6 ', 0.5908649173955296),\n",
      " ('n_estimators=6,max_depth=6 ', 0.5905905905905906),\n",
      " ('n_estimators=14,max_depth=5 ', 0.5904761904761905),\n",
      " ('n_estimators=23,max_depth=4 ', 0.5897674418604651),\n",
      " ('n_estimators=17,max_depth=2 ', 0.5891783567134268),\n",
      " ('n_estimators=40,max_depth=4 ', 0.5883458646616542),\n",
      " ('n_estimators=13,max_depth=3 ', 0.5881188118811881),\n",
      " ('n_estimators=12,max_depth=3 ', 0.5881188118811881),\n",
      " ('n_estimators=22,max_depth=4 ', 0.5880149812734082),\n",
      " ('n_estimators=16,max_depth=5 ', 0.5871212121212122),\n",
      " ('n_estimators=6,max_depth=7 ', 0.5870646766169155),\n",
      " ('n_estimators=41,max_depth=4 ', 0.5860113421550094),\n",
      " ('n_estimators=16,max_depth=2 ', 0.5860000000000001),\n",
      " ('n_estimators=7,max_depth=10 ', 0.5854800936768151),\n",
      " ('n_estimators=6,max_depth=9 ', 0.5853080568720379),\n",
      " ('n_estimators=21,max_depth=4 ', 0.5851851851851851),\n",
      " ('n_estimators=43,max_depth=4 ', 0.5849952516619183),\n",
      " ('n_estimators=23,max_depth=2 ', 0.5849952516619183),\n",
      " ('n_estimators=38,max_depth=4 ', 0.584817244611059),\n",
      " ('n_estimators=4,max_depth=8 ', 0.5846477392218716),\n",
      " ('n_estimators=19,max_depth=4 ', 0.5846438482886216),\n",
      " ('n_estimators=39,max_depth=4 ', 0.5842696629213483),\n",
      " ('n_estimators=4,max_depth=9 ', 0.584192439862543),\n",
      " ('n_estimators=42,max_depth=4 ', 0.5838862559241705),\n",
      " ('n_estimators=32,max_depth=4 ', 0.5838739573679332),\n",
      " ('n_estimators=31,max_depth=4 ', 0.583793738489871),\n",
      " ('n_estimators=18,max_depth=2 ', 0.5836575875486382),\n",
      " ('n_estimators=46,max_depth=4 ', 0.5835694050991502),\n",
      " ('n_estimators=7,max_depth=7 ', 0.5834165834165833),\n",
      " ('n_estimators=4,max_depth=6 ', 0.5834146341463414),\n",
      " ('n_estimators=49,max_depth=4 ', 0.5833333333333334),\n",
      " ('n_estimators=14,max_depth=3 ', 0.5832512315270936),\n",
      " ('n_estimators=47,max_depth=4 ', 0.5830188679245283),\n",
      " ('n_estimators=15,max_depth=3 ', 0.5829244357212954),\n",
      " ('n_estimators=50,max_depth=4 ', 0.5825426944971537),\n",
      " ('n_estimators=48,max_depth=4 ', 0.5825426944971537),\n",
      " ('n_estimators=19,max_depth=2 ', 0.5824493731918997),\n",
      " ('n_estimators=20,max_depth=2 ', 0.5823754789272031),\n",
      " ('n_estimators=37,max_depth=4 ', 0.5823255813953488),\n",
      " ('n_estimators=45,max_depth=4 ', 0.5822306238185255),\n",
      " ('n_estimators=12,max_depth=2 ', 0.5821042281219273),\n",
      " ('n_estimators=18,max_depth=4 ', 0.5818847209515096),\n",
      " ('n_estimators=28,max_depth=4 ', 0.581651376146789),\n",
      " ('n_estimators=32,max_depth=2 ', 0.5816135084427767),\n",
      " ('n_estimators=12,max_depth=5 ', 0.5816023738872402),\n",
      " ('n_estimators=36,max_depth=4 ', 0.5814814814814815),\n",
      " ('n_estimators=35,max_depth=4 ', 0.5814814814814815),\n",
      " ('n_estimators=8,max_depth=7 ', 0.5812310797174571),\n",
      " ('n_estimators=33,max_depth=4 ', 0.5811808118081181),\n",
      " ('n_estimators=22,max_depth=2 ', 0.5809523809523809),\n",
      " ('n_estimators=20,max_depth=4 ', 0.5809435707678076),\n",
      " ('n_estimators=34,max_depth=4 ', 0.5808823529411764),\n",
      " ('n_estimators=44,max_depth=4 ', 0.5808270676691729),\n",
      " ('n_estimators=17,max_depth=4 ', 0.5807622504537204),\n",
      " ('n_estimators=24,max_depth=4 ', 0.5806451612903225),\n",
      " ('n_estimators=27,max_depth=2 ', 0.5803996194100857),\n",
      " ('n_estimators=14,max_depth=2 ', 0.5801838610827376),\n",
      " ('n_estimators=29,max_depth=4 ', 0.580110497237569),\n",
      " ('n_estimators=30,max_depth=4 ', 0.5800548947849954),\n",
      " ('n_estimators=26,max_depth=2 ', 0.5799812909260991),\n",
      " ('n_estimators=37,max_depth=3 ', 0.5796296296296296),\n",
      " ('n_estimators=25,max_depth=2 ', 0.5791940018744143),\n",
      " ('n_estimators=39,max_depth=3 ', 0.5788018433179724),\n",
      " ('n_estimators=4,max_depth=7 ', 0.5786901270772239),\n",
      " ('n_estimators=19,max_depth=3 ', 0.578544061302682),\n",
      " ('n_estimators=27,max_depth=4 ', 0.578512396694215),\n",
      " ('n_estimators=1,max_depth=6 ', 0.5781083953241232),\n",
      " ('n_estimators=30,max_depth=2 ', 0.5780669144981413),\n",
      " ('n_estimators=11,max_depth=2 ', 0.5780463242698892),\n",
      " ('n_estimators=40,max_depth=3 ', 0.5780240073868882),\n",
      " ('n_estimators=29,max_depth=3 ', 0.5780240073868882),\n",
      " ('n_estimators=38,max_depth=3 ', 0.577736890524379),\n",
      " ('n_estimators=26,max_depth=4 ', 0.5771689497716895),\n",
      " ('n_estimators=21,max_depth=2 ', 0.5771050141911069),\n",
      " ('n_estimators=16,max_depth=3 ', 0.5769603097773475),\n",
      " ('n_estimators=27,max_depth=3 ', 0.5769585253456221),\n",
      " ('n_estimators=26,max_depth=3 ', 0.5769585253456221),\n",
      " ('n_estimators=25,max_depth=3 ', 0.5767097966728281),\n",
      " ('n_estimators=24,max_depth=3 ', 0.5767097966728281),\n",
      " ('n_estimators=45,max_depth=3 ', 0.5766758494031221),\n",
      " ('n_estimators=41,max_depth=3 ', 0.576427255985267),\n",
      " ('n_estimators=35,max_depth=3 ', 0.576427255985267),\n",
      " ('n_estimators=34,max_depth=3 ', 0.576427255985267),\n",
      " ('n_estimators=11,max_depth=3 ', 0.5760322255790533),\n",
      " ('n_estimators=13,max_depth=5 ', 0.5759849906191369),\n",
      " ('n_estimators=3,max_depth=6 ', 0.5759259259259261),\n",
      " ('n_estimators=32,max_depth=3 ', 0.5758969641214351),\n",
      " ('n_estimators=10,max_depth=2 ', 0.5757575757575757),\n",
      " ('n_estimators=28,max_depth=3 ', 0.5756731662024142),\n",
      " ('n_estimators=6,max_depth=10 ', 0.5754716981132075),\n",
      " ('n_estimators=29,max_depth=2 ', 0.5753931544865865),\n",
      " ('n_estimators=28,max_depth=2 ', 0.5753931544865865),\n",
      " ('n_estimators=23,max_depth=3 ', 0.5753676470588236),\n",
      " ('n_estimators=21,max_depth=3 ', 0.575139146567718),\n",
      " ('n_estimators=46,max_depth=3 ', 0.575091575091575),\n",
      " ('n_estimators=25,max_depth=4 ', 0.575091575091575),\n",
      " ('n_estimators=48,max_depth=2 ', 0.5748393021120293),\n",
      " ('n_estimators=33,max_depth=3 ', 0.5748393021120293),\n",
      " ('n_estimators=5,max_depth=2 ', 0.5746907706945766),\n",
      " ('n_estimators=22,max_depth=3 ', 0.5746061167747916),\n",
      " ('n_estimators=49,max_depth=3 ', 0.5745654162854529),\n",
      " ('n_estimators=48,max_depth=3 ', 0.5745654162854529),\n",
      " ('n_estimators=20,max_depth=3 ', 0.5744075829383886),\n",
      " ('n_estimators=41,max_depth=2 ', 0.5743305632502309),\n",
      " ('n_estimators=43,max_depth=3 ', 0.5743119266055046),\n",
      " ('n_estimators=42,max_depth=3 ', 0.5743119266055046),\n",
      " ('n_estimators=31,max_depth=2 ', 0.5743119266055046),\n",
      " ('n_estimators=30,max_depth=3 ', 0.5740913327120224),\n",
      " ('n_estimators=40,max_depth=2 ', 0.5740740740740741),\n",
      " ('n_estimators=36,max_depth=3 ', 0.5740402193784278),\n",
      " ('n_estimators=50,max_depth=2 ', 0.5735294117647058),\n",
      " ('n_estimators=46,max_depth=2 ', 0.5735294117647058),\n",
      " ('n_estimators=12,max_depth=4 ', 0.5734896302975654),\n",
      " ('n_estimators=5,max_depth=7 ', 0.5733990147783252),\n",
      " ('n_estimators=47,max_depth=2 ', 0.5732718894009217),\n",
      " ('n_estimators=16,max_depth=4 ', 0.5732142857142858),\n",
      " ('n_estimators=10,max_depth=3 ', 0.5731108930323848),\n",
      " ('n_estimators=44,max_depth=2 ', 0.5729927007299269),\n",
      " ('n_estimators=2,max_depth=6 ', 0.5728848114169214),\n",
      " ('n_estimators=11,max_depth=5 ', 0.5727788279773156),\n",
      " ('n_estimators=50,max_depth=3 ', 0.5727355901189387),\n",
      " ('n_estimators=45,max_depth=2 ', 0.5727355901189387),\n",
      " ('n_estimators=43,max_depth=2 ', 0.5722171113155474),\n",
      " ('n_estimators=24,max_depth=2 ', 0.5722171113155474),\n",
      " ('n_estimators=47,max_depth=3 ', 0.5722120658135283),\n",
      " ('n_estimators=49,max_depth=2 ', 0.5719557195571955),\n",
      " ('n_estimators=13,max_depth=2 ', 0.5717111770524232),\n",
      " ('n_estimators=18,max_depth=3 ', 0.5717035611164581),\n",
      " ('n_estimators=17,max_depth=3 ', 0.5717017208413001),\n",
      " ('n_estimators=44,max_depth=3 ', 0.5716894977168949),\n",
      " ('n_estimators=39,max_depth=2 ', 0.5714285714285714),\n",
      " ('n_estimators=38,max_depth=2 ', 0.5711645101663586),\n",
      " ('n_estimators=31,max_depth=3 ', 0.5711645101663586),\n",
      " ('n_estimators=42,max_depth=2 ', 0.5709057639524245),\n",
      " ('n_estimators=33,max_depth=2 ', 0.5709057639524245),\n",
      " ('n_estimators=34,max_depth=2 ', 0.5703839122486289),\n",
      " ('n_estimators=1,max_depth=5 ', 0.5700099304865939),\n",
      " ('n_estimators=36,max_depth=2 ', 0.5696087352138307),\n",
      " ('n_estimators=13,max_depth=4 ', 0.5693430656934306),\n",
      " ('n_estimators=10,max_depth=5 ', 0.5689981096408316),\n",
      " ('n_estimators=8,max_depth=5 ', 0.5689488910318226),\n",
      " ('n_estimators=9,max_depth=5 ', 0.5687203791469195),\n",
      " ('n_estimators=37,max_depth=2 ', 0.5680580762250453),\n",
      " ('n_estimators=14,max_depth=4 ', 0.5678793256433007),\n",
      " ('n_estimators=8,max_depth=3 ', 0.5675934803451581),\n",
      " ('n_estimators=35,max_depth=2 ', 0.5675430643699003),\n",
      " ('n_estimators=15,max_depth=4 ', 0.5669014084507041),\n",
      " ('n_estimators=30,max_depth=1 ', 0.5649289099526066),\n",
      " ('n_estimators=6,max_depth=5 ', 0.5645933014354066),\n",
      " ('n_estimators=5,max_depth=5 ', 0.5633802816901409),\n",
      " ('n_estimators=8,max_depth=4 ', 0.5632286995515695),\n",
      " ('n_estimators=11,max_depth=4 ', 0.5628847845206685),\n",
      " ('n_estimators=7,max_depth=5 ', 0.5623836126629423),\n",
      " ('n_estimators=7,max_depth=3 ', 0.5619223659889094),\n",
      " ('n_estimators=19,max_depth=1 ', 0.5617342130065975),\n",
      " ('n_estimators=15,max_depth=2 ', 0.5616698292220114),\n",
      " ('n_estimators=9,max_depth=3 ', 0.5614714424007745),\n",
      " ('n_estimators=4,max_depth=4 ', 0.5610619469026549),\n",
      " ('n_estimators=10,max_depth=4 ', 0.5605658709106984),\n",
      " ('n_estimators=5,max_depth=10 ', 0.5596330275229358),\n",
      " ('n_estimators=16,max_depth=1 ', 0.5595463137996219),\n",
      " ('n_estimators=28,max_depth=1 ', 0.5591603053435115),\n",
      " ('n_estimators=27,max_depth=1 ', 0.5591603053435115),\n",
      " ('n_estimators=17,max_depth=1 ', 0.5577464788732394),\n",
      " ('n_estimators=9,max_depth=4 ', 0.5575757575757576),\n",
      " ('n_estimators=18,max_depth=1 ', 0.5570093457943925),\n",
      " ('n_estimators=34,max_depth=1 ', 0.5566820276497697),\n",
      " ('n_estimators=4,max_depth=10 ', 0.5561993047508691),\n",
      " ('n_estimators=33,max_depth=1 ', 0.5561694290976059),\n",
      " ('n_estimators=3,max_depth=9 ', 0.5559322033898305),\n",
      " ('n_estimators=15,max_depth=1 ', 0.5554520037278657),\n",
      " ('n_estimators=32,max_depth=1 ', 0.5553539019963702),\n",
      " ('n_estimators=4,max_depth=3 ', 0.5550329256820321),\n",
      " ('n_estimators=25,max_depth=1 ', 0.5541941564561734),\n",
      " ('n_estimators=24,max_depth=1 ', 0.5541941564561734),\n",
      " ('n_estimators=5,max_depth=4 ', 0.5539000876424189),\n",
      " ('n_estimators=29,max_depth=1 ', 0.5528007346189164),\n",
      " ('n_estimators=26,max_depth=1 ', 0.5524344569288389),\n",
      " ('n_estimators=4,max_depth=5 ', 0.5522788203753352),\n",
      " ('n_estimators=6,max_depth=3 ', 0.5520361990950227),\n",
      " ('n_estimators=3,max_depth=7 ', 0.5517241379310344),\n",
      " ('n_estimators=14,max_depth=1 ', 0.5507246376811595),\n",
      " ('n_estimators=23,max_depth=1 ', 0.5506976744186047),\n",
      " ('n_estimators=3,max_depth=5 ', 0.5498652291105122),\n",
      " ('n_estimators=31,max_depth=1 ', 0.549686660698299),\n",
      " ('n_estimators=7,max_depth=4 ', 0.548780487804878),\n",
      " ('n_estimators=9,max_depth=2 ', 0.5479688850475368),\n",
      " ('n_estimators=6,max_depth=4 ', 0.547945205479452),\n",
      " ('n_estimators=21,max_depth=1 ', 0.5449640287769785),\n",
      " ('n_estimators=38,max_depth=1 ', 0.5443478260869565),\n",
      " ('n_estimators=22,max_depth=1 ', 0.5443037974683544),\n",
      " ('n_estimators=2,max_depth=7 ', 0.5442435775451951),\n",
      " ('n_estimators=13,max_depth=1 ', 0.5441310282074614),\n",
      " ('n_estimators=12,max_depth=1 ', 0.544),\n",
      " ('n_estimators=11,max_depth=1 ', 0.544),\n",
      " ('n_estimators=10,max_depth=1 ', 0.544),\n",
      " ('n_estimators=2,max_depth=4 ', 0.5436363636363637),\n",
      " ('n_estimators=40,max_depth=1 ', 0.5435540069686411),\n",
      " ('n_estimators=5,max_depth=3 ', 0.5435168738898757),\n",
      " ('n_estimators=3,max_depth=8 ', 0.5433884297520661),\n",
      " ('n_estimators=2,max_depth=5 ', 0.54320987654321),\n",
      " ('n_estimators=3,max_depth=10 ', 0.5431818181818183),\n",
      " ('n_estimators=39,max_depth=1 ', 0.5421372719374458),\n",
      " ('n_estimators=37,max_depth=1 ', 0.5421372719374458),\n",
      " ('n_estimators=41,max_depth=1 ', 0.5416666666666666),\n",
      " ('n_estimators=36,max_depth=1 ', 0.5416666666666666),\n",
      " ('n_estimators=43,max_depth=1 ', 0.541196877710321),\n",
      " ('n_estimators=42,max_depth=1 ', 0.541196877710321),\n",
      " ('n_estimators=50,max_depth=1 ', 0.5393258426966292),\n",
      " ('n_estimators=48,max_depth=1 ', 0.538860103626943),\n",
      " ('n_estimators=4,max_depth=1 ', 0.5370205173951829),\n",
      " ('n_estimators=35,max_depth=1 ', 0.5368782161234991),\n",
      " ('n_estimators=7,max_depth=1 ', 0.5362718089990818),\n",
      " ('n_estimators=6,max_depth=1 ', 0.5362718089990818),\n",
      " ('n_estimators=45,max_depth=1 ', 0.5355004277159966),\n",
      " ('n_estimators=44,max_depth=1 ', 0.5355004277159966),\n",
      " ('n_estimators=49,max_depth=1 ', 0.5352839931153185),\n",
      " ('n_estimators=47,max_depth=1 ', 0.535042735042735),\n",
      " ('n_estimators=46,max_depth=1 ', 0.535042735042735),\n",
      " ('n_estimators=6,max_depth=2 ', 0.5310924369747899),\n",
      " ('n_estimators=20,max_depth=1 ', 0.5293617021276595),\n",
      " ('n_estimators=2,max_depth=8 ', 0.5276073619631901),\n",
      " ('n_estimators=3,max_depth=3 ', 0.5260223048327138),\n",
      " ('n_estimators=3,max_depth=4 ', 0.5258064516129032),\n",
      " ('n_estimators=1,max_depth=3 ', 0.5251798561151079),\n",
      " ('n_estimators=2,max_depth=3 ', 0.5237668161434977),\n",
      " ('n_estimators=8,max_depth=1 ', 0.5235223160434258),\n",
      " ('n_estimators=2,max_depth=9 ', 0.5213483146067416),\n",
      " ('n_estimators=1,max_depth=4 ', 0.5181733457595527),\n",
      " ('n_estimators=5,max_depth=1 ', 0.5166666666666667),\n",
      " ('n_estimators=1,max_depth=8 ', 0.5133079847908745),\n",
      " ('n_estimators=2,max_depth=10 ', 0.5124864277958739),\n",
      " ('n_estimators=9,max_depth=1 ', 0.5112903225806451),\n",
      " ('n_estimators=1,max_depth=7 ', 0.5108514190317196),\n",
      " ('n_estimators=1,max_depth=10 ', 0.5077519379844961),\n",
      " ('n_estimators=3,max_depth=1 ', 0.5050505050505051),\n",
      " ('n_estimators=8,max_depth=2 ', 0.4964539007092199),\n",
      " ('n_estimators=1,max_depth=9 ', 0.4894204231830727),\n",
      " ('n_estimators=1,max_depth=2 ', 0.48426150121065376),\n",
      " ('n_estimators=2,max_depth=1 ', 0.4838187702265373),\n",
      " ('n_estimators=1,max_depth=1 ', 0.4838187702265373),\n",
      " ('n_estimators=7,max_depth=2 ', 0.4814462416745956),\n",
      " ('n_estimators=4,max_depth=2 ', 0.4810606060606061),\n",
      " ('n_estimators=3,max_depth=2 ', 0.46642468239564433),\n",
      " ('n_estimators=2,max_depth=2 ', 0.46188850967007966)]\n"
     ]
    }
   ],
   "source": [
    "# RandomForest model\n",
    "\n",
    "# Create dictionary\n",
    "result_dict={}\n",
    "\n",
    "for estimator in range(1,51,1):\n",
    "    for depth in range(1,11,1):\n",
    "        model = RandomForestClassifier(class_weight='balanced',n_estimators=estimator, max_depth=depth, random_state=RANDOM_STATE)\n",
    "        model.fit(features_train, target_train)\n",
    "        predicted_valid = model.predict(features_valid)\n",
    "                   \n",
    "        # Calc f1 score and Add it to dictionary\n",
    "        key = 'n_estimators={},max_depth={} '.format(estimator,depth)\n",
    "        result_dict[key] =  f1_score(target_valid, predicted_valid)\n",
    "        \n",
    "            \n",
    "print('The best F1 params')\n",
    "# Sort the dictionary by values       \n",
    "sorted_results = sorted(result_dict.items(),key = lambda kv:(kv[1], kv[0]),reverse=True)\n",
    "\n",
    "# Print the results in ascending order\n",
    "pprint.pprint(sorted_results)\n"
   ]
  },
  {
   "cell_type": "markdown",
   "metadata": {},
   "source": [
    "We will choose n_estimators=26,max_depth=9 it gives one of the best results."
   ]
  },
  {
   "cell_type": "code",
   "execution_count": null,
   "metadata": {},
   "outputs": [],
   "source": []
  },
  {
   "cell_type": "code",
   "execution_count": 69,
   "metadata": {},
   "outputs": [
    {
     "name": "stdout",
     "output_type": "stream",
     "text": [
      "F1: 0.6352413019079686\n",
      "ROC_AUC:0.8569617383176706\n"
     ]
    }
   ],
   "source": [
    "model = RandomForestClassifier(class_weight='balanced',n_estimators=26, max_depth=9, random_state=RANDOM_STATE)\n",
    "model.fit(features_train, target_train)\n",
    "predicted_valid = model.predict(features_valid)\n",
    "\n",
    "print('F1:', f1_score(target_valid, predicted_valid))\n",
    "# roc_auc calc\n",
    "probabilities_valid = model.predict_proba(features_valid)\n",
    "probabilities_one_valid = probabilities_valid[:, 1]\n",
    "\n",
    "print('ROC_AUC:{}'.format(roc_auc_score(target_valid,probabilities_one_valid)))\n"
   ]
  },
  {
   "cell_type": "code",
   "execution_count": 48,
   "metadata": {},
   "outputs": [
    {
     "name": "stdout",
     "output_type": "stream",
     "text": [
      "F1 score: 0.47364016736401676\n",
      "ROC_AUC:0.7605031842319978\n"
     ]
    }
   ],
   "source": [
    "# LogisticRegression model\n",
    "model = LogisticRegression(class_weight='balanced',random_state=RANDOM_STATE,solver='liblinear')\n",
    "model.fit(features_train, target_train)\n",
    "predicted_valid = model.predict(features_valid)\n",
    "print('F1 score:', f1_score(target_valid, predicted_valid))\n",
    "# roc_auc calc\n",
    "probabilities_valid = model.predict_proba(features_valid)\n",
    "probabilities_one_valid = probabilities_valid[:, 1]\n",
    "\n",
    "print('ROC_AUC:{}'.format(roc_auc_score(target_valid,probabilities_one_valid)))\n"
   ]
  },
  {
   "cell_type": "markdown",
   "metadata": {},
   "source": [
    "### Class Weight Adjustment conclusion"
   ]
  },
  {
   "cell_type": "markdown",
   "metadata": {},
   "source": [
    "- using DecisionTree:\n",
    "    - F1 score = 0.472\n",
    "    - ROC_AUC = 0.668\n",
    "- using LogisticRegression:\n",
    "    - F1 score = 0.473\n",
    "    - ROC_AUC = 0.760\n",
    "- using RandomForest using n_estimators=26 and max_depth=9:\n",
    "    - F1 score of 0.635\n",
    "    - ROC_AUC = 0.856"
   ]
  },
  {
   "cell_type": "code",
   "execution_count": null,
   "metadata": {},
   "outputs": [],
   "source": []
  },
  {
   "cell_type": "markdown",
   "metadata": {},
   "source": [
    "### upsampling "
   ]
  },
  {
   "cell_type": "code",
   "execution_count": 49,
   "metadata": {},
   "outputs": [
    {
     "name": "stdout",
     "output_type": "stream",
     "text": [
      "Before upsampaling\n",
      "0.0    4777\n",
      "1.0    1223\n",
      "Name: Exited, dtype: int64\n",
      "After upsampaling\n",
      "1.0    4777\n",
      "0.0    4777\n",
      "Name: Exited, dtype: int64\n"
     ]
    }
   ],
   "source": [
    "train_data = pd.concat([features_train, target_train], axis=1)\n",
    "not_Exited = train_data[train_data.Exited==0]\n",
    "Exited = train_data[train_data.Exited==1]\n",
    "\n",
    "Exited_upsampled = resample(Exited,\n",
    "                          replace=True, # sample with replacement\n",
    "                          n_samples=len(not_Exited)- len(Exited), # match number in majority class\n",
    "                          random_state=RANDOM_STATE) # reproducible results\n",
    "\n",
    "\n",
    "# combine majority and upsampled minority\n",
    "upsampled = pd.concat([not_Exited,Exited, Exited_upsampled])\n",
    "upsampled = shuffle(upsampled, random_state=RANDOM_STATE)\n",
    "print('Before upsampaling')\n",
    "print(target_train.value_counts())\n",
    "\n",
    "# check new class counts\n",
    "print('After upsampaling')\n",
    "print(upsampled.Exited.value_counts())\n"
   ]
  },
  {
   "cell_type": "code",
   "execution_count": null,
   "metadata": {},
   "outputs": [],
   "source": []
  },
  {
   "cell_type": "code",
   "execution_count": 50,
   "metadata": {},
   "outputs": [],
   "source": [
    "target_train_upsampled = upsampled['Exited']\n",
    "features_train_upsampled  = upsampled.drop(['Exited'], axis=1)"
   ]
  },
  {
   "cell_type": "code",
   "execution_count": 51,
   "metadata": {},
   "outputs": [
    {
     "name": "stdout",
     "output_type": "stream",
     "text": [
      "f1_score: 0.4782608695652174\n",
      "ROC_AUC:0.6732495207071477\n"
     ]
    }
   ],
   "source": [
    "# DecisionTreeClassifier model\n",
    "model = DecisionTreeClassifier(random_state=RANDOM_STATE)\n",
    "model.fit(features_train_upsampled, target_train_upsampled)\n",
    "\n",
    "predicted_valid = model.predict(features_valid)\n",
    "accuracy_valid = accuracy_score(target_valid,predicted_valid)\n",
    "\n",
    "print('f1_score:', f1_score(target_valid,predicted_valid))\n",
    "# roc_auc calc\n",
    "probabilities_valid = model.predict_proba(features_valid)\n",
    "probabilities_one_valid = probabilities_valid[:, 1]\n",
    "\n",
    "print('ROC_AUC:{}'.format(roc_auc_score(target_valid,probabilities_one_valid)))\n"
   ]
  },
  {
   "cell_type": "code",
   "execution_count": 52,
   "metadata": {
    "scrolled": true
   },
   "outputs": [
    {
     "name": "stdout",
     "output_type": "stream",
     "text": [
      "The best F1 params\n",
      "[('n_estimators=34,max_depth=9 ', 0.6239495798319327),\n",
      " ('n_estimators=55,max_depth=10 ', 0.6215316315205328),\n",
      " ('n_estimators=39,max_depth=10 ', 0.6204620462046203),\n",
      " ('n_estimators=37,max_depth=9 ', 0.6200417536534446),\n",
      " ('n_estimators=56,max_depth=10 ', 0.6200000000000001),\n",
      " ('n_estimators=40,max_depth=10 ', 0.6196251378169791),\n",
      " ('n_estimators=28,max_depth=10 ', 0.6194111232279171),\n",
      " ('n_estimators=38,max_depth=10 ', 0.6192560175054704),\n",
      " ('n_estimators=54,max_depth=10 ', 0.6189427312775331),\n",
      " ('n_estimators=32,max_depth=9 ', 0.6185997910135841),\n",
      " ('n_estimators=57,max_depth=10 ', 0.6179401993355481),\n",
      " ('n_estimators=58,max_depth=10 ', 0.6175824175824176),\n",
      " ('n_estimators=29,max_depth=9 ', 0.6174636174636174),\n",
      " ('n_estimators=60,max_depth=10 ', 0.6174200661521501),\n",
      " ('n_estimators=52,max_depth=10 ', 0.6174200661521501),\n",
      " ('n_estimators=60,max_depth=9 ', 0.6171548117154811),\n",
      " ('n_estimators=25,max_depth=10 ', 0.6168831168831169),\n",
      " ('n_estimators=31,max_depth=9 ', 0.616822429906542),\n",
      " ('n_estimators=36,max_depth=9 ', 0.6166666666666667),\n",
      " ('n_estimators=59,max_depth=10 ', 0.6165745856353592),\n",
      " ('n_estimators=26,max_depth=10 ', 0.6162280701754386),\n",
      " ('n_estimators=56,max_depth=9 ', 0.6161825726141078),\n",
      " ('n_estimators=39,max_depth=9 ', 0.6161825726141078),\n",
      " ('n_estimators=41,max_depth=9 ', 0.615866388308977),\n",
      " ('n_estimators=36,max_depth=10 ', 0.6153846153846154),\n",
      " ('n_estimators=59,max_depth=9 ', 0.6152241918665277),\n",
      " ('n_estimators=57,max_depth=9 ', 0.6152241918665277),\n",
      " ('n_estimators=35,max_depth=9 ', 0.6150627615062761),\n",
      " ('n_estimators=33,max_depth=9 ', 0.6149003147953829),\n",
      " ('n_estimators=35,max_depth=10 ', 0.6148796498905907),\n",
      " ('n_estimators=27,max_depth=10 ', 0.6147091108671788),\n",
      " ('n_estimators=58,max_depth=9 ', 0.6145833333333334),\n",
      " ('n_estimators=53,max_depth=10 ', 0.6143646408839778),\n",
      " ('n_estimators=42,max_depth=10 ', 0.6138613861386137),\n",
      " ('n_estimators=53,max_depth=9 ', 0.6134715025906736),\n",
      " ('n_estimators=50,max_depth=10 ', 0.6133625410733845),\n",
      " ('n_estimators=29,max_depth=10 ', 0.6133625410733845),\n",
      " ('n_estimators=44,max_depth=9 ', 0.6133056133056134),\n",
      " ('n_estimators=25,max_depth=9 ', 0.6132771338250791),\n",
      " ('n_estimators=43,max_depth=7 ', 0.6132542037586547),\n",
      " ('n_estimators=41,max_depth=10 ', 0.6131868131868132),\n",
      " ('n_estimators=30,max_depth=9 ', 0.6131386861313869),\n",
      " ('n_estimators=51,max_depth=10 ', 0.6130099228224918),\n",
      " ('n_estimators=44,max_depth=10 ', 0.6128318584070797),\n",
      " ('n_estimators=45,max_depth=9 ', 0.6126687435098651),\n",
      " ('n_estimators=55,max_depth=9 ', 0.6125),\n",
      " ('n_estimators=43,max_depth=10 ', 0.6123348017621145),\n",
      " ('n_estimators=46,max_depth=9 ', 0.6122026887280247),\n",
      " ('n_estimators=18,max_depth=9 ', 0.6121593291404612),\n",
      " ('n_estimators=37,max_depth=10 ', 0.6120218579234973),\n",
      " ('n_estimators=26,max_depth=8 ', 0.6118811881188119),\n",
      " ('n_estimators=47,max_depth=9 ', 0.6116910229645094),\n",
      " ('n_estimators=27,max_depth=9 ', 0.6115183246073298),\n",
      " ('n_estimators=49,max_depth=10 ', 0.6114790286975716),\n",
      " ('n_estimators=38,max_depth=9 ', 0.6112266112266111),\n",
      " ('n_estimators=49,max_depth=8 ', 0.6108374384236454),\n",
      " ('n_estimators=47,max_depth=10 ', 0.6106194690265486),\n",
      " ('n_estimators=46,max_depth=10 ', 0.6104328523862375),\n",
      " ('n_estimators=52,max_depth=9 ', 0.6104166666666666),\n",
      " ('n_estimators=26,max_depth=9 ', 0.6104166666666666),\n",
      " ('n_estimators=34,max_depth=10 ', 0.610318331503842),\n",
      " ('n_estimators=24,max_depth=9 ', 0.6102403343782654),\n",
      " ('n_estimators=44,max_depth=7 ', 0.610236220472441),\n",
      " ('n_estimators=24,max_depth=10 ', 0.6102062975027144),\n",
      " ('n_estimators=48,max_depth=10 ', 0.6101321585903082),\n",
      " ('n_estimators=45,max_depth=10 ', 0.6101321585903082),\n",
      " ('n_estimators=22,max_depth=9 ', 0.610062893081761),\n",
      " ('n_estimators=32,max_depth=10 ', 0.6100217864923748),\n",
      " ('n_estimators=56,max_depth=8 ', 0.6100000000000001),\n",
      " ('n_estimators=42,max_depth=9 ', 0.6097814776274714),\n",
      " ('n_estimators=54,max_depth=8 ', 0.6097318768619663),\n",
      " ('n_estimators=13,max_depth=9 ', 0.609704641350211),\n",
      " ('n_estimators=48,max_depth=9 ', 0.6096033402922756),\n",
      " ('n_estimators=17,max_depth=9 ', 0.6095238095238095),\n",
      " ('n_estimators=47,max_depth=7 ', 0.6094674556213018),\n",
      " ('n_estimators=54,max_depth=9 ', 0.6093264248704663),\n",
      " ('n_estimators=40,max_depth=9 ', 0.6093264248704663),\n",
      " ('n_estimators=58,max_depth=8 ', 0.6092184368737473),\n",
      " ('n_estimators=57,max_depth=8 ', 0.6092184368737473),\n",
      " ('n_estimators=50,max_depth=8 ', 0.608695652173913),\n",
      " ('n_estimators=53,max_depth=8 ', 0.6085232903865213),\n",
      " ('n_estimators=45,max_depth=7 ', 0.6084396467124631),\n",
      " ('n_estimators=42,max_depth=7 ', 0.6084396467124631),\n",
      " ('n_estimators=46,max_depth=7 ', 0.6082677165354331),\n",
      " ('n_estimators=16,max_depth=9 ', 0.6082365364308342),\n",
      " ('n_estimators=55,max_depth=8 ', 0.6081754735792622),\n",
      " ('n_estimators=28,max_depth=9 ', 0.6081504702194358),\n",
      " ('n_estimators=30,max_depth=10 ', 0.6081229418221734),\n",
      " ('n_estimators=60,max_depth=8 ', 0.6080000000000001),\n",
      " ('n_estimators=28,max_depth=8 ', 0.6077457795431976),\n",
      " ('n_estimators=22,max_depth=10 ', 0.6075675675675677),\n",
      " ('n_estimators=50,max_depth=9 ', 0.6075156576200418),\n",
      " ('n_estimators=49,max_depth=9 ', 0.6073298429319371),\n",
      " ('n_estimators=23,max_depth=9 ', 0.6071428571428572),\n",
      " ('n_estimators=33,max_depth=10 ', 0.6067907995618839),\n",
      " ('n_estimators=14,max_depth=9 ', 0.6065057712486883),\n",
      " ('n_estimators=47,max_depth=8 ', 0.6064769381746811),\n",
      " ('n_estimators=34,max_depth=7 ', 0.6064769381746811),\n",
      " ('n_estimators=51,max_depth=9 ', 0.6064382139148494),\n",
      " ('n_estimators=15,max_depth=9 ', 0.6063157894736841),\n",
      " ('n_estimators=24,max_depth=8 ', 0.6062992125984252),\n",
      " ('n_estimators=23,max_depth=8 ', 0.6060606060606061),\n",
      " ('n_estimators=51,max_depth=8 ', 0.6059405940594059),\n",
      " ('n_estimators=60,max_depth=7 ', 0.6058823529411764),\n",
      " ('n_estimators=48,max_depth=8 ', 0.6057030481809242),\n",
      " ('n_estimators=48,max_depth=7 ', 0.6057030481809242),\n",
      " ('n_estimators=27,max_depth=8 ', 0.6057030481809242),\n",
      " ('n_estimators=22,max_depth=8 ', 0.6057030481809242),\n",
      " ('n_estimators=19,max_depth=9 ', 0.6056782334384858),\n",
      " ('n_estimators=59,max_depth=8 ', 0.6055776892430278),\n",
      " ('n_estimators=33,max_depth=8 ', 0.6055226824457594),\n",
      " ('n_estimators=59,max_depth=7 ', 0.6054687500000001),\n",
      " ('n_estimators=55,max_depth=7 ', 0.6054687500000001),\n",
      " ('n_estimators=21,max_depth=9 ', 0.6054279749478079),\n",
      " ('n_estimators=20,max_depth=10 ', 0.6054054054054053),\n",
      " ('n_estimators=35,max_depth=7 ', 0.6052889324191968),\n",
      " ('n_estimators=52,max_depth=8 ', 0.6051587301587302),\n",
      " ('n_estimators=56,max_depth=7 ', 0.6051080550098232),\n",
      " ('n_estimators=41,max_depth=7 ', 0.6051080550098232),\n",
      " ('n_estimators=54,max_depth=7 ', 0.6050583657587548),\n",
      " ('n_estimators=31,max_depth=10 ', 0.6046002190580503),\n",
      " ('n_estimators=43,max_depth=9 ', 0.6041666666666666),\n",
      " ('n_estimators=34,max_depth=8 ', 0.6041461006910167),\n",
      " ('n_estimators=29,max_depth=8 ', 0.6041461006910167),\n",
      " ('n_estimators=25,max_depth=8 ', 0.6041461006910167),\n",
      " ('n_estimators=23,max_depth=10 ', 0.604143947655398),\n",
      " ('n_estimators=36,max_depth=7 ', 0.6041055718475073),\n",
      " ('n_estimators=31,max_depth=8 ', 0.603960396039604),\n",
      " ('n_estimators=40,max_depth=7 ', 0.6033300685602351),\n",
      " ('n_estimators=53,max_depth=7 ', 0.603112840466926),\n",
      " ('n_estimators=39,max_depth=7 ', 0.6025515210991168),\n",
      " ('n_estimators=57,max_depth=7 ', 0.6023391812865497),\n",
      " ('n_estimators=43,max_depth=8 ', 0.6021934197407778),\n",
      " ('n_estimators=37,max_depth=7 ', 0.6021505376344086),\n",
      " ('n_estimators=51,max_depth=6 ', 0.6021297192642788),\n",
      " ('n_estimators=38,max_depth=7 ', 0.6019607843137255),\n",
      " ('n_estimators=12,max_depth=9 ', 0.6016771488469601),\n",
      " ('n_estimators=41,max_depth=8 ', 0.601593625498008),\n",
      " ('n_estimators=57,max_depth=6 ', 0.6015473887814312),\n",
      " ('n_estimators=56,max_depth=6 ', 0.6015473887814312),\n",
      " ('n_estimators=50,max_depth=6 ', 0.6015473887814312),\n",
      " ('n_estimators=40,max_depth=6 ', 0.6015473887814312),\n",
      " ('n_estimators=32,max_depth=5 ', 0.6015473887814312),\n",
      " ('n_estimators=44,max_depth=8 ', 0.601190476190476),\n",
      " ('n_estimators=55,max_depth=6 ', 0.6011560693641618),\n",
      " ('n_estimators=36,max_depth=8 ', 0.6009950248756218),\n",
      " ('n_estimators=33,max_depth=7 ', 0.6009756097560975),\n",
      " ('n_estimators=40,max_depth=8 ', 0.6005946481665015),\n",
      " ('n_estimators=46,max_depth=8 ', 0.6005888125613346),\n",
      " ('n_estimators=54,max_depth=6 ', 0.6005774783445621),\n",
      " ('n_estimators=52,max_depth=7 ', 0.6003898635477584),\n",
      " ('n_estimators=50,max_depth=7 ', 0.6003898635477584),\n",
      " ('n_estimators=49,max_depth=7 ', 0.6003898635477584),\n",
      " ('n_estimators=41,max_depth=6 ', 0.6003861003861004),\n",
      " ('n_estimators=21,max_depth=10 ', 0.6002166847237269),\n",
      " ('n_estimators=37,max_depth=8 ', 0.6),\n",
      " ('n_estimators=31,max_depth=7 ', 0.6),\n",
      " ('n_estimators=11,max_depth=9 ', 0.6),\n",
      " ('n_estimators=51,max_depth=7 ', 0.5998052580331061),\n",
      " ('n_estimators=35,max_depth=8 ', 0.599803343166175),\n",
      " ('n_estimators=30,max_depth=8 ', 0.5996055226824458),\n",
      " ('n_estimators=38,max_depth=6 ', 0.5994236311239194),\n",
      " ('n_estimators=32,max_depth=7 ', 0.5994123408423115),\n",
      " ('n_estimators=34,max_depth=5 ', 0.5992292870905588),\n",
      " ('n_estimators=26,max_depth=7 ', 0.5992217898832685),\n",
      " ('n_estimators=60,max_depth=6 ', 0.5990430622009568),\n",
      " ('n_estimators=52,max_depth=6 ', 0.5990338164251208),\n",
      " ('n_estimators=47,max_depth=6 ', 0.5990243902439024),\n",
      " ('n_estimators=21,max_depth=8 ', 0.5990147783251232),\n",
      " ('n_estimators=42,max_depth=8 ', 0.5988023952095808),\n",
      " ('n_estimators=46,max_depth=6 ', 0.598639455782313),\n",
      " ('n_estimators=32,max_depth=8 ', 0.5986124876114965),\n",
      " ('n_estimators=20,max_depth=9 ', 0.5985401459854014),\n",
      " ('n_estimators=53,max_depth=6 ', 0.5982575024201355),\n",
      " ('n_estimators=58,max_depth=7 ', 0.5982404692082111),\n",
      " ('n_estimators=6,max_depth=9 ', 0.5981688708036622),\n",
      " ('n_estimators=60,max_depth=5 ', 0.5981132075471698),\n",
      " ('n_estimators=43,max_depth=5 ', 0.5980952380952381),\n",
      " ('n_estimators=39,max_depth=6 ', 0.5980769230769232),\n",
      " ('n_estimators=31,max_depth=5 ', 0.5980769230769232),\n",
      " ('n_estimators=12,max_depth=10 ', 0.5980498374864571),\n",
      " ('n_estimators=45,max_depth=8 ', 0.5980198019801981),\n",
      " ('n_estimators=35,max_depth=5 ', 0.5978784956605593),\n",
      " ('n_estimators=18,max_depth=8 ', 0.5976331360946746),\n",
      " ('n_estimators=59,max_depth=6 ', 0.5975024015369836),\n",
      " ('n_estimators=49,max_depth=6 ', 0.5974781765276431),\n",
      " ('n_estimators=42,max_depth=6 ', 0.5973025048169557),\n",
      " ('n_estimators=33,max_depth=5 ', 0.5973025048169557),\n",
      " ('n_estimators=15,max_depth=8 ', 0.5972222222222222),\n",
      " ('n_estimators=45,max_depth=6 ', 0.5971014492753622),\n",
      " ('n_estimators=44,max_depth=6 ', 0.5971014492753622),\n",
      " ('n_estimators=25,max_depth=7 ', 0.5968992248062015),\n",
      " ('n_estimators=39,max_depth=8 ', 0.5968379446640316),\n",
      " ('n_estimators=56,max_depth=5 ', 0.5967894239848914),\n",
      " ('n_estimators=46,max_depth=5 ', 0.5967588179218303),\n",
      " ('n_estimators=37,max_depth=6 ', 0.5967276227141483),\n",
      " ('n_estimators=48,max_depth=6 ', 0.596695821185617),\n",
      " ('n_estimators=20,max_depth=8 ', 0.5966633954857703),\n",
      " ('n_estimators=21,max_depth=7 ', 0.5965583173996175),\n",
      " ('n_estimators=30,max_depth=7 ', 0.5965250965250966),\n",
      " ('n_estimators=41,max_depth=4 ', 0.5964252116650987),\n",
      " ('n_estimators=39,max_depth=5 ', 0.5961904761904763),\n",
      " ('n_estimators=29,max_depth=5 ', 0.5961538461538461),\n",
      " ('n_estimators=8,max_depth=9 ', 0.5960945529290853),\n",
      " ('n_estimators=19,max_depth=8 ', 0.596039603960396),\n",
      " ('n_estimators=16,max_depth=8 ', 0.596039603960396),\n",
      " ('n_estimators=42,max_depth=5 ', 0.5958254269449715),\n",
      " ('n_estimators=58,max_depth=5 ', 0.5956232159847764),\n",
      " ('n_estimators=18,max_depth=10 ', 0.5954692556634305),\n",
      " ('n_estimators=59,max_depth=5 ', 0.5954631379962192),\n",
      " ('n_estimators=57,max_depth=5 ', 0.5954631379962192),\n",
      " ('n_estimators=41,max_depth=5 ', 0.5954198473282443),\n",
      " ('n_estimators=58,max_depth=6 ', 0.5953757225433527),\n",
      " ('n_estimators=22,max_depth=7 ', 0.5953757225433527),\n",
      " ('n_estimators=20,max_depth=7 ', 0.5952153110047846),\n",
      " ('n_estimators=29,max_depth=7 ', 0.5951219512195122),\n",
      " ('n_estimators=54,max_depth=5 ', 0.5951035781544255),\n",
      " ('n_estimators=25,max_depth=5 ', 0.5950738916256157),\n",
      " ('n_estimators=30,max_depth=5 ', 0.5950095969289827),\n",
      " ('n_estimators=13,max_depth=10 ', 0.5950054288816504),\n",
      " ('n_estimators=32,max_depth=6 ', 0.5947006869479882),\n",
      " ('n_estimators=19,max_depth=10 ', 0.5945945945945945),\n",
      " ('n_estimators=55,max_depth=5 ', 0.5945437441204139),\n",
      " ('n_estimators=48,max_depth=5 ', 0.5945437441204139),\n",
      " ('n_estimators=37,max_depth=5 ', 0.5944391179290508),\n",
      " ('n_estimators=45,max_depth=5 ', 0.5942857142857143),\n",
      " ('n_estimators=43,max_depth=6 ', 0.5942307692307692),\n",
      " ('n_estimators=10,max_depth=9 ', 0.5942028985507246),\n",
      " ('n_estimators=42,max_depth=4 ', 0.593984962406015),\n",
      " ('n_estimators=11,max_depth=10 ', 0.5937161430119178),\n",
      " ('n_estimators=14,max_depth=5 ', 0.5936599423631125),\n",
      " ('n_estimators=47,max_depth=5 ', 0.5935727788279773),\n",
      " ('n_estimators=14,max_depth=10 ', 0.5935483870967743),\n",
      " ('n_estimators=38,max_depth=8 ', 0.5934718100890207),\n",
      " ('n_estimators=21,max_depth=5 ', 0.5934489402697495),\n",
      " ('n_estimators=27,max_depth=7 ', 0.5933852140077821),\n",
      " ('n_estimators=24,max_depth=6 ', 0.5933852140077821),\n",
      " ('n_estimators=40,max_depth=5 ', 0.5933649289099525),\n",
      " ('n_estimators=17,max_depth=8 ', 0.593103448275862),\n",
      " ('n_estimators=22,max_depth=6 ', 0.5930232558139534),\n",
      " ('n_estimators=20,max_depth=5 ', 0.5930232558139534),\n",
      " ('n_estimators=24,max_depth=7 ', 0.5928777670837344),\n",
      " ('n_estimators=36,max_depth=6 ', 0.5926640926640926),\n",
      " ('n_estimators=28,max_depth=5 ', 0.5925215723873443),\n",
      " ('n_estimators=5,max_depth=10 ', 0.592274678111588),\n",
      " ('n_estimators=26,max_depth=6 ', 0.5922330097087379),\n",
      " ('n_estimators=9,max_depth=9 ', 0.5921325051759836),\n",
      " ('n_estimators=49,max_depth=5 ', 0.5921052631578947),\n",
      " ('n_estimators=27,max_depth=5 ', 0.5920925747348119),\n",
      " ('n_estimators=14,max_depth=8 ', 0.5920000000000001),\n",
      " ('n_estimators=5,max_depth=9 ', 0.591919191919192),\n",
      " ('n_estimators=53,max_depth=5 ', 0.5918944392082941),\n",
      " ('n_estimators=51,max_depth=5 ', 0.5918944392082941),\n",
      " ('n_estimators=26,max_depth=5 ', 0.5918762088974855),\n",
      " ('n_estimators=19,max_depth=7 ', 0.5918173168411037),\n",
      " ('n_estimators=27,max_depth=6 ', 0.5917968749999999),\n",
      " ('n_estimators=38,max_depth=5 ', 0.5917387127761768),\n",
      " ('n_estimators=15,max_depth=5 ', 0.5917387127761768),\n",
      " ('n_estimators=15,max_depth=10 ', 0.5916398713826366),\n",
      " ('n_estimators=36,max_depth=5 ', 0.5916030534351145),\n",
      " ('n_estimators=23,max_depth=7 ', 0.5915221579961465),\n",
      " ('n_estimators=29,max_depth=6 ', 0.5914396887159534),\n",
      " ('n_estimators=39,max_depth=4 ', 0.5914179104477612),\n",
      " ('n_estimators=28,max_depth=7 ', 0.5912195121951219),\n",
      " ('n_estimators=35,max_depth=6 ', 0.5911708253358925),\n",
      " ('n_estimators=45,max_depth=4 ', 0.5909943714821764),\n",
      " ('n_estimators=40,max_depth=4 ', 0.5909510618651892),\n",
      " ('n_estimators=50,max_depth=5 ', 0.5907808090310441),\n",
      " ('n_estimators=23,max_depth=5 ', 0.5907752698724239),\n",
      " ('n_estimators=18,max_depth=5 ', 0.5906932573599241),\n",
      " ('n_estimators=30,max_depth=6 ', 0.5906432748538012),\n",
      " ('n_estimators=44,max_depth=5 ', 0.590566037735849),\n",
      " ('n_estimators=52,max_depth=5 ', 0.5904404873477039),\n",
      " ('n_estimators=22,max_depth=5 ', 0.5904203323558161),\n",
      " ('n_estimators=28,max_depth=6 ', 0.5902912621359223),\n",
      " ('n_estimators=10,max_depth=7 ', 0.5902578796561605),\n",
      " ('n_estimators=19,max_depth=5 ', 0.5900383141762452),\n",
      " ('n_estimators=48,max_depth=4 ', 0.5900094250706881),\n",
      " ('n_estimators=7,max_depth=10 ', 0.5899893503727369),\n",
      " ('n_estimators=35,max_depth=4 ', 0.5899814471243042),\n",
      " ('n_estimators=34,max_depth=6 ', 0.5899419729206963),\n",
      " ('n_estimators=33,max_depth=6 ', 0.5899419729206963),\n",
      " ('n_estimators=25,max_depth=6 ', 0.5899419729206963),\n",
      " ('n_estimators=31,max_depth=6 ', 0.58984375),\n",
      " ('n_estimators=7,max_depth=9 ', 0.5896907216494846),\n",
      " ('n_estimators=24,max_depth=5 ', 0.5896180215475024),\n",
      " ('n_estimators=49,max_depth=4 ', 0.5894538606403014),\n",
      " ('n_estimators=12,max_depth=7 ', 0.5893536121673004),\n",
      " ('n_estimators=11,max_depth=7 ', 0.5891325071496665),\n",
      " ('n_estimators=47,max_depth=4 ', 0.5888993414863594),\n",
      " ('n_estimators=44,max_depth=4 ', 0.5888993414863594),\n",
      " ('n_estimators=43,max_depth=4 ', 0.5888993414863594),\n",
      " ('n_estimators=14,max_depth=7 ', 0.588686481303931),\n",
      " ('n_estimators=16,max_depth=10 ', 0.5886143931256714),\n",
      " ('n_estimators=13,max_depth=8 ', 0.5883514313919052),\n",
      " ('n_estimators=13,max_depth=5 ', 0.5883495145631068),\n",
      " ('n_estimators=23,max_depth=6 ', 0.588235294117647),\n",
      " ('n_estimators=38,max_depth=4 ', 0.5880149812734082),\n",
      " ('n_estimators=13,max_depth=7 ', 0.5878962536023055),\n",
      " ('n_estimators=17,max_depth=10 ', 0.5877287405812702),\n",
      " ('n_estimators=18,max_depth=7 ', 0.5875598086124401),\n",
      " ('n_estimators=14,max_depth=6 ', 0.5874524714828898),\n",
      " ('n_estimators=46,max_depth=4 ', 0.5873465533522192),\n",
      " ('n_estimators=36,max_depth=4 ', 0.587138863000932),\n",
      " ('n_estimators=16,max_depth=7 ', 0.5871029836381136),\n",
      " ('n_estimators=50,max_depth=4 ', 0.5866916588566073),\n",
      " ('n_estimators=17,max_depth=7 ', 0.5866666666666667),\n",
      " ('n_estimators=16,max_depth=5 ', 0.5866666666666667),\n",
      " ('n_estimators=9,max_depth=5 ', 0.5861386138613861),\n",
      " ('n_estimators=10,max_depth=5 ', 0.5861386138613861),\n",
      " ('n_estimators=10,max_depth=8 ', 0.5860000000000001),\n",
      " ('n_estimators=21,max_depth=6 ', 0.5855513307984791),\n",
      " ('n_estimators=17,max_depth=5 ', 0.5854579792256847),\n",
      " ('n_estimators=52,max_depth=4 ', 0.5852749301025163),\n",
      " ('n_estimators=12,max_depth=8 ', 0.5852216748768473),\n",
      " ('n_estimators=54,max_depth=4 ', 0.5850467289719625),\n",
      " ('n_estimators=37,max_depth=4 ', 0.5847299813780261),\n",
      " ('n_estimators=12,max_depth=5 ', 0.5844027640671274),\n",
      " ('n_estimators=9,max_depth=10 ', 0.5843179377013963),\n",
      " ('n_estimators=11,max_depth=8 ', 0.5841584158415841),\n",
      " ('n_estimators=58,max_depth=4 ', 0.5839552238805971),\n",
      " ('n_estimators=15,max_depth=6 ', 0.5838862559241705),\n",
      " ('n_estimators=53,max_depth=4 ', 0.5837231057062675),\n",
      " ('n_estimators=51,max_depth=4 ', 0.58364312267658),\n",
      " ('n_estimators=9,max_depth=7 ', 0.5834932821497121),\n",
      " ('n_estimators=11,max_depth=5 ', 0.5833333333333333),\n",
      " ('n_estimators=6,max_depth=7 ', 0.5832531280076997),\n",
      " ('n_estimators=57,max_depth=4 ', 0.5828677839851024),\n",
      " ('n_estimators=7,max_depth=7 ', 0.5827814569536425),\n",
      " ('n_estimators=20,max_depth=6 ', 0.5825426944971537),\n",
      " ('n_estimators=34,max_depth=4 ', 0.5824175824175823),\n",
      " ('n_estimators=55,max_depth=4 ', 0.5823970037453184),\n",
      " ('n_estimators=15,max_depth=7 ', 0.5823754789272031),\n",
      " ('n_estimators=59,max_depth=4 ', 0.5823255813953488),\n",
      " ('n_estimators=56,max_depth=4 ', 0.5818521983161833),\n",
      " ('n_estimators=16,max_depth=6 ', 0.5818181818181818),\n",
      " ('n_estimators=60,max_depth=4 ', 0.5817843866171003),\n",
      " ('n_estimators=10,max_depth=10 ', 0.5816993464052288),\n",
      " ('n_estimators=15,max_depth=3 ', 0.58128078817734),\n",
      " ('n_estimators=6,max_depth=10 ', 0.5811965811965812),\n",
      " ('n_estimators=8,max_depth=7 ', 0.5807067812798471),\n",
      " ('n_estimators=17,max_depth=6 ', 0.5804597701149425),\n",
      " ('n_estimators=18,max_depth=6 ', 0.5797373358348967),\n",
      " ('n_estimators=9,max_depth=8 ', 0.579624134520277),\n",
      " ('n_estimators=33,max_depth=4 ', 0.5795768169273229),\n",
      " ('n_estimators=8,max_depth=10 ', 0.579175704989154),\n",
      " ('n_estimators=19,max_depth=6 ', 0.5784037558685446),\n",
      " ('n_estimators=39,max_depth=3 ', 0.5783582089552239),\n",
      " ('n_estimators=38,max_depth=3 ', 0.5778191985088535),\n",
      " ('n_estimators=8,max_depth=5 ', 0.5771812080536912),\n",
      " ('n_estimators=31,max_depth=4 ', 0.5771324863883848),\n",
      " ('n_estimators=28,max_depth=4 ', 0.5770964833183049),\n",
      " ('n_estimators=32,max_depth=4 ', 0.576395242451967),\n",
      " ('n_estimators=13,max_depth=6 ', 0.5762711864406781),\n",
      " ('n_estimators=40,max_depth=3 ', 0.575955265610438),\n",
      " ('n_estimators=41,max_depth=3 ', 0.5751633986928104),\n",
      " ('n_estimators=29,max_depth=4 ', 0.5750452079566004),\n",
      " ('n_estimators=26,max_depth=4 ', 0.5750452079566004),\n",
      " ('n_estimators=21,max_depth=4 ', 0.5742574257425742),\n",
      " ('n_estimators=52,max_depth=2 ', 0.5740402193784278),\n",
      " ('n_estimators=20,max_depth=4 ', 0.573943661971831),\n",
      " ('n_estimators=31,max_depth=3 ', 0.5738476011288804),\n",
      " ('n_estimators=50,max_depth=2 ', 0.5737704918032788),\n",
      " ('n_estimators=25,max_depth=4 ', 0.5737556561085972),\n",
      " ('n_estimators=7,max_depth=5 ', 0.5736137667304015),\n",
      " ('n_estimators=10,max_depth=6 ', 0.5735992402659069),\n",
      " ('n_estimators=12,max_depth=6 ', 0.5735849056603772),\n",
      " ('n_estimators=55,max_depth=3 ', 0.5735707591377696),\n",
      " ('n_estimators=49,max_depth=2 ', 0.5732718894009217),\n",
      " ('n_estimators=35,max_depth=3 ', 0.5730337078651686),\n",
      " ('n_estimators=53,max_depth=3 ', 0.5730232558139535),\n",
      " ('n_estimators=24,max_depth=4 ', 0.5729827742520399),\n",
      " ('n_estimators=14,max_depth=3 ', 0.5728542914171656),\n",
      " ('n_estimators=18,max_depth=2 ', 0.5727440147329651),\n",
      " ('n_estimators=19,max_depth=3 ', 0.5725047080979284),\n",
      " ('n_estimators=5,max_depth=8 ', 0.572289156626506),\n",
      " ('n_estimators=56,max_depth=3 ', 0.5722222222222222),\n",
      " ('n_estimators=52,max_depth=3 ', 0.5722222222222222),\n",
      " ('n_estimators=36,max_depth=3 ', 0.5722222222222222),\n",
      " ('n_estimators=42,max_depth=3 ', 0.5722171113155474),\n",
      " ('n_estimators=46,max_depth=3 ', 0.5719591457753018),\n",
      " ('n_estimators=37,max_depth=3 ', 0.5719591457753018),\n",
      " ('n_estimators=32,max_depth=3 ', 0.5716945996275604),\n",
      " ('n_estimators=50,max_depth=3 ', 0.5716928769657724),\n",
      " ('n_estimators=49,max_depth=3 ', 0.5716928769657724),\n",
      " ('n_estimators=17,max_depth=2 ', 0.5716928769657724),\n",
      " ('n_estimators=39,max_depth=2 ', 0.5716911764705882),\n",
      " ('n_estimators=48,max_depth=2 ', 0.5716894977168949),\n",
      " ('n_estimators=5,max_depth=5 ', 0.5714285714285715),\n",
      " ('n_estimators=30,max_depth=4 ', 0.5714285714285715),\n",
      " ('n_estimators=27,max_depth=4 ', 0.5714285714285715),\n",
      " ('n_estimators=19,max_depth=4 ', 0.5711790393013101),\n",
      " ('n_estimators=23,max_depth=4 ', 0.5711695376246599),\n",
      " ('n_estimators=51,max_depth=2 ', 0.5709090909090909),\n",
      " ('n_estimators=30,max_depth=3 ', 0.5708955223880596),\n",
      " ('n_estimators=8,max_depth=8 ', 0.5708699902248289),\n",
      " ('n_estimators=5,max_depth=7 ', 0.5706106870229007),\n",
      " ('n_estimators=55,max_depth=2 ', 0.5703971119133575),\n",
      " ('n_estimators=22,max_depth=4 ', 0.5703971119133575),\n",
      " ('n_estimators=32,max_depth=2 ', 0.5703839122486289),\n",
      " ('n_estimators=16,max_depth=2 ', 0.570110701107011),\n",
      " ('n_estimators=59,max_depth=2 ', 0.569882777276826),\n",
      " ('n_estimators=59,max_depth=3 ', 0.5698427382053654),\n",
      " ('n_estimators=18,max_depth=3 ', 0.5698005698005698),\n",
      " ('n_estimators=17,max_depth=3 ', 0.5697674418604651),\n",
      " ('n_estimators=53,max_depth=2 ', 0.5696202531645569),\n",
      " ('n_estimators=51,max_depth=3 ', 0.5695852534562211),\n",
      " ('n_estimators=60,max_depth=3 ', 0.5695732838589981),\n",
      " ('n_estimators=40,max_depth=2 ', 0.5693430656934306),\n",
      " ('n_estimators=47,max_depth=3 ', 0.5693023255813953),\n",
      " ('n_estimators=34,max_depth=3 ', 0.5693023255813953),\n",
      " ('n_estimators=48,max_depth=3 ', 0.5687732342007434),\n",
      " ('n_estimators=11,max_depth=6 ', 0.5687382297551788),\n",
      " ('n_estimators=7,max_depth=8 ', 0.5685884691848907),\n",
      " ('n_estimators=4,max_depth=6 ', 0.5684803001876172),\n",
      " ('n_estimators=16,max_depth=3 ', 0.568380213385063),\n",
      " ('n_estimators=58,max_depth=2 ', 0.5683453237410071),\n",
      " ('n_estimators=41,max_depth=2 ', 0.5683257918552037),\n",
      " ('n_estimators=34,max_depth=2 ', 0.5683257918552037),\n",
      " ('n_estimators=31,max_depth=2 ', 0.5683257918552037),\n",
      " ('n_estimators=58,max_depth=3 ', 0.5682451253481894),\n",
      " ('n_estimators=54,max_depth=3 ', 0.5682451253481894),\n",
      " ('n_estimators=57,max_depth=3 ', 0.5679925994449584),\n",
      " ('n_estimators=43,max_depth=3 ', 0.5679925994449584),\n",
      " ('n_estimators=25,max_depth=3 ', 0.5679925994449584),\n",
      " ('n_estimators=29,max_depth=3 ', 0.5679702048417133),\n",
      " ('n_estimators=54,max_depth=2 ', 0.5678346810422282),\n",
      " ('n_estimators=44,max_depth=3 ', 0.5677419354838711),\n",
      " ('n_estimators=26,max_depth=3 ', 0.5674931129476585),\n",
      " ('n_estimators=45,max_depth=3 ', 0.5674676524953789),\n",
      " ('n_estimators=28,max_depth=3 ', 0.5674418604651164),\n",
      " ('n_estimators=33,max_depth=3 ', 0.5669144981412639),\n",
      " ('n_estimators=9,max_depth=6 ', 0.5668849391955099),\n",
      " ('n_estimators=4,max_depth=10 ', 0.5666316894018888),\n",
      " ('n_estimators=60,max_depth=2 ', 0.5663082437275985),\n",
      " ('n_estimators=57,max_depth=2 ', 0.5663082437275985),\n",
      " ('n_estimators=56,max_depth=2 ', 0.5663082437275985),\n",
      " ('n_estimators=4,max_depth=3 ', 0.5662188099808062),\n",
      " ('n_estimators=5,max_depth=6 ', 0.5661080074487895),\n",
      " ('n_estimators=13,max_depth=3 ', 0.5656370656370656),\n",
      " ('n_estimators=42,max_depth=2 ', 0.5647058823529412),\n",
      " ('n_estimators=37,max_depth=2 ', 0.5647058823529412),\n",
      " ('n_estimators=26,max_depth=2 ', 0.5646630236794171),\n",
      " ('n_estimators=24,max_depth=3 ', 0.5646196150320807),\n",
      " ('n_estimators=27,max_depth=3 ', 0.5645756457564576),\n",
      " ('n_estimators=6,max_depth=8 ', 0.5645645645645645),\n",
      " ('n_estimators=43,max_depth=2 ', 0.564472497745717),\n",
      " ('n_estimators=18,max_depth=4 ', 0.5643224699828473),\n",
      " ('n_estimators=7,max_depth=6 ', 0.5640552995391704),\n",
      " ('n_estimators=4,max_depth=9 ', 0.564051638530288),\n",
      " ('n_estimators=30,max_depth=2 ', 0.5640107430617727),\n",
      " ('n_estimators=20,max_depth=3 ', 0.5640074211502782),\n",
      " ('n_estimators=33,max_depth=2 ', 0.563963963963964),\n",
      " ('n_estimators=35,max_depth=2 ', 0.5636856368563685),\n",
      " ('n_estimators=28,max_depth=2 ', 0.5632286995515695),\n",
      " ('n_estimators=23,max_depth=3 ', 0.5626134301270418),\n",
      " ('n_estimators=27,max_depth=2 ', 0.5624438454627134),\n",
      " ('n_estimators=29,max_depth=2 ', 0.5622202327663385),\n",
      " ('n_estimators=38,max_depth=2 ', 0.5621621621621622),\n",
      " ('n_estimators=4,max_depth=5 ', 0.562152133580705),\n",
      " ('n_estimators=17,max_depth=4 ', 0.5614927905004242),\n",
      " ('n_estimators=47,max_depth=2 ', 0.5612153708668455),\n",
      " ('n_estimators=45,max_depth=2 ', 0.5612153708668455),\n",
      " ('n_estimators=36,max_depth=2 ', 0.5609318996415771),\n",
      " ('n_estimators=13,max_depth=4 ', 0.5606837606837607),\n",
      " ('n_estimators=6,max_depth=5 ', 0.5603038936372269),\n",
      " ('n_estimators=8,max_depth=6 ', 0.5602240896358543),\n",
      " ('n_estimators=44,max_depth=2 ', 0.56021409455843),\n",
      " ('n_estimators=46,max_depth=2 ', 0.5599284436493739),\n",
      " ('n_estimators=25,max_depth=2 ', 0.55929203539823),\n",
      " ('n_estimators=4,max_depth=8 ', 0.5588822355289421),\n",
      " ('n_estimators=14,max_depth=2 ', 0.5585106382978724),\n",
      " ('n_estimators=6,max_depth=6 ', 0.5582255083179297),\n",
      " ('n_estimators=3,max_depth=5 ', 0.557847533632287),\n",
      " ('n_estimators=13,max_depth=2 ', 0.557847533632287),\n",
      " ('n_estimators=15,max_depth=2 ', 0.5570291777188329),\n",
      " ('n_estimators=22,max_depth=3 ', 0.556663644605621),\n",
      " ('n_estimators=3,max_depth=8 ', 0.556640625),\n",
      " ('n_estimators=21,max_depth=3 ', 0.556159420289855),\n",
      " ('n_estimators=14,max_depth=4 ', 0.5553691275167785),\n",
      " ('n_estimators=19,max_depth=2 ', 0.5551663747810859),\n",
      " ('n_estimators=31,max_depth=1 ', 0.5550500454959054),\n",
      " ('n_estimators=12,max_depth=4 ', 0.555),\n",
      " ('n_estimators=32,max_depth=1 ', 0.5549450549450549),\n",
      " ('n_estimators=12,max_depth=3 ', 0.5548011639185256),\n",
      " ('n_estimators=12,max_depth=2 ', 0.5542600896860986),\n",
      " ('n_estimators=34,max_depth=1 ', 0.5541284403669725),\n",
      " ('n_estimators=24,max_depth=2 ', 0.5531167690956978),\n",
      " ('n_estimators=4,max_depth=7 ', 0.5529522024367385),\n",
      " ('n_estimators=33,max_depth=1 ', 0.5528007346189164),\n",
      " ('n_estimators=15,max_depth=4 ', 0.5522388059701493),\n",
      " ('n_estimators=11,max_depth=4 ', 0.5521774856203779),\n",
      " ('n_estimators=3,max_depth=6 ', 0.5512820512820513),\n",
      " ('n_estimators=16,max_depth=4 ', 0.5510373443983403),\n",
      " ('n_estimators=3,max_depth=10 ', 0.5507246376811594),\n",
      " ('n_estimators=7,max_depth=3 ', 0.5506445672191528),\n",
      " ('n_estimators=2,max_depth=8 ', 0.5504407443682664),\n",
      " ('n_estimators=2,max_depth=5 ', 0.5501379944802208),\n",
      " ('n_estimators=21,max_depth=2 ', 0.5496974935177182),\n",
      " ('n_estimators=22,max_depth=2 ', 0.5492227979274611),\n",
      " ('n_estimators=6,max_depth=3 ', 0.5491949910554561),\n",
      " ('n_estimators=8,max_depth=4 ', 0.5489539748953974),\n",
      " ('n_estimators=23,max_depth=2 ', 0.5478036175710594),\n",
      " ('n_estimators=20,max_depth=2 ', 0.5468615649183147),\n",
      " ('n_estimators=9,max_depth=3 ', 0.5466417910447762),\n",
      " ('n_estimators=5,max_depth=3 ', 0.546572934973638),\n",
      " ('n_estimators=11,max_depth=3 ', 0.5456273764258556),\n",
      " ('n_estimators=8,max_depth=3 ', 0.5449688334817454),\n",
      " ('n_estimators=10,max_depth=3 ', 0.5447761194029851),\n",
      " ('n_estimators=4,max_depth=4 ', 0.5423728813559322),\n",
      " ('n_estimators=41,max_depth=1 ', 0.541196877710321),\n",
      " ('n_estimators=9,max_depth=4 ', 0.5405405405405406),\n",
      " ('n_estimators=29,max_depth=1 ', 0.5403011514614703),\n",
      " ('n_estimators=18,max_depth=1 ', 0.5403011514614703),\n",
      " ('n_estimators=3,max_depth=9 ', 0.5402750491159135),\n",
      " ('n_estimators=26,max_depth=1 ', 0.5400175901495162),\n",
      " ('n_estimators=21,max_depth=1 ', 0.539543057996485),\n",
      " ('n_estimators=27,max_depth=1 ', 0.5392070484581498),\n",
      " ('n_estimators=17,max_depth=1 ', 0.5392070484581498),\n",
      " ('n_estimators=16,max_depth=1 ', 0.5392070484581498),\n",
      " ('n_estimators=15,max_depth=1 ', 0.5392070484581498),\n",
      " ('n_estimators=14,max_depth=1 ', 0.5392070484581498),\n",
      " ('n_estimators=30,max_depth=1 ', 0.5390070921985815),\n",
      " ('n_estimators=2,max_depth=7 ', 0.5388213283442469),\n",
      " ('n_estimators=11,max_depth=2 ', 0.5385934819897085),\n",
      " ('n_estimators=25,max_depth=1 ', 0.5385296722763507),\n",
      " ('n_estimators=40,max_depth=1 ', 0.5378006872852235),\n",
      " ('n_estimators=38,max_depth=1 ', 0.5378006872852235),\n",
      " ('n_estimators=35,max_depth=1 ', 0.5378006872852235),\n",
      " ('n_estimators=23,max_depth=1 ', 0.5373913043478261),\n",
      " ('n_estimators=42,max_depth=1 ', 0.5373390557939914),\n",
      " ('n_estimators=39,max_depth=1 ', 0.5373390557939914),\n",
      " ('n_estimators=28,max_depth=1 ', 0.5370531822144726),\n",
      " ('n_estimators=12,max_depth=1 ', 0.5370531822144726),\n",
      " ('n_estimators=11,max_depth=1 ', 0.5370531822144726),\n",
      " ('n_estimators=4,max_depth=1 ', 0.5370205173951829),\n",
      " ('n_estimators=13,max_depth=1 ', 0.5370205173951829),\n",
      " ('n_estimators=10,max_depth=1 ', 0.5370205173951829),\n",
      " ('n_estimators=19,max_depth=1 ', 0.5369244135534318),\n",
      " ('n_estimators=24,max_depth=1 ', 0.5367132867132868),\n",
      " ('n_estimators=22,max_depth=1 ', 0.5367132867132868),\n",
      " ('n_estimators=3,max_depth=7 ', 0.5361216730038023),\n",
      " ('n_estimators=8,max_depth=2 ', 0.5350210970464135),\n",
      " ('n_estimators=7,max_depth=2 ', 0.5342349957734573),\n",
      " ('n_estimators=6,max_depth=2 ', 0.5342349957734573),\n",
      " ('n_estimators=6,max_depth=4 ', 0.533442088091354),\n",
      " ('n_estimators=43,max_depth=1 ', 0.5332197614991481),\n",
      " ('n_estimators=10,max_depth=4 ', 0.5325824617860017),\n",
      " ('n_estimators=1,max_depth=5 ', 0.5324553151458137),\n",
      " ('n_estimators=5,max_depth=4 ', 0.5310734463276835),\n",
      " ('n_estimators=37,max_depth=1 ', 0.5309584393553859),\n",
      " ('n_estimators=2,max_depth=6 ', 0.5307971014492754),\n",
      " ('n_estimators=5,max_depth=2 ', 0.5307497893850043),\n",
      " ('n_estimators=36,max_depth=1 ', 0.5285234899328859),\n",
      " ('n_estimators=2,max_depth=3 ', 0.528440366972477),\n",
      " ('n_estimators=49,max_depth=1 ', 0.5282700421940928),\n",
      " ('n_estimators=7,max_depth=4 ', 0.528),\n",
      " ('n_estimators=48,max_depth=1 ', 0.5278246205733558),\n",
      " ('n_estimators=46,max_depth=1 ', 0.5273799494524011),\n",
      " ('n_estimators=47,max_depth=1 ', 0.5269360269360269),\n",
      " ('n_estimators=7,max_depth=1 ', 0.5268630849220104),\n",
      " ('n_estimators=6,max_depth=1 ', 0.5268630849220104),\n",
      " ('n_estimators=20,max_depth=1 ', 0.5259574468085106),\n",
      " ('n_estimators=52,max_depth=1 ', 0.5251677852348993),\n",
      " ('n_estimators=45,max_depth=1 ', 0.5250836120401339),\n",
      " ('n_estimators=44,max_depth=1 ', 0.5250836120401339),\n",
      " ('n_estimators=57,max_depth=1 ', 0.525),\n",
      " ('n_estimators=56,max_depth=1 ', 0.525),\n",
      " ('n_estimators=55,max_depth=1 ', 0.5247275775356244),\n",
      " ('n_estimators=54,max_depth=1 ', 0.5247275775356244),\n",
      " ('n_estimators=53,max_depth=1 ', 0.5247275775356244),\n",
      " ('n_estimators=51,max_depth=1 ', 0.5247275775356244),\n",
      " ('n_estimators=50,max_depth=1 ', 0.5246449456975772),\n",
      " ('n_estimators=58,max_depth=1 ', 0.5242070116861436),\n",
      " ('n_estimators=3,max_depth=3 ', 0.5238970588235293),\n",
      " ('n_estimators=59,max_depth=1 ', 0.5226130653266332),\n",
      " ('n_estimators=60,max_depth=1 ', 0.5221757322175733),\n",
      " ('n_estimators=2,max_depth=9 ', 0.5206532180595581),\n",
      " ('n_estimators=8,max_depth=1 ', 0.5206422018348624),\n",
      " ('n_estimators=1,max_depth=3 ', 0.5203989120580236),\n",
      " ('n_estimators=9,max_depth=2 ', 0.5191555903049258),\n",
      " ('n_estimators=1,max_depth=8 ', 0.5130434782608695),\n",
      " ('n_estimators=1,max_depth=10 ', 0.5130183220829315),\n",
      " ('n_estimators=1,max_depth=7 ', 0.5109243697478992),\n",
      " ('n_estimators=2,max_depth=4 ', 0.5076660988074957),\n",
      " ('n_estimators=3,max_depth=1 ', 0.5050505050505051),\n",
      " ('n_estimators=3,max_depth=4 ', 0.503765690376569),\n",
      " ('n_estimators=1,max_depth=9 ', 0.5032987747408105),\n",
      " ('n_estimators=2,max_depth=10 ', 0.5010482180293501),\n",
      " ('n_estimators=9,max_depth=1 ', 0.499608457321848),\n",
      " ('n_estimators=10,max_depth=2 ', 0.4992050874403815),\n",
      " ('n_estimators=1,max_depth=6 ', 0.4961896697713802),\n",
      " ('n_estimators=4,max_depth=2 ', 0.4960998439937598),\n",
      " ('n_estimators=5,max_depth=1 ', 0.4952830188679245),\n",
      " ('n_estimators=2,max_depth=1 ', 0.4838187702265373),\n",
      " ('n_estimators=1,max_depth=2 ', 0.4838187702265373),\n",
      " ('n_estimators=1,max_depth=1 ', 0.4838187702265373),\n",
      " ('n_estimators=1,max_depth=4 ', 0.48127490039840637),\n",
      " ('n_estimators=3,max_depth=2 ', 0.43137254901960786),\n",
      " ('n_estimators=2,max_depth=2 ', 0.43137254901960786)]\n"
     ]
    }
   ],
   "source": [
    "# RandomForest model\n",
    "\n",
    "# Create dictionary\n",
    "result_dict={}\n",
    "\n",
    "for estimator in range(1,51,1):\n",
    "    for depth in range(1,11,1):\n",
    "        model = RandomForestClassifier(n_estimators=estimator, max_depth=depth, random_state=RANDOM_STATE)\n",
    "        model.fit(features_train_upsampled, target_train_upsampled)\n",
    "        predicted_valid = model.predict(features_valid)\n",
    "       \n",
    "        # Calc f1 score and Add it to dictionary\n",
    "        key = 'n_estimators={},max_depth={} '.format(estimator,depth)\n",
    "        result_dict[key] =  f1_score(target_valid, predicted_valid)\n",
    "        \n",
    "        \n",
    "print('The best F1 params')\n",
    "# Sort the dictionary by values       \n",
    "sorted_results = sorted(result_dict.items(),key = lambda kv:(kv[1], kv[0]),reverse=True)\n",
    "\n",
    "# Print the results in ascending order\n",
    "pprint.pprint(sorted_results)"
   ]
  },
  {
   "cell_type": "code",
   "execution_count": 65,
   "metadata": {},
   "outputs": [
    {
     "name": "stdout",
     "output_type": "stream",
     "text": [
      "F1: 0.6239495798319327\n",
      "ROC_AUC:0.8600040718684786\n"
     ]
    }
   ],
   "source": [
    "# The chosen model\n",
    "model = RandomForestClassifier(n_estimators=34, max_depth=9, random_state=RANDOM_STATE)\n",
    "model.fit(features_train_upsampled, target_train_upsampled)\n",
    "predicted_valid = model.predict(features_valid)\n",
    "       \n",
    "print('F1:', f1_score(target_valid, predicted_valid))\n",
    "# roc_auc calc\n",
    "probabilities_valid = model.predict_proba(features_valid)\n",
    "probabilities_one_valid = probabilities_valid[:, 1]\n",
    "\n",
    "print('ROC_AUC:{}'.format(roc_auc_score(target_valid,probabilities_one_valid)))\n"
   ]
  },
  {
   "cell_type": "code",
   "execution_count": 54,
   "metadata": {},
   "outputs": [
    {
     "name": "stdout",
     "output_type": "stream",
     "text": [
      "F1 score: 0.4815436241610738\n",
      "ROC_AUC:0.7618728127202704\n"
     ]
    }
   ],
   "source": [
    "# LogisticRegression model\n",
    "model = LogisticRegression(random_state=RANDOM_STATE,solver='liblinear')\n",
    "model.fit(features_train_upsampled, target_train_upsampled)\n",
    "predicted_valid = model.predict(features_valid)\n",
    "print('F1 score:', f1_score(target_valid, predicted_valid))\n",
    "\n",
    "# roc_auc calc\n",
    "probabilities_valid = model.predict_proba(features_valid)\n",
    "probabilities_one_valid = probabilities_valid[:, 1]\n",
    "\n",
    "print('ROC_AUC:{}'.format(roc_auc_score(target_valid,probabilities_one_valid)))\n"
   ]
  },
  {
   "cell_type": "markdown",
   "metadata": {},
   "source": [
    "### Upsampling conclusion"
   ]
  },
  {
   "cell_type": "markdown",
   "metadata": {},
   "source": [
    "- using DecisionTree:\n",
    "    - F1 score of 0.478\n",
    "    - ROC_AUC:0.673\n",
    "- using LogisticRegression:\n",
    "    - F1 score = 0.481\n",
    "    - ROC_AUC=0.761\n",
    "- using RandomForest using n_estimators=34 and max_depth=9:\n",
    "    - F1 score = 0.623\n",
    "    - ROC_AUC = 0.860"
   ]
  },
  {
   "cell_type": "markdown",
   "metadata": {},
   "source": [
    "### Final Conclusion"
   ]
  },
  {
   "cell_type": "markdown",
   "metadata": {},
   "source": [
    "RandomForest gave us the best results when we balanced the data\n",
    "we will check which one of them will give us the best results using the test data"
   ]
  },
  {
   "cell_type": "code",
   "execution_count": 70,
   "metadata": {},
   "outputs": [
    {
     "name": "stdout",
     "output_type": "stream",
     "text": [
      "F1: 0.610655737704918\n",
      "ROC_AUC:0.8621950147373876\n"
     ]
    }
   ],
   "source": [
    "# RandomForest  using upsampling\n",
    "\n",
    "model = RandomForestClassifier(n_estimators=34, max_depth=9, random_state=RANDOM_STATE)\n",
    "model.fit(features_train_upsampled, target_train_upsampled)\n",
    "predicted_test = model.predict(features_test)\n",
    "       \n",
    "print('F1:', f1_score(target_test, predicted_test))\n",
    "# roc_auc calc\n",
    "probabilities_test = model.predict_proba(features_test)\n",
    "probabilities_one_test = probabilities_test[:, 1]\n",
    "\n",
    "print('ROC_AUC:{}'.format(roc_auc_score(target_test,probabilities_one_test)))\n"
   ]
  },
  {
   "cell_type": "code",
   "execution_count": null,
   "metadata": {},
   "outputs": [],
   "source": []
  },
  {
   "cell_type": "code",
   "execution_count": 71,
   "metadata": {},
   "outputs": [
    {
     "name": "stdout",
     "output_type": "stream",
     "text": [
      "F1: 0.620380739081747\n",
      "ROC_AUC:0.8571445096868826\n"
     ]
    }
   ],
   "source": [
    "#RandomForest  using class_weight='balanced'\n",
    "model = RandomForestClassifier(class_weight='balanced',n_estimators=26, max_depth=9, random_state=RANDOM_STATE)\n",
    "model.fit(features_train, target_train)\n",
    "predicted_test = model.predict(features_test)\n",
    "       \n",
    "print('F1:', f1_score(target_test, predicted_test))\n",
    "# roc_auc calc\n",
    "probabilities_test = model.predict_proba(features_test)\n",
    "probabilities_one_test = probabilities_test[:, 1]\n",
    "\n",
    "print('ROC_AUC:{}'.format(roc_auc_score(target_test,probabilities_one_test)))\n"
   ]
  },
  {
   "cell_type": "markdown",
   "metadata": {},
   "source": [
    "The best approach to balnce the data is using class_weight='balanced' on RandomForest model using n_estimators=26 and max_depth=9. <br>\n",
    "f1 score = 0.620 <br>\n",
    "ROC_AUC = 0.857  <br>\n",
    "\n",
    "Before balancing the results were: <br>\n",
    "F1 = 0.558 <br>\n",
    "ROC_AUC = 0.860 <br> <br>\n",
    "\n",
    "<b>We improved  the model</b>\n"
   ]
  },
  {
   "cell_type": "markdown",
   "metadata": {},
   "source": [
    "## Perform the final testing."
   ]
  },
  {
   "cell_type": "code",
   "execution_count": 61,
   "metadata": {},
   "outputs": [
    {
     "name": "stdout",
     "output_type": "stream",
     "text": [
      "[('constant', 0.3381803074366431),\n",
      " ('uniform', 0.2706552706552707),\n",
      " ('stratified', 0.2399020807833537),\n",
      " ('prior', 0.0),\n",
      " ('most_frequent', 0.0)]\n"
     ]
    },
    {
     "name": "stderr",
     "output_type": "stream",
     "text": [
      "/opt/conda/lib/python3.7/site-packages/sklearn/metrics/classification.py:1437: UndefinedMetricWarning: F-score is ill-defined and being set to 0.0 due to no predicted samples.\n",
      "  'precision', 'predicted', average, warn_for)\n"
     ]
    }
   ],
   "source": [
    "# Create dictionary\n",
    "result_dict={}\n",
    "strategy_list=['stratified', 'most_frequent', 'prior', 'uniform','constant']\n",
    "\n",
    "\n",
    "for strategy in strategy_list:  \n",
    "    if strategy== 'constant':\n",
    "         dummy_model = DummyClassifier(strategy=strategy, constant=1)\n",
    "    else:\n",
    "         dummy_model = DummyClassifier(strategy=strategy)\n",
    "         \n",
    "        \n",
    "    dummy_model.fit(features_train, target_train)\n",
    "    predicted_test = dummy_model.predict(features_test)\n",
    "\n",
    "   # Add item to dictionary\n",
    "    result_dict[strategy] =f1_score(target_test, predicted_test)\n",
    "                 \n",
    "# Sort the dictionary by values       \n",
    "sorted_results = sorted(result_dict.items(),key = lambda kv:(kv[1], kv[0]),reverse=True)\n",
    "\n",
    "# Print the results in ascending order\n",
    "pprint.pprint(sorted_results)\n",
    "\n"
   ]
  },
  {
   "cell_type": "markdown",
   "metadata": {},
   "source": [
    "constant strategy  gave us the best F1 score 0.338"
   ]
  },
  {
   "cell_type": "markdown",
   "metadata": {},
   "source": [
    "### Conclusion"
   ]
  },
  {
   "cell_type": "markdown",
   "metadata": {},
   "source": [
    "The dummy model gave us F1 score of 0.338 .  <br>\n",
    "The best approach to balnce the data is using RandomForest with class_weight='balanced' model using n_estimators=26 and max_depth=9. <br>\n",
    "The f1 score that we got is 0.620   <br>\n",
    "The roc_auc that we got is 0.860 <br>\n",
    "<b> Our model is much better than the dummy model</b>"
   ]
  }
 ],
 "metadata": {
  "ExecuteTimeLog": [
   {
    "duration": 425,
    "start_time": "2021-09-30T06:37:05.194Z"
   },
   {
    "duration": 1202,
    "start_time": "2021-09-30T06:37:10.012Z"
   },
   {
    "duration": 65,
    "start_time": "2021-09-30T06:37:12.466Z"
   },
   {
    "duration": 1078,
    "start_time": "2021-09-30T08:01:19.744Z"
   },
   {
    "duration": 49,
    "start_time": "2021-09-30T08:01:20.824Z"
   },
   {
    "duration": 42,
    "start_time": "2021-09-30T08:19:15.288Z"
   },
   {
    "duration": 9,
    "start_time": "2021-09-30T08:23:59.440Z"
   },
   {
    "duration": 25,
    "start_time": "2021-09-30T09:03:27.569Z"
   },
   {
    "duration": 462,
    "start_time": "2021-09-30T09:04:02.379Z"
   },
   {
    "duration": 24,
    "start_time": "2021-09-30T09:04:04.520Z"
   },
   {
    "duration": 50,
    "start_time": "2021-09-30T09:04:42.898Z"
   },
   {
    "duration": 9045,
    "start_time": "2021-09-30T09:05:47.427Z"
   },
   {
    "duration": 8,
    "start_time": "2021-09-30T09:06:55.269Z"
   },
   {
    "duration": 538,
    "start_time": "2021-09-30T09:21:51.405Z"
   },
   {
    "duration": 427,
    "start_time": "2021-09-30T09:22:39.576Z"
   },
   {
    "duration": 4,
    "start_time": "2021-09-30T09:23:16.888Z"
   },
   {
    "duration": 41,
    "start_time": "2021-09-30T09:23:19.422Z"
   },
   {
    "duration": 369,
    "start_time": "2021-09-30T09:23:22.894Z"
   },
   {
    "duration": 6,
    "start_time": "2021-09-30T09:31:25.073Z"
   },
   {
    "duration": 47,
    "start_time": "2021-09-30T09:31:28.179Z"
   },
   {
    "duration": 9,
    "start_time": "2021-09-30T09:31:46.721Z"
   },
   {
    "duration": 10,
    "start_time": "2021-09-30T09:32:04.705Z"
   },
   {
    "duration": 390,
    "start_time": "2021-09-30T09:32:43.257Z"
   },
   {
    "duration": 37,
    "start_time": "2021-09-30T09:32:53.017Z"
   },
   {
    "duration": 19,
    "start_time": "2021-09-30T09:33:04.043Z"
   },
   {
    "duration": 6,
    "start_time": "2021-09-30T09:34:09.354Z"
   },
   {
    "duration": 18,
    "start_time": "2021-09-30T09:34:37.860Z"
   },
   {
    "duration": 21,
    "start_time": "2021-09-30T09:34:55.898Z"
   },
   {
    "duration": 171,
    "start_time": "2021-09-30T10:12:13.531Z"
   },
   {
    "duration": 118,
    "start_time": "2021-09-30T10:12:25.426Z"
   },
   {
    "duration": 36,
    "start_time": "2021-09-30T10:12:31.292Z"
   },
   {
    "duration": 33,
    "start_time": "2021-09-30T10:12:41.499Z"
   },
   {
    "duration": 47,
    "start_time": "2021-09-30T10:13:39.691Z"
   },
   {
    "duration": 36,
    "start_time": "2021-09-30T10:20:46.138Z"
   },
   {
    "duration": 4,
    "start_time": "2021-09-30T10:30:45.681Z"
   },
   {
    "duration": 1433,
    "start_time": "2021-09-30T10:38:41.362Z"
   },
   {
    "duration": 355,
    "start_time": "2021-09-30T10:38:53.068Z"
   },
   {
    "duration": 7,
    "start_time": "2021-09-30T10:39:37.325Z"
   },
   {
    "duration": 38,
    "start_time": "2021-09-30T10:41:07.650Z"
   },
   {
    "duration": 10,
    "start_time": "2021-09-30T10:41:21.233Z"
   },
   {
    "duration": 9814,
    "start_time": "2021-09-30T10:48:14.543Z"
   },
   {
    "duration": 9776,
    "start_time": "2021-09-30T10:49:11.128Z"
   },
   {
    "duration": 4,
    "start_time": "2021-09-30T10:49:32.106Z"
   },
   {
    "duration": 5,
    "start_time": "2021-09-30T10:50:06.553Z"
   },
   {
    "duration": 10660,
    "start_time": "2021-09-30T10:50:14.041Z"
   },
   {
    "duration": 12227,
    "start_time": "2021-09-30T10:50:49.650Z"
   },
   {
    "duration": 10,
    "start_time": "2021-09-30T10:56:58.528Z"
   },
   {
    "duration": 370,
    "start_time": "2021-09-30T10:57:20.137Z"
   },
   {
    "duration": 33,
    "start_time": "2021-09-30T11:01:00.068Z"
   },
   {
    "duration": 346,
    "start_time": "2021-09-30T11:01:16.645Z"
   },
   {
    "duration": 45,
    "start_time": "2021-09-30T11:01:27.867Z"
   },
   {
    "duration": 351,
    "start_time": "2021-09-30T11:01:30.745Z"
   },
   {
    "duration": 345,
    "start_time": "2021-09-30T11:01:36.788Z"
   },
   {
    "duration": 41,
    "start_time": "2021-09-30T11:01:41.441Z"
   },
   {
    "duration": 11,
    "start_time": "2021-09-30T11:01:43.879Z"
   },
   {
    "duration": 42,
    "start_time": "2021-09-30T11:03:06.791Z"
   },
   {
    "duration": 11,
    "start_time": "2021-09-30T11:03:11.894Z"
   },
   {
    "duration": 30,
    "start_time": "2021-09-30T11:04:37.579Z"
   },
   {
    "duration": 30,
    "start_time": "2021-09-30T11:04:39.944Z"
   },
   {
    "duration": 9,
    "start_time": "2021-09-30T11:04:42.805Z"
   },
   {
    "duration": 9,
    "start_time": "2021-09-30T11:21:52.627Z"
   },
   {
    "duration": 114,
    "start_time": "2021-09-30T11:33:01.959Z"
   },
   {
    "duration": 508,
    "start_time": "2021-09-30T11:33:21.759Z"
   },
   {
    "duration": 957,
    "start_time": "2021-09-30T11:33:45.968Z"
   },
   {
    "duration": 495,
    "start_time": "2021-09-30T11:34:58.473Z"
   },
   {
    "duration": 346,
    "start_time": "2021-09-30T11:35:25.119Z"
   },
   {
    "duration": 33,
    "start_time": "2021-09-30T11:35:32.018Z"
   },
   {
    "duration": 9,
    "start_time": "2021-09-30T11:35:35.707Z"
   },
   {
    "duration": 4,
    "start_time": "2021-09-30T11:35:39.774Z"
   },
   {
    "duration": 15,
    "start_time": "2021-09-30T11:35:53.409Z"
   },
   {
    "duration": 4,
    "start_time": "2021-09-30T11:41:24.960Z"
   },
   {
    "duration": 40,
    "start_time": "2021-09-30T11:41:24.966Z"
   },
   {
    "duration": 6,
    "start_time": "2021-09-30T11:41:25.009Z"
   },
   {
    "duration": 30,
    "start_time": "2021-09-30T11:41:25.017Z"
   },
   {
    "duration": 9,
    "start_time": "2021-09-30T11:41:25.048Z"
   },
   {
    "duration": 1046,
    "start_time": "2021-09-30T11:41:30.390Z"
   },
   {
    "duration": 339,
    "start_time": "2021-09-30T11:42:09.311Z"
   },
   {
    "duration": 18,
    "start_time": "2021-09-30T11:42:33.767Z"
   },
   {
    "duration": 12,
    "start_time": "2021-09-30T11:44:35.896Z"
   },
   {
    "duration": 11,
    "start_time": "2021-09-30T11:44:47.049Z"
   },
   {
    "duration": 18,
    "start_time": "2021-09-30T11:44:57.337Z"
   },
   {
    "duration": 12,
    "start_time": "2021-09-30T11:45:09.785Z"
   },
   {
    "duration": 11,
    "start_time": "2021-09-30T11:45:12.392Z"
   },
   {
    "duration": 15,
    "start_time": "2021-09-30T11:46:51.568Z"
   },
   {
    "duration": 14,
    "start_time": "2021-09-30T12:28:19.709Z"
   },
   {
    "duration": 1350,
    "start_time": "2021-10-02T08:30:10.467Z"
   },
   {
    "duration": 117,
    "start_time": "2021-10-02T08:30:11.820Z"
   },
   {
    "duration": 8,
    "start_time": "2021-10-02T08:30:11.940Z"
   },
   {
    "duration": 51,
    "start_time": "2021-10-02T08:30:11.950Z"
   },
   {
    "duration": 17,
    "start_time": "2021-10-02T08:30:12.003Z"
   },
   {
    "duration": 20,
    "start_time": "2021-10-02T08:30:12.022Z"
   },
   {
    "duration": 415,
    "start_time": "2021-10-02T08:30:12.044Z"
   },
   {
    "duration": 378,
    "start_time": "2021-10-02T10:37:19.579Z"
   },
   {
    "duration": 1103,
    "start_time": "2021-10-02T10:38:11.219Z"
   },
   {
    "duration": 53,
    "start_time": "2021-10-02T10:38:12.324Z"
   },
   {
    "duration": 6,
    "start_time": "2021-10-02T10:38:12.379Z"
   },
   {
    "duration": 33,
    "start_time": "2021-10-02T10:38:12.387Z"
   },
   {
    "duration": 12,
    "start_time": "2021-10-02T10:38:12.422Z"
   },
   {
    "duration": 13,
    "start_time": "2021-10-02T10:38:12.436Z"
   },
   {
    "duration": 40,
    "start_time": "2021-10-02T10:38:19.877Z"
   },
   {
    "duration": 210,
    "start_time": "2021-10-02T10:40:51.626Z"
   },
   {
    "duration": 131,
    "start_time": "2021-10-02T10:40:58.133Z"
   },
   {
    "duration": 392,
    "start_time": "2021-10-02T10:41:26.822Z"
   },
   {
    "duration": 137,
    "start_time": "2021-10-02T10:41:32.595Z"
   },
   {
    "duration": 130,
    "start_time": "2021-10-02T10:42:04.640Z"
   },
   {
    "duration": 6,
    "start_time": "2021-10-02T10:43:44.544Z"
   },
   {
    "duration": 6,
    "start_time": "2021-10-02T10:44:11.936Z"
   },
   {
    "duration": 133,
    "start_time": "2021-10-02T10:44:57.962Z"
   },
   {
    "duration": 469,
    "start_time": "2021-10-02T10:46:01.609Z"
   },
   {
    "duration": 668,
    "start_time": "2021-10-02T10:46:40.448Z"
   },
   {
    "duration": 553,
    "start_time": "2021-10-02T10:46:53.291Z"
   },
   {
    "duration": 155,
    "start_time": "2021-10-02T10:47:24.659Z"
   },
   {
    "duration": 128,
    "start_time": "2021-10-02T10:47:58.331Z"
   },
   {
    "duration": 41,
    "start_time": "2021-10-02T10:48:16.573Z"
   },
   {
    "duration": 60,
    "start_time": "2021-10-02T11:06:54.480Z"
   },
   {
    "duration": 55,
    "start_time": "2021-10-02T11:08:05.953Z"
   },
   {
    "duration": 3,
    "start_time": "2021-10-02T11:27:52.088Z"
   },
   {
    "duration": 3,
    "start_time": "2021-10-02T11:28:45.918Z"
   },
   {
    "duration": 3,
    "start_time": "2021-10-02T11:28:45.926Z"
   },
   {
    "duration": 49,
    "start_time": "2021-10-02T11:28:45.931Z"
   },
   {
    "duration": 6,
    "start_time": "2021-10-02T11:28:45.982Z"
   },
   {
    "duration": 31,
    "start_time": "2021-10-02T11:28:45.990Z"
   },
   {
    "duration": 12,
    "start_time": "2021-10-02T11:28:46.022Z"
   },
   {
    "duration": 13,
    "start_time": "2021-10-02T11:28:46.035Z"
   },
   {
    "duration": 30,
    "start_time": "2021-10-02T11:28:46.050Z"
   },
   {
    "duration": 5,
    "start_time": "2021-10-02T11:28:46.083Z"
   },
   {
    "duration": 151,
    "start_time": "2021-10-02T11:28:46.090Z"
   },
   {
    "duration": 45,
    "start_time": "2021-10-02T11:28:46.243Z"
   },
   {
    "duration": 116,
    "start_time": "2021-10-02T11:38:31.010Z"
   },
   {
    "duration": 341,
    "start_time": "2021-10-02T11:38:35.554Z"
   },
   {
    "duration": 4,
    "start_time": "2021-10-02T11:38:53.675Z"
   },
   {
    "duration": 7,
    "start_time": "2021-10-02T11:38:59.024Z"
   },
   {
    "duration": 338,
    "start_time": "2021-10-02T11:44:56.058Z"
   },
   {
    "duration": 6,
    "start_time": "2021-10-02T11:45:27.461Z"
   },
   {
    "duration": 116,
    "start_time": "2021-10-02T11:46:56.249Z"
   },
   {
    "duration": 8,
    "start_time": "2021-10-02T11:47:17.560Z"
   },
   {
    "duration": 6,
    "start_time": "2021-10-02T11:47:21.930Z"
   },
   {
    "duration": 7,
    "start_time": "2021-10-02T11:47:46.257Z"
   },
   {
    "duration": 7,
    "start_time": "2021-10-02T11:47:57.336Z"
   },
   {
    "duration": 7,
    "start_time": "2021-10-02T11:49:46.500Z"
   },
   {
    "duration": 166,
    "start_time": "2021-10-02T11:52:48.381Z"
   },
   {
    "duration": 350,
    "start_time": "2021-10-02T11:52:54.604Z"
   },
   {
    "duration": 3,
    "start_time": "2021-10-02T11:55:53.672Z"
   },
   {
    "duration": 8,
    "start_time": "2021-10-02T11:55:58.838Z"
   },
   {
    "duration": 339,
    "start_time": "2021-10-02T12:01:23.812Z"
   },
   {
    "duration": 4,
    "start_time": "2021-10-02T12:01:36.595Z"
   },
   {
    "duration": 10,
    "start_time": "2021-10-02T12:01:40.962Z"
   },
   {
    "duration": 215,
    "start_time": "2021-10-02T13:45:09.445Z"
   },
   {
    "duration": 999,
    "start_time": "2021-10-02T13:45:27.529Z"
   },
   {
    "duration": 1770,
    "start_time": "2021-10-02T13:45:33.323Z"
   },
   {
    "duration": 5,
    "start_time": "2021-10-02T13:45:51.177Z"
   },
   {
    "duration": 4,
    "start_time": "2021-10-02T13:45:51.184Z"
   },
   {
    "duration": 50,
    "start_time": "2021-10-02T13:45:51.191Z"
   },
   {
    "duration": 6,
    "start_time": "2021-10-02T13:45:51.244Z"
   },
   {
    "duration": 31,
    "start_time": "2021-10-02T13:45:51.251Z"
   },
   {
    "duration": 25,
    "start_time": "2021-10-02T13:45:51.283Z"
   },
   {
    "duration": 13,
    "start_time": "2021-10-02T13:45:51.310Z"
   },
   {
    "duration": 6,
    "start_time": "2021-10-02T13:45:51.325Z"
   },
   {
    "duration": 7,
    "start_time": "2021-10-02T13:45:51.333Z"
   },
   {
    "duration": 223,
    "start_time": "2021-10-02T13:45:51.342Z"
   },
   {
    "duration": 51,
    "start_time": "2021-10-02T13:45:51.567Z"
   },
   {
    "duration": 7,
    "start_time": "2021-10-02T13:45:51.620Z"
   },
   {
    "duration": 6,
    "start_time": "2021-10-02T13:45:51.628Z"
   },
   {
    "duration": 6,
    "start_time": "2021-10-02T13:45:51.635Z"
   },
   {
    "duration": 7,
    "start_time": "2021-10-02T13:45:51.642Z"
   },
   {
    "duration": 196,
    "start_time": "2021-10-02T14:45:58.980Z"
   },
   {
    "duration": 3,
    "start_time": "2021-10-02T14:46:38.925Z"
   },
   {
    "duration": 189,
    "start_time": "2021-10-02T14:46:53.425Z"
   },
   {
    "duration": 47159,
    "start_time": "2021-10-02T14:47:54.472Z"
   },
   {
    "duration": 52351,
    "start_time": "2021-10-02T14:54:49.797Z"
   },
   {
    "duration": 197,
    "start_time": "2021-10-02T15:32:59.012Z"
   },
   {
    "duration": 231,
    "start_time": "2021-10-02T15:33:28.545Z"
   },
   {
    "duration": 4,
    "start_time": "2021-10-02T15:33:52.096Z"
   },
   {
    "duration": 14,
    "start_time": "2021-10-02T15:34:08.172Z"
   },
   {
    "duration": 160,
    "start_time": "2021-10-02T15:37:33.579Z"
   },
   {
    "duration": 13,
    "start_time": "2021-10-02T15:37:38.768Z"
   },
   {
    "duration": 18,
    "start_time": "2021-10-02T15:37:55.790Z"
   },
   {
    "duration": 16,
    "start_time": "2021-10-02T15:39:01.316Z"
   },
   {
    "duration": 4,
    "start_time": "2021-10-02T15:48:48.879Z"
   },
   {
    "duration": 222,
    "start_time": "2021-10-02T15:48:57.061Z"
   },
   {
    "duration": 49,
    "start_time": "2021-10-02T15:49:43.806Z"
   },
   {
    "duration": 63312,
    "start_time": "2021-10-02T15:52:16.414Z"
   },
   {
    "duration": 56,
    "start_time": "2021-10-02T15:58:23.710Z"
   },
   {
    "duration": 72,
    "start_time": "2021-10-02T15:58:48.236Z"
   },
   {
    "duration": 251,
    "start_time": "2021-10-02T16:05:31.881Z"
   },
   {
    "duration": 4,
    "start_time": "2021-10-02T17:22:42.696Z"
   },
   {
    "duration": 6,
    "start_time": "2021-10-02T17:22:42.703Z"
   },
   {
    "duration": 43,
    "start_time": "2021-10-02T17:22:42.712Z"
   },
   {
    "duration": 5,
    "start_time": "2021-10-02T17:22:42.757Z"
   },
   {
    "duration": 55,
    "start_time": "2021-10-02T17:22:42.763Z"
   },
   {
    "duration": 11,
    "start_time": "2021-10-02T17:22:42.820Z"
   },
   {
    "duration": 12,
    "start_time": "2021-10-02T17:22:42.833Z"
   },
   {
    "duration": 7,
    "start_time": "2021-10-02T17:22:42.846Z"
   },
   {
    "duration": 5,
    "start_time": "2021-10-02T17:22:42.855Z"
   },
   {
    "duration": 171,
    "start_time": "2021-10-02T17:22:42.862Z"
   },
   {
    "duration": 38,
    "start_time": "2021-10-02T17:22:43.034Z"
   },
   {
    "duration": 48256,
    "start_time": "2021-10-02T17:22:43.073Z"
   },
   {
    "duration": 8,
    "start_time": "2021-10-02T17:23:31.331Z"
   },
   {
    "duration": 7,
    "start_time": "2021-10-02T17:23:31.341Z"
   },
   {
    "duration": 6,
    "start_time": "2021-10-02T17:23:31.350Z"
   },
   {
    "duration": 8,
    "start_time": "2021-10-02T17:23:31.357Z"
   },
   {
    "duration": 46,
    "start_time": "2021-10-02T17:23:31.367Z"
   },
   {
    "duration": 4,
    "start_time": "2021-10-02T17:23:31.415Z"
   },
   {
    "duration": 52,
    "start_time": "2021-10-02T17:23:31.421Z"
   },
   {
    "duration": 213,
    "start_time": "2021-10-02T17:25:38.147Z"
   },
   {
    "duration": 189,
    "start_time": "2021-10-02T17:28:02.189Z"
   },
   {
    "duration": 216,
    "start_time": "2021-10-02T17:28:49.702Z"
   },
   {
    "duration": 286,
    "start_time": "2021-10-02T17:30:00.945Z"
   },
   {
    "duration": 189,
    "start_time": "2021-10-02T17:34:34.791Z"
   },
   {
    "duration": 206,
    "start_time": "2021-10-02T17:34:43.093Z"
   },
   {
    "duration": 191,
    "start_time": "2021-10-02T17:35:06.719Z"
   },
   {
    "duration": 193,
    "start_time": "2021-10-02T17:35:27.905Z"
   },
   {
    "duration": 237,
    "start_time": "2021-10-02T17:35:33.705Z"
   },
   {
    "duration": 194,
    "start_time": "2021-10-02T17:35:55.504Z"
   },
   {
    "duration": 202,
    "start_time": "2021-10-02T18:02:20.046Z"
   },
   {
    "duration": 63808,
    "start_time": "2021-10-02T18:02:30.208Z"
   },
   {
    "duration": 68800,
    "start_time": "2021-10-02T18:06:11.739Z"
   },
   {
    "duration": 255,
    "start_time": "2021-10-02T18:09:26.501Z"
   },
   {
    "duration": 299,
    "start_time": "2021-10-02T18:10:25.291Z"
   },
   {
    "duration": 179,
    "start_time": "2021-10-02T18:10:58.413Z"
   },
   {
    "duration": 4,
    "start_time": "2021-10-02T18:11:31.918Z"
   },
   {
    "duration": 10,
    "start_time": "2021-10-02T18:11:31.924Z"
   },
   {
    "duration": 48,
    "start_time": "2021-10-02T18:11:31.936Z"
   },
   {
    "duration": 5,
    "start_time": "2021-10-02T18:11:31.986Z"
   },
   {
    "duration": 35,
    "start_time": "2021-10-02T18:11:31.992Z"
   },
   {
    "duration": 11,
    "start_time": "2021-10-02T18:11:32.029Z"
   },
   {
    "duration": 14,
    "start_time": "2021-10-02T18:11:32.041Z"
   },
   {
    "duration": 9,
    "start_time": "2021-10-02T18:11:32.057Z"
   },
   {
    "duration": 5,
    "start_time": "2021-10-02T18:11:32.069Z"
   },
   {
    "duration": 177,
    "start_time": "2021-10-02T18:11:32.076Z"
   },
   {
    "duration": 45,
    "start_time": "2021-10-02T18:11:32.255Z"
   },
   {
    "duration": 50033,
    "start_time": "2021-10-02T18:11:32.302Z"
   },
   {
    "duration": 6,
    "start_time": "2021-10-02T18:12:22.336Z"
   },
   {
    "duration": 6,
    "start_time": "2021-10-02T18:12:22.344Z"
   },
   {
    "duration": 6,
    "start_time": "2021-10-02T18:12:22.352Z"
   },
   {
    "duration": 7,
    "start_time": "2021-10-02T18:13:51.416Z"
   },
   {
    "duration": 5,
    "start_time": "2021-10-02T18:14:12.622Z"
   },
   {
    "duration": 7,
    "start_time": "2021-10-02T18:14:12.629Z"
   },
   {
    "duration": 55,
    "start_time": "2021-10-02T18:14:12.638Z"
   },
   {
    "duration": 6,
    "start_time": "2021-10-02T18:14:12.695Z"
   },
   {
    "duration": 32,
    "start_time": "2021-10-02T18:14:12.704Z"
   },
   {
    "duration": 11,
    "start_time": "2021-10-02T18:14:12.738Z"
   },
   {
    "duration": 13,
    "start_time": "2021-10-02T18:14:12.750Z"
   },
   {
    "duration": 12,
    "start_time": "2021-10-02T18:14:12.764Z"
   },
   {
    "duration": 26,
    "start_time": "2021-10-02T18:14:12.778Z"
   },
   {
    "duration": 149,
    "start_time": "2021-10-02T18:14:12.806Z"
   },
   {
    "duration": 46,
    "start_time": "2021-10-02T18:14:12.956Z"
   },
   {
    "duration": 6,
    "start_time": "2021-10-02T18:14:13.004Z"
   },
   {
    "duration": 8,
    "start_time": "2021-10-02T18:14:13.012Z"
   },
   {
    "duration": 8,
    "start_time": "2021-10-02T18:14:13.024Z"
   },
   {
    "duration": 6,
    "start_time": "2021-10-02T18:14:13.034Z"
   },
   {
    "duration": 9,
    "start_time": "2021-10-02T18:14:13.042Z"
   },
   {
    "duration": 48,
    "start_time": "2021-10-02T18:14:13.052Z"
   },
   {
    "duration": 6,
    "start_time": "2021-10-02T18:14:13.102Z"
   },
   {
    "duration": 55,
    "start_time": "2021-10-02T18:14:13.109Z"
   },
   {
    "duration": 346,
    "start_time": "2021-10-02T18:14:26.423Z"
   },
   {
    "duration": 231,
    "start_time": "2021-10-02T18:14:45.610Z"
   },
   {
    "duration": 200,
    "start_time": "2021-10-02T18:15:34.587Z"
   },
   {
    "duration": 6,
    "start_time": "2021-10-02T18:16:51.893Z"
   },
   {
    "duration": 187,
    "start_time": "2021-10-02T18:17:09.549Z"
   },
   {
    "duration": 7,
    "start_time": "2021-10-02T18:17:47.710Z"
   },
   {
    "duration": 86,
    "start_time": "2021-10-02T18:18:20.120Z"
   },
   {
    "duration": 193,
    "start_time": "2021-10-02T18:18:27.439Z"
   },
   {
    "duration": 4,
    "start_time": "2021-10-02T18:18:42.694Z"
   },
   {
    "duration": 6,
    "start_time": "2021-10-02T18:19:21.863Z"
   },
   {
    "duration": 199,
    "start_time": "2021-10-02T18:19:30.796Z"
   },
   {
    "duration": 203,
    "start_time": "2021-10-02T18:20:19.897Z"
   },
   {
    "duration": 208,
    "start_time": "2021-10-02T18:20:41.920Z"
   },
   {
    "duration": 209,
    "start_time": "2021-10-02T18:20:55.441Z"
   },
   {
    "duration": 7,
    "start_time": "2021-10-02T18:21:23.112Z"
   },
   {
    "duration": 5,
    "start_time": "2021-10-02T18:21:43.834Z"
   },
   {
    "duration": 5,
    "start_time": "2021-10-02T18:22:11.289Z"
   },
   {
    "duration": 114,
    "start_time": "2021-10-02T18:22:40.913Z"
   },
   {
    "duration": 119,
    "start_time": "2021-10-02T18:23:34.365Z"
   },
   {
    "duration": 307,
    "start_time": "2021-10-02T18:23:50.145Z"
   },
   {
    "duration": 205,
    "start_time": "2021-10-02T18:24:27.425Z"
   },
   {
    "duration": 196,
    "start_time": "2021-10-02T18:24:38.058Z"
   },
   {
    "duration": 197,
    "start_time": "2021-10-02T18:25:07.163Z"
   },
   {
    "duration": 197,
    "start_time": "2021-10-02T18:25:15.645Z"
   },
   {
    "duration": 191,
    "start_time": "2021-10-02T18:26:34.797Z"
   },
   {
    "duration": 56,
    "start_time": "2021-10-02T18:27:13.389Z"
   },
   {
    "duration": 97,
    "start_time": "2021-10-02T18:27:29.831Z"
   },
   {
    "duration": 52,
    "start_time": "2021-10-02T18:27:56.180Z"
   },
   {
    "duration": 457,
    "start_time": "2021-10-02T18:28:47.958Z"
   },
   {
    "duration": 259,
    "start_time": "2021-10-02T18:30:11.215Z"
   },
   {
    "duration": 49,
    "start_time": "2021-10-02T18:30:25.616Z"
   },
   {
    "duration": 48,
    "start_time": "2021-10-02T18:30:50.848Z"
   },
   {
    "duration": 54,
    "start_time": "2021-10-02T18:31:00.697Z"
   },
   {
    "duration": 46,
    "start_time": "2021-10-02T18:31:39.120Z"
   },
   {
    "duration": 57,
    "start_time": "2021-10-02T18:31:48.804Z"
   },
   {
    "duration": 230,
    "start_time": "2021-10-02T18:32:33.000Z"
   },
   {
    "duration": 64,
    "start_time": "2021-10-02T18:33:04.713Z"
   },
   {
    "duration": 63,
    "start_time": "2021-10-02T18:33:10.179Z"
   },
   {
    "duration": 102,
    "start_time": "2021-10-02T18:33:22.772Z"
   },
   {
    "duration": 244,
    "start_time": "2021-10-02T18:33:40.812Z"
   },
   {
    "duration": 1002,
    "start_time": "2021-10-03T02:56:02.332Z"
   },
   {
    "duration": 2,
    "start_time": "2021-10-03T02:56:03.336Z"
   },
   {
    "duration": 53,
    "start_time": "2021-10-03T02:56:03.340Z"
   },
   {
    "duration": 9,
    "start_time": "2021-10-03T02:56:03.395Z"
   },
   {
    "duration": 30,
    "start_time": "2021-10-03T02:56:03.406Z"
   },
   {
    "duration": 12,
    "start_time": "2021-10-03T02:56:03.438Z"
   },
   {
    "duration": 13,
    "start_time": "2021-10-03T02:56:03.452Z"
   },
   {
    "duration": 9,
    "start_time": "2021-10-03T02:56:03.467Z"
   },
   {
    "duration": 7,
    "start_time": "2021-10-03T02:56:03.501Z"
   },
   {
    "duration": 210,
    "start_time": "2021-10-03T02:56:03.510Z"
   },
   {
    "duration": 38,
    "start_time": "2021-10-03T02:56:03.722Z"
   },
   {
    "duration": 89,
    "start_time": "2021-10-03T02:56:03.762Z"
   },
   {
    "duration": 6,
    "start_time": "2021-10-03T02:56:03.853Z"
   },
   {
    "duration": 7,
    "start_time": "2021-10-03T02:56:03.861Z"
   },
   {
    "duration": 30,
    "start_time": "2021-10-03T02:56:03.870Z"
   },
   {
    "duration": 7,
    "start_time": "2021-10-03T02:56:03.902Z"
   },
   {
    "duration": 15,
    "start_time": "2021-10-03T02:56:03.911Z"
   },
   {
    "duration": 4,
    "start_time": "2021-10-03T02:56:03.928Z"
   },
   {
    "duration": 72,
    "start_time": "2021-10-03T02:56:03.934Z"
   },
   {
    "duration": 101,
    "start_time": "2021-10-03T02:56:04.008Z"
   },
   {
    "duration": 89,
    "start_time": "2021-10-03T02:56:04.111Z"
   },
   {
    "duration": 57,
    "start_time": "2021-10-03T02:59:19.030Z"
   },
   {
    "duration": 3,
    "start_time": "2021-10-03T03:13:16.524Z"
   },
   {
    "duration": 7,
    "start_time": "2021-10-03T03:13:16.529Z"
   },
   {
    "duration": 43,
    "start_time": "2021-10-03T03:13:16.538Z"
   },
   {
    "duration": 5,
    "start_time": "2021-10-03T03:13:16.583Z"
   },
   {
    "duration": 27,
    "start_time": "2021-10-03T03:13:16.590Z"
   },
   {
    "duration": 10,
    "start_time": "2021-10-03T03:13:16.618Z"
   },
   {
    "duration": 13,
    "start_time": "2021-10-03T03:13:16.630Z"
   },
   {
    "duration": 9,
    "start_time": "2021-10-03T03:13:16.645Z"
   },
   {
    "duration": 6,
    "start_time": "2021-10-03T03:13:16.656Z"
   },
   {
    "duration": 167,
    "start_time": "2021-10-03T03:13:16.664Z"
   },
   {
    "duration": 37,
    "start_time": "2021-10-03T03:13:16.833Z"
   },
   {
    "duration": 29,
    "start_time": "2021-10-03T03:13:16.871Z"
   },
   {
    "duration": 5,
    "start_time": "2021-10-03T03:13:16.902Z"
   },
   {
    "duration": 5,
    "start_time": "2021-10-03T03:13:16.909Z"
   },
   {
    "duration": 6,
    "start_time": "2021-10-03T03:13:16.916Z"
   },
   {
    "duration": 84,
    "start_time": "2021-10-03T03:17:16.619Z"
   },
   {
    "duration": 34,
    "start_time": "2021-10-03T03:17:36.095Z"
   },
   {
    "duration": 278,
    "start_time": "2021-10-03T03:19:55.096Z"
   },
   {
    "duration": 302,
    "start_time": "2021-10-03T03:22:20.139Z"
   },
   {
    "duration": 5,
    "start_time": "2021-10-03T05:19:32.720Z"
   },
   {
    "duration": 18,
    "start_time": "2021-10-03T05:19:32.727Z"
   },
   {
    "duration": 53,
    "start_time": "2021-10-03T05:19:32.747Z"
   },
   {
    "duration": 5,
    "start_time": "2021-10-03T05:19:32.802Z"
   },
   {
    "duration": 25,
    "start_time": "2021-10-03T05:19:32.809Z"
   },
   {
    "duration": 10,
    "start_time": "2021-10-03T05:19:32.836Z"
   },
   {
    "duration": 12,
    "start_time": "2021-10-03T05:19:32.848Z"
   },
   {
    "duration": 7,
    "start_time": "2021-10-03T05:19:32.861Z"
   },
   {
    "duration": 31,
    "start_time": "2021-10-03T05:19:32.870Z"
   },
   {
    "duration": 144,
    "start_time": "2021-10-03T05:19:32.903Z"
   },
   {
    "duration": 35,
    "start_time": "2021-10-03T05:19:33.049Z"
   },
   {
    "duration": 17,
    "start_time": "2021-10-03T05:19:33.086Z"
   },
   {
    "duration": 6,
    "start_time": "2021-10-03T05:19:33.104Z"
   },
   {
    "duration": 6,
    "start_time": "2021-10-03T05:19:33.111Z"
   },
   {
    "duration": 6,
    "start_time": "2021-10-03T05:19:33.118Z"
   },
   {
    "duration": 96,
    "start_time": "2021-10-03T05:19:33.125Z"
   },
   {
    "duration": 84,
    "start_time": "2021-10-03T05:19:33.223Z"
   },
   {
    "duration": 100,
    "start_time": "2021-10-03T05:19:33.310Z"
   },
   {
    "duration": 4,
    "start_time": "2021-10-03T05:19:33.412Z"
   },
   {
    "duration": 51,
    "start_time": "2021-10-03T05:19:33.418Z"
   },
   {
    "duration": 122,
    "start_time": "2021-10-03T05:19:33.471Z"
   },
   {
    "duration": 193,
    "start_time": "2021-10-03T05:19:33.595Z"
   },
   {
    "duration": -281,
    "start_time": "2021-10-03T05:19:34.071Z"
   },
   {
    "duration": 262,
    "start_time": "2021-10-03T05:19:46.656Z"
   },
   {
    "duration": 4,
    "start_time": "2021-10-03T05:19:59.907Z"
   },
   {
    "duration": 4,
    "start_time": "2021-10-03T05:19:59.913Z"
   },
   {
    "duration": 43,
    "start_time": "2021-10-03T05:19:59.920Z"
   },
   {
    "duration": 6,
    "start_time": "2021-10-03T05:19:59.966Z"
   },
   {
    "duration": 47,
    "start_time": "2021-10-03T05:19:59.973Z"
   },
   {
    "duration": 14,
    "start_time": "2021-10-03T05:20:00.021Z"
   },
   {
    "duration": 15,
    "start_time": "2021-10-03T05:20:00.037Z"
   },
   {
    "duration": 6,
    "start_time": "2021-10-03T05:20:00.054Z"
   },
   {
    "duration": 6,
    "start_time": "2021-10-03T05:20:00.063Z"
   },
   {
    "duration": 142,
    "start_time": "2021-10-03T05:20:00.100Z"
   },
   {
    "duration": 39,
    "start_time": "2021-10-03T05:20:00.244Z"
   },
   {
    "duration": 21,
    "start_time": "2021-10-03T05:20:00.285Z"
   },
   {
    "duration": 8,
    "start_time": "2021-10-03T05:20:00.308Z"
   },
   {
    "duration": 13,
    "start_time": "2021-10-03T05:20:00.318Z"
   },
   {
    "duration": 16,
    "start_time": "2021-10-03T05:20:00.333Z"
   },
   {
    "duration": 93,
    "start_time": "2021-10-03T05:20:00.351Z"
   },
   {
    "duration": 60,
    "start_time": "2021-10-03T05:20:00.446Z"
   },
   {
    "duration": 109,
    "start_time": "2021-10-03T05:20:00.508Z"
   },
   {
    "duration": 5,
    "start_time": "2021-10-03T05:20:00.619Z"
   },
   {
    "duration": 89,
    "start_time": "2021-10-03T05:20:00.626Z"
   },
   {
    "duration": 109,
    "start_time": "2021-10-03T05:20:00.717Z"
   },
   {
    "duration": 120,
    "start_time": "2021-10-03T05:20:13.583Z"
   },
   {
    "duration": 100,
    "start_time": "2021-10-03T05:20:49.719Z"
   },
   {
    "duration": 104,
    "start_time": "2021-10-03T05:20:56.990Z"
   },
   {
    "duration": 190,
    "start_time": "2021-10-03T05:21:03.974Z"
   },
   {
    "duration": 7,
    "start_time": "2021-10-03T05:23:11.600Z"
   },
   {
    "duration": 4,
    "start_time": "2021-10-03T05:23:21.081Z"
   },
   {
    "duration": 236,
    "start_time": "2021-10-03T05:23:35.217Z"
   },
   {
    "duration": 236,
    "start_time": "2021-10-03T05:23:59.298Z"
   },
   {
    "duration": 56,
    "start_time": "2021-10-03T05:24:20.954Z"
   },
   {
    "duration": 268,
    "start_time": "2021-10-03T05:24:31.827Z"
   },
   {
    "duration": 268,
    "start_time": "2021-10-03T05:25:13.555Z"
   },
   {
    "duration": 195,
    "start_time": "2021-10-03T05:25:35.395Z"
   },
   {
    "duration": 184,
    "start_time": "2021-10-03T05:26:22.689Z"
   },
   {
    "duration": 361,
    "start_time": "2021-10-03T05:39:17.176Z"
   },
   {
    "duration": 412,
    "start_time": "2021-10-03T05:39:23.455Z"
   },
   {
    "duration": 359,
    "start_time": "2021-10-03T05:39:35.919Z"
   },
   {
    "duration": 354,
    "start_time": "2021-10-03T05:39:41.942Z"
   },
   {
    "duration": 4,
    "start_time": "2021-10-03T05:39:53.066Z"
   },
   {
    "duration": 14,
    "start_time": "2021-10-03T05:39:53.091Z"
   },
   {
    "duration": 53,
    "start_time": "2021-10-03T05:39:53.107Z"
   },
   {
    "duration": 9,
    "start_time": "2021-10-03T05:39:53.162Z"
   },
   {
    "duration": 28,
    "start_time": "2021-10-03T05:39:53.173Z"
   },
   {
    "duration": 10,
    "start_time": "2021-10-03T05:39:53.203Z"
   },
   {
    "duration": 12,
    "start_time": "2021-10-03T05:39:53.215Z"
   },
   {
    "duration": 8,
    "start_time": "2021-10-03T05:39:53.228Z"
   },
   {
    "duration": 5,
    "start_time": "2021-10-03T05:39:53.237Z"
   },
   {
    "duration": 158,
    "start_time": "2021-10-03T05:39:53.245Z"
   },
   {
    "duration": 37,
    "start_time": "2021-10-03T05:39:53.405Z"
   },
   {
    "duration": 6,
    "start_time": "2021-10-03T05:39:53.444Z"
   },
   {
    "duration": 6,
    "start_time": "2021-10-03T05:39:53.451Z"
   },
   {
    "duration": 6,
    "start_time": "2021-10-03T05:39:53.458Z"
   },
   {
    "duration": 36,
    "start_time": "2021-10-03T05:39:53.465Z"
   },
   {
    "duration": 80,
    "start_time": "2021-10-03T05:39:53.503Z"
   },
   {
    "duration": 114,
    "start_time": "2021-10-03T05:39:53.585Z"
   },
   {
    "duration": 164,
    "start_time": "2021-10-03T05:39:53.702Z"
   },
   {
    "duration": 4,
    "start_time": "2021-10-03T05:39:53.868Z"
   },
   {
    "duration": 72,
    "start_time": "2021-10-03T05:39:53.874Z"
   },
   {
    "duration": 192,
    "start_time": "2021-10-03T05:39:57.921Z"
   },
   {
    "duration": 189,
    "start_time": "2021-10-03T05:40:00.481Z"
   },
   {
    "duration": 189,
    "start_time": "2021-10-03T05:40:01.822Z"
   },
   {
    "duration": 202,
    "start_time": "2021-10-03T05:40:36.888Z"
   },
   {
    "duration": 222,
    "start_time": "2021-10-03T05:40:44.537Z"
   },
   {
    "duration": 505,
    "start_time": "2021-10-03T05:41:42.544Z"
   },
   {
    "duration": 991,
    "start_time": "2021-10-03T05:41:49.590Z"
   },
   {
    "duration": 429,
    "start_time": "2021-10-03T05:41:58.511Z"
   },
   {
    "duration": 1162,
    "start_time": "2021-10-03T05:42:05.744Z"
   },
   {
    "duration": 1119,
    "start_time": "2021-10-03T05:42:50.095Z"
   },
   {
    "duration": 50,
    "start_time": "2021-10-03T05:45:29.618Z"
   },
   {
    "duration": 1107,
    "start_time": "2021-10-03T05:45:50.599Z"
   },
   {
    "duration": 61,
    "start_time": "2021-10-03T05:48:01.310Z"
   },
   {
    "duration": 61,
    "start_time": "2021-10-03T05:48:47.618Z"
   },
   {
    "duration": 197,
    "start_time": "2021-10-03T05:49:07.624Z"
   },
   {
    "duration": 194,
    "start_time": "2021-10-03T05:53:20.067Z"
   },
   {
    "duration": 3,
    "start_time": "2021-10-03T05:53:38.702Z"
   },
   {
    "duration": 5,
    "start_time": "2021-10-03T05:53:38.707Z"
   },
   {
    "duration": 46,
    "start_time": "2021-10-03T05:53:38.714Z"
   },
   {
    "duration": 5,
    "start_time": "2021-10-03T05:53:38.762Z"
   },
   {
    "duration": 46,
    "start_time": "2021-10-03T05:53:38.769Z"
   },
   {
    "duration": 11,
    "start_time": "2021-10-03T05:53:38.816Z"
   },
   {
    "duration": 11,
    "start_time": "2021-10-03T05:53:38.829Z"
   },
   {
    "duration": 7,
    "start_time": "2021-10-03T05:53:38.842Z"
   },
   {
    "duration": 6,
    "start_time": "2021-10-03T05:53:38.851Z"
   },
   {
    "duration": 158,
    "start_time": "2021-10-03T05:53:38.858Z"
   },
   {
    "duration": 37,
    "start_time": "2021-10-03T05:53:39.017Z"
   },
   {
    "duration": 6,
    "start_time": "2021-10-03T05:53:39.056Z"
   },
   {
    "duration": 6,
    "start_time": "2021-10-03T05:53:39.063Z"
   },
   {
    "duration": 30,
    "start_time": "2021-10-03T05:53:39.071Z"
   },
   {
    "duration": 7,
    "start_time": "2021-10-03T05:53:39.103Z"
   },
   {
    "duration": 88,
    "start_time": "2021-10-03T05:53:39.112Z"
   },
   {
    "duration": 98,
    "start_time": "2021-10-03T05:53:39.201Z"
   },
   {
    "duration": 104,
    "start_time": "2021-10-03T05:53:39.303Z"
   },
   {
    "duration": 4,
    "start_time": "2021-10-03T05:53:39.409Z"
   },
   {
    "duration": 49,
    "start_time": "2021-10-03T05:53:45.747Z"
   },
   {
    "duration": 206,
    "start_time": "2021-10-03T05:53:49.981Z"
   },
   {
    "duration": 190,
    "start_time": "2021-10-03T05:57:29.735Z"
   },
   {
    "duration": 5,
    "start_time": "2021-10-03T05:58:15.755Z"
   },
   {
    "duration": 972,
    "start_time": "2021-10-03T05:59:24.765Z"
   },
   {
    "duration": 2,
    "start_time": "2021-10-03T05:59:25.739Z"
   },
   {
    "duration": 54,
    "start_time": "2021-10-03T05:59:25.743Z"
   },
   {
    "duration": 7,
    "start_time": "2021-10-03T05:59:25.798Z"
   },
   {
    "duration": 32,
    "start_time": "2021-10-03T05:59:25.806Z"
   },
   {
    "duration": 14,
    "start_time": "2021-10-03T05:59:25.840Z"
   },
   {
    "duration": 45,
    "start_time": "2021-10-03T05:59:25.856Z"
   },
   {
    "duration": 18,
    "start_time": "2021-10-03T05:59:25.903Z"
   },
   {
    "duration": 12,
    "start_time": "2021-10-03T05:59:25.924Z"
   },
   {
    "duration": 200,
    "start_time": "2021-10-03T05:59:25.938Z"
   },
   {
    "duration": 38,
    "start_time": "2021-10-03T05:59:26.140Z"
   },
   {
    "duration": 20,
    "start_time": "2021-10-03T05:59:26.180Z"
   },
   {
    "duration": 22,
    "start_time": "2021-10-03T05:59:26.202Z"
   },
   {
    "duration": 7,
    "start_time": "2021-10-03T05:59:26.226Z"
   },
   {
    "duration": 7,
    "start_time": "2021-10-03T05:59:26.235Z"
   },
   {
    "duration": 94,
    "start_time": "2021-10-03T05:59:26.243Z"
   },
   {
    "duration": 64,
    "start_time": "2021-10-03T05:59:26.339Z"
   },
   {
    "duration": 106,
    "start_time": "2021-10-03T05:59:26.405Z"
   },
   {
    "duration": 4,
    "start_time": "2021-10-03T05:59:26.512Z"
   },
   {
    "duration": 50,
    "start_time": "2021-10-03T05:59:26.518Z"
   },
   {
    "duration": 1163,
    "start_time": "2021-10-03T05:59:26.570Z"
   },
   {
    "duration": 272,
    "start_time": "2021-10-03T05:59:27.735Z"
   },
   {
    "duration": 92,
    "start_time": "2021-10-03T05:59:28.009Z"
   },
   {
    "duration": 255,
    "start_time": "2021-10-03T06:00:38.454Z"
   },
   {
    "duration": 247,
    "start_time": "2021-10-03T06:01:06.271Z"
   },
   {
    "duration": 266,
    "start_time": "2021-10-03T06:01:15.010Z"
   },
   {
    "duration": 63806,
    "start_time": "2021-10-03T06:01:36.070Z"
   },
   {
    "duration": 64152,
    "start_time": "2021-10-03T06:07:43.392Z"
   },
   {
    "duration": 64548,
    "start_time": "2021-10-03T06:09:56.292Z"
   },
   {
    "duration": 31843,
    "start_time": "2021-10-03T06:16:21.898Z"
   },
   {
    "duration": 26880,
    "start_time": "2021-10-03T06:20:09.733Z"
   },
   {
    "duration": 63255,
    "start_time": "2021-10-03T06:27:22.811Z"
   },
   {
    "duration": 64519,
    "start_time": "2021-10-03T06:48:00.348Z"
   },
   {
    "duration": 65338,
    "start_time": "2021-10-03T06:52:36.888Z"
   },
   {
    "duration": 79078,
    "start_time": "2021-10-03T06:55:17.665Z"
   },
   {
    "duration": 15,
    "start_time": "2021-10-03T07:04:35.112Z"
   },
   {
    "duration": 134,
    "start_time": "2021-10-03T07:04:42.080Z"
   },
   {
    "duration": 29,
    "start_time": "2021-10-03T07:06:07.377Z"
   },
   {
    "duration": 40,
    "start_time": "2021-10-03T08:16:47.829Z"
   },
   {
    "duration": 109,
    "start_time": "2021-10-03T08:19:47.768Z"
   },
   {
    "duration": 65071,
    "start_time": "2021-10-03T08:24:51.335Z"
   },
   {
    "duration": 28,
    "start_time": "2021-10-03T08:30:02.718Z"
   },
   {
    "duration": 3,
    "start_time": "2021-10-03T08:47:58.344Z"
   },
   {
    "duration": 5,
    "start_time": "2021-10-03T09:04:51.028Z"
   },
   {
    "duration": 276,
    "start_time": "2021-10-03T09:06:10.775Z"
   },
   {
    "duration": 5,
    "start_time": "2021-10-03T09:09:39.967Z"
   },
   {
    "duration": 177,
    "start_time": "2021-10-03T09:11:27.651Z"
   },
   {
    "duration": 9,
    "start_time": "2021-10-03T09:11:35.898Z"
   },
   {
    "duration": 48,
    "start_time": "2021-10-03T09:25:52.855Z"
   },
   {
    "duration": 274,
    "start_time": "2021-10-03T09:31:08.589Z"
   },
   {
    "duration": 374,
    "start_time": "2021-10-03T09:33:10.115Z"
   },
   {
    "duration": 296,
    "start_time": "2021-10-03T09:34:43.217Z"
   },
   {
    "duration": 268,
    "start_time": "2021-10-03T09:35:08.487Z"
   },
   {
    "duration": 58763,
    "start_time": "2021-10-03T09:35:46.696Z"
   },
   {
    "duration": 296,
    "start_time": "2021-10-03T09:36:45.461Z"
   },
   {
    "duration": 277,
    "start_time": "2021-10-03T10:04:24.733Z"
   },
   {
    "duration": 60190,
    "start_time": "2021-10-03T10:05:49.800Z"
   },
   {
    "duration": 59546,
    "start_time": "2021-10-03T10:07:41.420Z"
   },
   {
    "duration": 271,
    "start_time": "2021-10-03T10:08:40.967Z"
   },
   {
    "duration": 60054,
    "start_time": "2021-10-03T10:11:47.657Z"
   },
   {
    "duration": 268,
    "start_time": "2021-10-03T10:12:47.712Z"
   },
   {
    "duration": 97,
    "start_time": "2021-10-03T10:15:02.225Z"
   },
   {
    "duration": 99,
    "start_time": "2021-10-03T10:25:42.833Z"
   },
   {
    "duration": 289,
    "start_time": "2021-10-03T10:27:51.038Z"
   },
   {
    "duration": 255,
    "start_time": "2021-10-03T10:28:43.580Z"
   },
   {
    "duration": 122,
    "start_time": "2021-10-03T10:29:59.230Z"
   },
   {
    "duration": 79933,
    "start_time": "2021-10-03T10:30:32.695Z"
   },
   {
    "duration": 429,
    "start_time": "2021-10-03T10:33:29.503Z"
   },
   {
    "duration": 430,
    "start_time": "2021-10-03T10:33:50.448Z"
   },
   {
    "duration": 14,
    "start_time": "2021-10-03T10:37:52.660Z"
   },
   {
    "duration": 528,
    "start_time": "2021-10-03T10:41:07.827Z"
   },
   {
    "duration": 19,
    "start_time": "2021-10-03T10:41:26.896Z"
   },
   {
    "duration": 516,
    "start_time": "2021-10-03T10:42:41.769Z"
   },
   {
    "duration": 219,
    "start_time": "2021-10-03T10:47:30.608Z"
   },
   {
    "duration": 178,
    "start_time": "2021-10-03T10:49:11.174Z"
   },
   {
    "duration": 13,
    "start_time": "2021-10-03T10:49:36.104Z"
   },
   {
    "duration": 208,
    "start_time": "2021-10-03T10:49:58.487Z"
   },
   {
    "duration": 13,
    "start_time": "2021-10-03T10:56:35.629Z"
   },
   {
    "duration": 10,
    "start_time": "2021-10-03T10:57:04.965Z"
   },
   {
    "duration": 10,
    "start_time": "2021-10-03T10:57:13.484Z"
   },
   {
    "duration": 10,
    "start_time": "2021-10-03T10:57:20.718Z"
   },
   {
    "duration": 174,
    "start_time": "2021-10-03T10:57:27.398Z"
   },
   {
    "duration": 23,
    "start_time": "2021-10-03T10:57:58.367Z"
   },
   {
    "duration": 24,
    "start_time": "2021-10-03T10:58:22.591Z"
   },
   {
    "duration": 24,
    "start_time": "2021-10-03T10:59:39.882Z"
   },
   {
    "duration": 30,
    "start_time": "2021-10-03T11:00:43.712Z"
   },
   {
    "duration": 26,
    "start_time": "2021-10-03T11:01:23.841Z"
   },
   {
    "duration": 24,
    "start_time": "2021-10-03T11:02:58.216Z"
   },
   {
    "duration": 22,
    "start_time": "2021-10-03T11:03:20.956Z"
   },
   {
    "duration": 14,
    "start_time": "2021-10-03T11:04:25.836Z"
   },
   {
    "duration": 10,
    "start_time": "2021-10-03T11:04:34.755Z"
   },
   {
    "duration": 11,
    "start_time": "2021-10-03T11:04:44.227Z"
   },
   {
    "duration": 10,
    "start_time": "2021-10-03T11:04:55.533Z"
   },
   {
    "duration": 494,
    "start_time": "2021-10-03T11:15:38.832Z"
   },
   {
    "duration": 480,
    "start_time": "2021-10-03T11:16:12.831Z"
   },
   {
    "duration": 60329,
    "start_time": "2021-10-03T11:18:48.635Z"
   },
   {
    "duration": 87,
    "start_time": "2021-10-03T11:27:01.940Z"
   },
   {
    "duration": 91,
    "start_time": "2021-10-03T11:27:19.360Z"
   },
   {
    "duration": 96,
    "start_time": "2021-10-03T11:28:05.864Z"
   },
   {
    "duration": 86,
    "start_time": "2021-10-03T11:29:04.696Z"
   },
   {
    "duration": 5,
    "start_time": "2021-10-03T11:30:35.949Z"
   },
   {
    "duration": 113,
    "start_time": "2021-10-03T11:30:52.595Z"
   },
   {
    "duration": 4,
    "start_time": "2021-10-03T11:41:46.347Z"
   },
   {
    "duration": 23,
    "start_time": "2021-10-03T11:42:03.028Z"
   },
   {
    "duration": 133,
    "start_time": "2021-10-03T11:43:06.677Z"
   },
   {
    "duration": 61,
    "start_time": "2021-10-03T11:44:08.989Z"
   },
   {
    "duration": 122,
    "start_time": "2021-10-03T11:44:36.477Z"
   },
   {
    "duration": 305,
    "start_time": "2021-10-03T11:45:04.364Z"
   },
   {
    "duration": 112,
    "start_time": "2021-10-03T11:45:13.994Z"
   },
   {
    "duration": 315,
    "start_time": "2021-10-03T12:13:12.559Z"
   },
   {
    "duration": 289,
    "start_time": "2021-10-03T12:14:23.249Z"
   },
   {
    "duration": 113,
    "start_time": "2021-10-03T12:15:04.497Z"
   },
   {
    "duration": 27,
    "start_time": "2021-10-03T12:15:43.481Z"
   },
   {
    "duration": 14,
    "start_time": "2021-10-03T12:18:29.573Z"
   },
   {
    "duration": 14,
    "start_time": "2021-10-03T12:20:18.143Z"
   },
   {
    "duration": 307,
    "start_time": "2021-10-03T12:20:49.912Z"
   },
   {
    "duration": 292,
    "start_time": "2021-10-03T12:25:06.731Z"
   },
   {
    "duration": 375441,
    "start_time": "2021-10-03T12:32:46.056Z"
   },
   {
    "duration": 566,
    "start_time": "2021-10-03T12:44:40.923Z"
   },
   {
    "duration": 396,
    "start_time": "2021-10-03T12:46:14.359Z"
   },
   {
    "duration": 709,
    "start_time": "2021-10-03T12:52:14.785Z"
   },
   {
    "duration": 412,
    "start_time": "2021-10-03T12:53:00.034Z"
   },
   {
    "duration": 410,
    "start_time": "2021-10-03T12:53:45.578Z"
   },
   {
    "duration": 389,
    "start_time": "2021-10-03T12:54:13.942Z"
   },
   {
    "duration": 386,
    "start_time": "2021-10-03T12:54:40.619Z"
   },
   {
    "duration": 401,
    "start_time": "2021-10-03T12:56:21.406Z"
   },
   {
    "duration": 685,
    "start_time": "2021-10-03T12:56:38.894Z"
   },
   {
    "duration": 772,
    "start_time": "2021-10-03T12:57:24.336Z"
   },
   {
    "duration": 853,
    "start_time": "2021-10-03T12:58:50.110Z"
   },
   {
    "duration": 392,
    "start_time": "2021-10-03T13:02:24.851Z"
   },
   {
    "duration": 188597,
    "start_time": "2021-10-03T13:03:10.541Z"
   },
   {
    "duration": 6376,
    "start_time": "2021-10-03T17:26:00.578Z"
   },
   {
    "duration": 5,
    "start_time": "2021-10-03T17:26:14.898Z"
   },
   {
    "duration": 77477,
    "start_time": "2021-10-03T17:26:42.436Z"
   },
   {
    "duration": 188,
    "start_time": "2021-10-03T17:27:59.915Z"
   },
   {
    "duration": 328,
    "start_time": "2021-10-04T09:51:33.547Z"
   },
   {
    "duration": 1450,
    "start_time": "2021-10-04T09:53:34.924Z"
   },
   {
    "duration": 4,
    "start_time": "2021-10-04T09:53:36.376Z"
   },
   {
    "duration": 80,
    "start_time": "2021-10-04T09:53:36.383Z"
   },
   {
    "duration": 8,
    "start_time": "2021-10-04T09:53:36.465Z"
   },
   {
    "duration": 63,
    "start_time": "2021-10-04T09:53:36.476Z"
   },
   {
    "duration": 25,
    "start_time": "2021-10-04T09:53:36.542Z"
   },
   {
    "duration": 20,
    "start_time": "2021-10-04T09:53:36.569Z"
   },
   {
    "duration": 17,
    "start_time": "2021-10-04T09:53:36.591Z"
   },
   {
    "duration": 9,
    "start_time": "2021-10-04T09:53:36.612Z"
   },
   {
    "duration": 454,
    "start_time": "2021-10-04T09:53:36.625Z"
   },
   {
    "duration": 92,
    "start_time": "2021-10-04T09:53:37.082Z"
   },
   {
    "duration": 14,
    "start_time": "2021-10-04T09:53:37.177Z"
   },
   {
    "duration": 13,
    "start_time": "2021-10-04T09:53:37.194Z"
   },
   {
    "duration": 12,
    "start_time": "2021-10-04T09:53:37.210Z"
   },
   {
    "duration": 12,
    "start_time": "2021-10-04T09:53:37.263Z"
   },
   {
    "duration": 168,
    "start_time": "2021-10-04T09:53:37.278Z"
   },
   {
    "duration": 130,
    "start_time": "2021-10-04T09:53:37.449Z"
   },
   {
    "duration": 145,
    "start_time": "2021-10-04T09:53:37.582Z"
   },
   {
    "duration": 340,
    "start_time": "2021-10-04T09:53:37.730Z"
   },
   {
    "duration": 93,
    "start_time": "2021-10-04T09:53:38.073Z"
   },
   {
    "duration": 116,
    "start_time": "2021-10-04T09:53:38.169Z"
   },
   {
    "duration": 6,
    "start_time": "2021-10-04T09:53:38.288Z"
   },
   {
    "duration": 110,
    "start_time": "2021-10-04T09:53:38.299Z"
   },
   {
    "duration": 57238,
    "start_time": "2021-10-04T09:53:38.411Z"
   },
   {
    "duration": -931,
    "start_time": "2021-10-04T09:54:36.582Z"
   },
   {
    "duration": -933,
    "start_time": "2021-10-04T09:54:36.586Z"
   },
   {
    "duration": -951,
    "start_time": "2021-10-04T09:54:36.605Z"
   },
   {
    "duration": 5,
    "start_time": "2021-10-04T09:54:41.333Z"
   },
   {
    "duration": 8,
    "start_time": "2021-10-04T09:54:41.341Z"
   },
   {
    "duration": 62,
    "start_time": "2021-10-04T09:54:41.352Z"
   },
   {
    "duration": 7,
    "start_time": "2021-10-04T09:54:41.418Z"
   },
   {
    "duration": 68,
    "start_time": "2021-10-04T09:54:41.428Z"
   },
   {
    "duration": 16,
    "start_time": "2021-10-04T09:54:41.499Z"
   },
   {
    "duration": 22,
    "start_time": "2021-10-04T09:54:41.518Z"
   },
   {
    "duration": 28,
    "start_time": "2021-10-04T09:54:41.542Z"
   },
   {
    "duration": 9,
    "start_time": "2021-10-04T09:54:41.575Z"
   },
   {
    "duration": 280,
    "start_time": "2021-10-04T09:54:41.588Z"
   },
   {
    "duration": 91,
    "start_time": "2021-10-04T09:54:41.871Z"
   },
   {
    "duration": 10,
    "start_time": "2021-10-04T09:54:41.965Z"
   },
   {
    "duration": 10,
    "start_time": "2021-10-04T09:54:41.978Z"
   },
   {
    "duration": 8,
    "start_time": "2021-10-04T09:54:41.991Z"
   },
   {
    "duration": 12,
    "start_time": "2021-10-04T09:54:42.001Z"
   },
   {
    "duration": 188,
    "start_time": "2021-10-04T09:54:42.016Z"
   },
   {
    "duration": 63,
    "start_time": "2021-10-04T09:54:42.207Z"
   },
   {
    "duration": 142,
    "start_time": "2021-10-04T09:54:42.363Z"
   },
   {
    "duration": 278,
    "start_time": "2021-10-04T09:54:42.508Z"
   },
   {
    "duration": 74,
    "start_time": "2021-10-04T09:54:42.789Z"
   },
   {
    "duration": 113,
    "start_time": "2021-10-04T09:54:42.865Z"
   },
   {
    "duration": 5,
    "start_time": "2021-10-04T09:54:42.981Z"
   },
   {
    "duration": 107,
    "start_time": "2021-10-04T09:54:42.988Z"
   },
   {
    "duration": 272,
    "start_time": "2021-10-04T09:54:43.097Z"
   },
   {
    "duration": 92,
    "start_time": "2021-10-04T09:54:43.372Z"
   },
   {
    "duration": 431,
    "start_time": "2021-10-04T09:54:43.467Z"
   },
   {
    "duration": 109,
    "start_time": "2021-10-04T09:54:43.903Z"
   },
   {
    "duration": 29,
    "start_time": "2021-10-04T09:55:08.674Z"
   },
   {
    "duration": 7,
    "start_time": "2021-10-04T11:02:19.891Z"
   },
   {
    "duration": 8,
    "start_time": "2021-10-04T11:02:32.433Z"
   },
   {
    "duration": 6,
    "start_time": "2021-10-04T11:02:43.616Z"
   },
   {
    "duration": 6,
    "start_time": "2021-10-04T11:03:20.736Z"
   },
   {
    "duration": 66,
    "start_time": "2021-10-04T11:03:27.766Z"
   },
   {
    "duration": 7,
    "start_time": "2021-10-04T11:03:39.717Z"
   },
   {
    "duration": 13,
    "start_time": "2021-10-04T11:03:54.838Z"
   },
   {
    "duration": 5,
    "start_time": "2021-10-04T11:06:59.817Z"
   },
   {
    "duration": 7,
    "start_time": "2021-10-04T11:07:26.609Z"
   },
   {
    "duration": 9,
    "start_time": "2021-10-04T11:07:35.062Z"
   },
   {
    "duration": 5,
    "start_time": "2021-10-04T11:07:36.577Z"
   },
   {
    "duration": 6,
    "start_time": "2021-10-04T11:07:41.105Z"
   },
   {
    "duration": 4,
    "start_time": "2021-10-04T11:07:46.779Z"
   },
   {
    "duration": 13,
    "start_time": "2021-10-04T11:10:47.817Z"
   },
   {
    "duration": 51,
    "start_time": "2021-10-04T11:17:15.046Z"
   },
   {
    "duration": 6,
    "start_time": "2021-10-04T11:25:30.021Z"
   },
   {
    "duration": 26,
    "start_time": "2021-10-04T11:40:39.986Z"
   },
   {
    "duration": 9,
    "start_time": "2021-10-04T11:52:41.942Z"
   },
   {
    "duration": 300,
    "start_time": "2021-10-04T11:55:22.742Z"
   },
   {
    "duration": 459,
    "start_time": "2021-10-04T12:05:03.087Z"
   },
   {
    "duration": 23,
    "start_time": "2021-10-04T12:06:12.554Z"
   },
   {
    "duration": 34,
    "start_time": "2021-10-04T12:06:37.022Z"
   },
   {
    "duration": 12,
    "start_time": "2021-10-04T12:22:42.101Z"
   },
   {
    "duration": 5,
    "start_time": "2021-10-04T12:22:55.786Z"
   },
   {
    "duration": 7,
    "start_time": "2021-10-04T12:22:55.794Z"
   },
   {
    "duration": 66,
    "start_time": "2021-10-04T12:22:55.804Z"
   },
   {
    "duration": 5,
    "start_time": "2021-10-04T12:22:55.873Z"
   },
   {
    "duration": 33,
    "start_time": "2021-10-04T12:22:55.881Z"
   },
   {
    "duration": 7,
    "start_time": "2021-10-04T12:22:55.916Z"
   },
   {
    "duration": 41,
    "start_time": "2021-10-04T12:22:55.925Z"
   },
   {
    "duration": 6,
    "start_time": "2021-10-04T12:22:55.968Z"
   },
   {
    "duration": 5,
    "start_time": "2021-10-04T12:22:55.978Z"
   },
   {
    "duration": 6,
    "start_time": "2021-10-04T12:22:55.985Z"
   },
   {
    "duration": 10,
    "start_time": "2021-10-04T12:22:55.994Z"
   },
   {
    "duration": 11,
    "start_time": "2021-10-04T12:22:58.276Z"
   },
   {
    "duration": 25,
    "start_time": "2021-10-04T12:23:18.613Z"
   },
   {
    "duration": 24,
    "start_time": "2021-10-04T12:40:27.058Z"
   },
   {
    "duration": 25,
    "start_time": "2021-10-04T12:40:41.315Z"
   },
   {
    "duration": 6,
    "start_time": "2021-10-04T12:40:52.415Z"
   },
   {
    "duration": 11,
    "start_time": "2021-10-04T12:40:52.424Z"
   },
   {
    "duration": 73,
    "start_time": "2021-10-04T12:40:52.438Z"
   },
   {
    "duration": 6,
    "start_time": "2021-10-04T12:40:52.514Z"
   },
   {
    "duration": 58,
    "start_time": "2021-10-04T12:40:52.522Z"
   },
   {
    "duration": 7,
    "start_time": "2021-10-04T12:40:52.582Z"
   },
   {
    "duration": 15,
    "start_time": "2021-10-04T12:40:52.591Z"
   },
   {
    "duration": 10,
    "start_time": "2021-10-04T12:40:52.610Z"
   },
   {
    "duration": 8,
    "start_time": "2021-10-04T12:40:52.623Z"
   },
   {
    "duration": 9,
    "start_time": "2021-10-04T12:40:52.634Z"
   },
   {
    "duration": 10,
    "start_time": "2021-10-04T12:40:52.661Z"
   },
   {
    "duration": 19,
    "start_time": "2021-10-04T12:40:52.673Z"
   },
   {
    "duration": 24,
    "start_time": "2021-10-04T12:40:58.009Z"
   },
   {
    "duration": 25,
    "start_time": "2021-10-04T12:41:00.405Z"
   },
   {
    "duration": 1358,
    "start_time": "2021-10-04T12:41:19.491Z"
   },
   {
    "duration": 3,
    "start_time": "2021-10-04T12:41:20.851Z"
   },
   {
    "duration": 74,
    "start_time": "2021-10-04T12:41:20.857Z"
   },
   {
    "duration": 6,
    "start_time": "2021-10-04T12:41:20.933Z"
   },
   {
    "duration": 52,
    "start_time": "2021-10-04T12:41:20.942Z"
   },
   {
    "duration": 7,
    "start_time": "2021-10-04T12:41:20.996Z"
   },
   {
    "duration": 10,
    "start_time": "2021-10-04T12:41:21.006Z"
   },
   {
    "duration": 10,
    "start_time": "2021-10-04T12:41:21.019Z"
   },
   {
    "duration": 6,
    "start_time": "2021-10-04T12:41:21.061Z"
   },
   {
    "duration": 7,
    "start_time": "2021-10-04T12:41:21.070Z"
   },
   {
    "duration": 14,
    "start_time": "2021-10-04T12:41:21.080Z"
   },
   {
    "duration": 13,
    "start_time": "2021-10-04T12:41:21.097Z"
   },
   {
    "duration": 436,
    "start_time": "2021-10-04T12:41:24.193Z"
   },
   {
    "duration": 24,
    "start_time": "2021-10-04T12:41:33.384Z"
   },
   {
    "duration": 30,
    "start_time": "2021-10-04T12:41:39.559Z"
   },
   {
    "duration": 30,
    "start_time": "2021-10-04T12:47:10.517Z"
   },
   {
    "duration": 8,
    "start_time": "2021-10-04T12:47:32.833Z"
   },
   {
    "duration": 26,
    "start_time": "2021-10-04T12:47:58.752Z"
   },
   {
    "duration": 5,
    "start_time": "2021-10-04T12:48:11.775Z"
   },
   {
    "duration": 6,
    "start_time": "2021-10-04T12:49:21.534Z"
   },
   {
    "duration": 5,
    "start_time": "2021-10-04T12:49:31.168Z"
   },
   {
    "duration": 6,
    "start_time": "2021-10-04T12:50:53.991Z"
   },
   {
    "duration": 11,
    "start_time": "2021-10-04T12:50:54.000Z"
   },
   {
    "duration": 68,
    "start_time": "2021-10-04T12:50:54.015Z"
   },
   {
    "duration": 7,
    "start_time": "2021-10-04T12:50:54.086Z"
   },
   {
    "duration": 38,
    "start_time": "2021-10-04T12:50:54.095Z"
   },
   {
    "duration": 7,
    "start_time": "2021-10-04T12:50:54.161Z"
   },
   {
    "duration": 13,
    "start_time": "2021-10-04T12:50:54.171Z"
   },
   {
    "duration": 18,
    "start_time": "2021-10-04T12:50:54.186Z"
   },
   {
    "duration": 8,
    "start_time": "2021-10-04T12:50:54.208Z"
   },
   {
    "duration": 11,
    "start_time": "2021-10-04T12:50:54.219Z"
   },
   {
    "duration": 31,
    "start_time": "2021-10-04T12:50:54.233Z"
   },
   {
    "duration": 16,
    "start_time": "2021-10-04T12:50:54.267Z"
   },
   {
    "duration": 28,
    "start_time": "2021-10-04T12:50:54.285Z"
   },
   {
    "duration": 5,
    "start_time": "2021-10-04T12:50:54.316Z"
   },
   {
    "duration": 28,
    "start_time": "2021-10-04T12:51:10.609Z"
   },
   {
    "duration": 27,
    "start_time": "2021-10-04T12:51:25.433Z"
   },
   {
    "duration": 26,
    "start_time": "2021-10-04T12:51:36.911Z"
   },
   {
    "duration": 22,
    "start_time": "2021-10-04T12:52:54.052Z"
   },
   {
    "duration": 9,
    "start_time": "2021-10-04T12:53:19.521Z"
   },
   {
    "duration": 16,
    "start_time": "2021-10-04T12:53:25.265Z"
   },
   {
    "duration": 328,
    "start_time": "2021-10-04T12:53:31.963Z"
   },
   {
    "duration": 45,
    "start_time": "2021-10-04T12:53:55.836Z"
   },
   {
    "duration": 9,
    "start_time": "2021-10-04T12:54:18.140Z"
   },
   {
    "duration": 9,
    "start_time": "2021-10-04T12:54:49.054Z"
   },
   {
    "duration": 9,
    "start_time": "2021-10-04T12:55:31.501Z"
   },
   {
    "duration": 9,
    "start_time": "2021-10-04T12:55:45.811Z"
   },
   {
    "duration": 297,
    "start_time": "2021-10-04T16:46:59.724Z"
   },
   {
    "duration": 1089,
    "start_time": "2021-10-04T16:47:07.390Z"
   },
   {
    "duration": 3,
    "start_time": "2021-10-04T16:47:08.481Z"
   },
   {
    "duration": 54,
    "start_time": "2021-10-04T16:47:08.486Z"
   },
   {
    "duration": 5,
    "start_time": "2021-10-04T16:47:08.541Z"
   },
   {
    "duration": 19,
    "start_time": "2021-10-04T16:47:08.547Z"
   },
   {
    "duration": 5,
    "start_time": "2021-10-04T16:47:08.568Z"
   },
   {
    "duration": 7,
    "start_time": "2021-10-04T16:47:08.574Z"
   },
   {
    "duration": 4,
    "start_time": "2021-10-04T16:47:08.583Z"
   },
   {
    "duration": 5,
    "start_time": "2021-10-04T16:47:08.589Z"
   },
   {
    "duration": 9,
    "start_time": "2021-10-04T16:47:08.596Z"
   },
   {
    "duration": 7,
    "start_time": "2021-10-04T16:47:08.606Z"
   },
   {
    "duration": 36,
    "start_time": "2021-10-04T16:47:08.614Z"
   },
   {
    "duration": 19,
    "start_time": "2021-10-04T16:47:08.652Z"
   },
   {
    "duration": 3,
    "start_time": "2021-10-04T16:47:08.673Z"
   },
   {
    "duration": 19,
    "start_time": "2021-10-04T16:47:16.567Z"
   },
   {
    "duration": 13,
    "start_time": "2021-10-04T16:47:59.378Z"
   },
   {
    "duration": 6,
    "start_time": "2021-10-04T16:48:15.841Z"
   },
   {
    "duration": 10,
    "start_time": "2021-10-04T16:48:18.378Z"
   },
   {
    "duration": 194,
    "start_time": "2021-10-04T16:48:20.209Z"
   },
   {
    "duration": 31,
    "start_time": "2021-10-04T16:48:25.066Z"
   },
   {
    "duration": 6,
    "start_time": "2021-10-04T16:48:28.737Z"
   },
   {
    "duration": 6,
    "start_time": "2021-10-04T16:48:31.529Z"
   },
   {
    "duration": 6,
    "start_time": "2021-10-04T16:48:35.809Z"
   },
   {
    "duration": 7,
    "start_time": "2021-10-04T16:48:39.401Z"
   },
   {
    "duration": 53768,
    "start_time": "2021-10-04T16:49:21.642Z"
   },
   {
    "duration": 88,
    "start_time": "2021-10-04T17:14:03.534Z"
   },
   {
    "duration": 51238,
    "start_time": "2021-10-04T17:14:20.682Z"
   },
   {
    "duration": 22,
    "start_time": "2021-10-04T17:18:39.885Z"
   },
   {
    "duration": 156,
    "start_time": "2021-10-04T17:43:09.970Z"
   },
   {
    "duration": 91,
    "start_time": "2021-10-04T18:01:50.282Z"
   },
   {
    "duration": 17,
    "start_time": "2021-10-04T18:02:00.922Z"
   },
   {
    "duration": 992,
    "start_time": "2021-10-05T05:47:57.739Z"
   },
   {
    "duration": 3,
    "start_time": "2021-10-05T05:47:58.733Z"
   },
   {
    "duration": 52,
    "start_time": "2021-10-05T05:47:58.738Z"
   },
   {
    "duration": 10,
    "start_time": "2021-10-05T05:47:58.792Z"
   },
   {
    "duration": 20,
    "start_time": "2021-10-05T05:47:58.804Z"
   },
   {
    "duration": 4,
    "start_time": "2021-10-05T05:47:58.826Z"
   },
   {
    "duration": 5,
    "start_time": "2021-10-05T05:47:58.832Z"
   },
   {
    "duration": 4,
    "start_time": "2021-10-05T05:47:58.840Z"
   },
   {
    "duration": 4,
    "start_time": "2021-10-05T05:47:58.847Z"
   },
   {
    "duration": 5,
    "start_time": "2021-10-05T05:47:58.853Z"
   },
   {
    "duration": 43,
    "start_time": "2021-10-05T05:47:58.859Z"
   },
   {
    "duration": 8,
    "start_time": "2021-10-05T05:47:58.904Z"
   },
   {
    "duration": 19,
    "start_time": "2021-10-05T05:47:58.913Z"
   },
   {
    "duration": 4,
    "start_time": "2021-10-05T05:47:58.934Z"
   },
   {
    "duration": 18,
    "start_time": "2021-10-05T05:47:58.940Z"
   },
   {
    "duration": 50,
    "start_time": "2021-10-05T05:47:58.959Z"
   },
   {
    "duration": 6,
    "start_time": "2021-10-05T05:47:59.011Z"
   },
   {
    "duration": 8,
    "start_time": "2021-10-05T05:47:59.019Z"
   },
   {
    "duration": 213,
    "start_time": "2021-10-05T05:47:59.029Z"
   },
   {
    "duration": 31,
    "start_time": "2021-10-05T05:47:59.244Z"
   },
   {
    "duration": 5,
    "start_time": "2021-10-05T05:47:59.276Z"
   },
   {
    "duration": 20,
    "start_time": "2021-10-05T05:47:59.283Z"
   },
   {
    "duration": 6,
    "start_time": "2021-10-05T05:47:59.306Z"
   },
   {
    "duration": 5,
    "start_time": "2021-10-05T05:47:59.314Z"
   },
   {
    "duration": 6,
    "start_time": "2021-10-05T05:47:59.321Z"
   },
   {
    "duration": 48542,
    "start_time": "2021-10-05T05:47:59.329Z"
   },
   {
    "duration": 177,
    "start_time": "2021-10-05T05:48:47.872Z"
   },
   {
    "duration": 149,
    "start_time": "2021-10-05T05:48:48.051Z"
   },
   {
    "duration": 118,
    "start_time": "2021-10-05T05:48:48.202Z"
   },
   {
    "duration": 76423,
    "start_time": "2021-10-05T05:48:48.322Z"
   },
   {
    "duration": -785,
    "start_time": "2021-10-05T05:50:05.532Z"
   },
   {
    "duration": -791,
    "start_time": "2021-10-05T05:50:05.539Z"
   },
   {
    "duration": -795,
    "start_time": "2021-10-05T05:50:05.544Z"
   },
   {
    "duration": -801,
    "start_time": "2021-10-05T05:50:05.551Z"
   },
   {
    "duration": -852,
    "start_time": "2021-10-05T05:50:05.602Z"
   },
   {
    "duration": -864,
    "start_time": "2021-10-05T05:50:05.615Z"
   },
   {
    "duration": -872,
    "start_time": "2021-10-05T05:50:05.624Z"
   },
   {
    "duration": -885,
    "start_time": "2021-10-05T05:50:05.638Z"
   },
   {
    "duration": 154,
    "start_time": "2021-10-05T05:56:05.460Z"
   },
   {
    "duration": 26,
    "start_time": "2021-10-05T05:56:19.507Z"
   },
   {
    "duration": 38,
    "start_time": "2021-10-05T05:57:05.792Z"
   },
   {
    "duration": 98,
    "start_time": "2021-10-05T05:57:27.703Z"
   },
   {
    "duration": 135,
    "start_time": "2021-10-05T05:59:54.448Z"
   },
   {
    "duration": 156429,
    "start_time": "2021-10-05T06:00:34.975Z"
   },
   {
    "duration": 36,
    "start_time": "2021-10-05T06:08:09.789Z"
   },
   {
    "duration": 90,
    "start_time": "2021-10-05T06:11:54.633Z"
   },
   {
    "duration": 13,
    "start_time": "2021-10-05T06:37:39.315Z"
   },
   {
    "duration": 4,
    "start_time": "2021-10-05T06:37:51.323Z"
   },
   {
    "duration": 44,
    "start_time": "2021-10-05T06:37:57.889Z"
   },
   {
    "duration": 65259,
    "start_time": "2021-10-05T06:42:20.192Z"
   },
   {
    "duration": 73,
    "start_time": "2021-10-05T07:01:39.627Z"
   },
   {
    "duration": 172,
    "start_time": "2021-10-05T07:04:51.578Z"
   },
   {
    "duration": 168,
    "start_time": "2021-10-05T07:07:45.332Z"
   },
   {
    "duration": 30,
    "start_time": "2021-10-05T07:26:20.933Z"
   },
   {
    "duration": 55,
    "start_time": "2021-10-05T07:31:04.647Z"
   },
   {
    "duration": 157,
    "start_time": "2021-10-05T07:31:14.875Z"
   },
   {
    "duration": 1004,
    "start_time": "2021-10-05T07:34:26.611Z"
   },
   {
    "duration": 3,
    "start_time": "2021-10-05T07:34:27.616Z"
   },
   {
    "duration": 53,
    "start_time": "2021-10-05T07:34:27.621Z"
   },
   {
    "duration": 4,
    "start_time": "2021-10-05T07:34:27.676Z"
   },
   {
    "duration": 27,
    "start_time": "2021-10-05T07:34:27.682Z"
   },
   {
    "duration": 4,
    "start_time": "2021-10-05T07:34:27.711Z"
   },
   {
    "duration": 6,
    "start_time": "2021-10-05T07:34:27.717Z"
   },
   {
    "duration": 5,
    "start_time": "2021-10-05T07:34:27.724Z"
   },
   {
    "duration": 4,
    "start_time": "2021-10-05T07:34:27.732Z"
   },
   {
    "duration": 4,
    "start_time": "2021-10-05T07:34:27.738Z"
   },
   {
    "duration": 7,
    "start_time": "2021-10-05T07:34:27.743Z"
   },
   {
    "duration": 9,
    "start_time": "2021-10-05T07:34:27.752Z"
   },
   {
    "duration": 45,
    "start_time": "2021-10-05T07:34:27.762Z"
   },
   {
    "duration": 3,
    "start_time": "2021-10-05T07:34:27.809Z"
   },
   {
    "duration": 20,
    "start_time": "2021-10-05T07:34:27.813Z"
   },
   {
    "duration": 12,
    "start_time": "2021-10-05T07:34:27.834Z"
   },
   {
    "duration": 4,
    "start_time": "2021-10-05T07:34:27.848Z"
   },
   {
    "duration": 7,
    "start_time": "2021-10-05T07:34:27.854Z"
   },
   {
    "duration": 220,
    "start_time": "2021-10-05T07:34:27.862Z"
   },
   {
    "duration": 37,
    "start_time": "2021-10-05T07:34:28.083Z"
   },
   {
    "duration": 5,
    "start_time": "2021-10-05T07:34:28.121Z"
   },
   {
    "duration": 5,
    "start_time": "2021-10-05T07:34:28.128Z"
   },
   {
    "duration": 5,
    "start_time": "2021-10-05T07:34:28.134Z"
   },
   {
    "duration": 6,
    "start_time": "2021-10-05T07:34:28.140Z"
   },
   {
    "duration": 6,
    "start_time": "2021-10-05T07:34:28.147Z"
   },
   {
    "duration": 104,
    "start_time": "2021-10-05T07:34:28.154Z"
   },
   {
    "duration": 157,
    "start_time": "2021-10-05T07:34:28.260Z"
   },
   {
    "duration": 87,
    "start_time": "2021-10-05T07:34:28.418Z"
   },
   {
    "duration": 4,
    "start_time": "2021-10-05T07:36:21.858Z"
   },
   {
    "duration": 6,
    "start_time": "2021-10-05T07:36:21.864Z"
   },
   {
    "duration": 48,
    "start_time": "2021-10-05T07:36:21.873Z"
   },
   {
    "duration": 3,
    "start_time": "2021-10-05T07:36:21.923Z"
   },
   {
    "duration": 22,
    "start_time": "2021-10-05T07:36:21.928Z"
   },
   {
    "duration": 4,
    "start_time": "2021-10-05T07:36:21.951Z"
   },
   {
    "duration": 5,
    "start_time": "2021-10-05T07:36:21.957Z"
   },
   {
    "duration": 5,
    "start_time": "2021-10-05T07:36:21.963Z"
   },
   {
    "duration": 32,
    "start_time": "2021-10-05T07:36:21.970Z"
   },
   {
    "duration": 6,
    "start_time": "2021-10-05T07:36:22.004Z"
   },
   {
    "duration": 7,
    "start_time": "2021-10-05T07:36:22.011Z"
   },
   {
    "duration": 7,
    "start_time": "2021-10-05T07:36:22.020Z"
   },
   {
    "duration": 17,
    "start_time": "2021-10-05T07:36:22.028Z"
   },
   {
    "duration": 3,
    "start_time": "2021-10-05T07:36:22.046Z"
   },
   {
    "duration": 50,
    "start_time": "2021-10-05T07:36:22.050Z"
   },
   {
    "duration": 13,
    "start_time": "2021-10-05T07:36:22.101Z"
   },
   {
    "duration": 7,
    "start_time": "2021-10-05T07:36:22.115Z"
   },
   {
    "duration": 8,
    "start_time": "2021-10-05T07:36:22.123Z"
   },
   {
    "duration": 162,
    "start_time": "2021-10-05T07:36:22.132Z"
   },
   {
    "duration": 39,
    "start_time": "2021-10-05T07:36:22.299Z"
   },
   {
    "duration": 8,
    "start_time": "2021-10-05T07:36:22.340Z"
   },
   {
    "duration": 11,
    "start_time": "2021-10-05T07:36:22.349Z"
   },
   {
    "duration": 16,
    "start_time": "2021-10-05T07:36:22.362Z"
   },
   {
    "duration": 23,
    "start_time": "2021-10-05T07:36:22.380Z"
   },
   {
    "duration": 10,
    "start_time": "2021-10-05T07:36:22.406Z"
   },
   {
    "duration": 114,
    "start_time": "2021-10-05T07:36:22.420Z"
   },
   {
    "duration": 170,
    "start_time": "2021-10-05T07:36:22.536Z"
   },
   {
    "duration": 98,
    "start_time": "2021-10-05T07:36:22.708Z"
   },
   {
    "duration": 117,
    "start_time": "2021-10-05T07:36:22.809Z"
   },
   {
    "duration": 194,
    "start_time": "2021-10-05T07:36:22.928Z"
   },
   {
    "duration": 108,
    "start_time": "2021-10-05T07:36:23.124Z"
   },
   {
    "duration": 69,
    "start_time": "2021-10-05T07:36:23.234Z"
   },
   {
    "duration": 3,
    "start_time": "2021-10-05T07:37:05.730Z"
   },
   {
    "duration": 8,
    "start_time": "2021-10-05T07:37:05.735Z"
   },
   {
    "duration": 50,
    "start_time": "2021-10-05T07:37:05.744Z"
   },
   {
    "duration": 4,
    "start_time": "2021-10-05T07:37:05.796Z"
   },
   {
    "duration": 22,
    "start_time": "2021-10-05T07:37:05.802Z"
   },
   {
    "duration": 5,
    "start_time": "2021-10-05T07:37:05.826Z"
   },
   {
    "duration": 7,
    "start_time": "2021-10-05T07:37:05.833Z"
   },
   {
    "duration": 7,
    "start_time": "2021-10-05T07:37:05.841Z"
   },
   {
    "duration": 10,
    "start_time": "2021-10-05T07:37:05.849Z"
   },
   {
    "duration": 4,
    "start_time": "2021-10-05T07:37:05.861Z"
   },
   {
    "duration": 34,
    "start_time": "2021-10-05T07:37:05.867Z"
   },
   {
    "duration": 10,
    "start_time": "2021-10-05T07:37:05.902Z"
   },
   {
    "duration": 19,
    "start_time": "2021-10-05T07:37:05.914Z"
   },
   {
    "duration": 4,
    "start_time": "2021-10-05T07:37:05.934Z"
   },
   {
    "duration": 18,
    "start_time": "2021-10-05T07:37:05.939Z"
   },
   {
    "duration": 13,
    "start_time": "2021-10-05T07:37:05.958Z"
   },
   {
    "duration": 31,
    "start_time": "2021-10-05T07:37:05.972Z"
   },
   {
    "duration": 9,
    "start_time": "2021-10-05T07:37:06.006Z"
   },
   {
    "duration": 137,
    "start_time": "2021-10-05T07:37:06.017Z"
   },
   {
    "duration": 30,
    "start_time": "2021-10-05T07:37:06.155Z"
   },
   {
    "duration": 17,
    "start_time": "2021-10-05T07:37:06.186Z"
   },
   {
    "duration": 6,
    "start_time": "2021-10-05T07:37:06.205Z"
   },
   {
    "duration": 6,
    "start_time": "2021-10-05T07:37:06.213Z"
   },
   {
    "duration": 6,
    "start_time": "2021-10-05T07:37:06.220Z"
   },
   {
    "duration": 6,
    "start_time": "2021-10-05T07:37:06.227Z"
   },
   {
    "duration": 107,
    "start_time": "2021-10-05T07:37:06.235Z"
   },
   {
    "duration": 163,
    "start_time": "2021-10-05T07:37:06.343Z"
   },
   {
    "duration": 96,
    "start_time": "2021-10-05T07:37:06.507Z"
   },
   {
    "duration": 123,
    "start_time": "2021-10-05T07:37:06.606Z"
   },
   {
    "duration": 155,
    "start_time": "2021-10-05T07:37:06.731Z"
   },
   {
    "duration": 91,
    "start_time": "2021-10-05T07:37:06.888Z"
   },
   {
    "duration": 120,
    "start_time": "2021-10-05T07:37:06.980Z"
   },
   {
    "duration": 106,
    "start_time": "2021-10-05T07:37:07.103Z"
   },
   {
    "duration": 4,
    "start_time": "2021-10-05T07:37:07.210Z"
   },
   {
    "duration": 59,
    "start_time": "2021-10-05T07:37:07.216Z"
   },
   {
    "duration": 109,
    "start_time": "2021-10-05T07:37:07.276Z"
   },
   {
    "duration": 176,
    "start_time": "2021-10-05T07:37:07.387Z"
   },
   {
    "duration": 40,
    "start_time": "2021-10-05T07:37:07.565Z"
   },
   {
    "duration": 223,
    "start_time": "2021-10-05T07:46:54.717Z"
   },
   {
    "duration": 18,
    "start_time": "2021-10-05T07:47:15.008Z"
   },
   {
    "duration": 1024,
    "start_time": "2021-10-05T07:56:29.702Z"
   },
   {
    "duration": 3,
    "start_time": "2021-10-05T07:56:30.728Z"
   },
   {
    "duration": 61,
    "start_time": "2021-10-05T07:56:30.733Z"
   },
   {
    "duration": 4,
    "start_time": "2021-10-05T07:56:30.796Z"
   },
   {
    "duration": 22,
    "start_time": "2021-10-05T07:56:30.802Z"
   },
   {
    "duration": 4,
    "start_time": "2021-10-05T07:56:30.826Z"
   },
   {
    "duration": 6,
    "start_time": "2021-10-05T07:56:30.832Z"
   },
   {
    "duration": 8,
    "start_time": "2021-10-05T07:56:30.839Z"
   },
   {
    "duration": 5,
    "start_time": "2021-10-05T07:56:30.849Z"
   },
   {
    "duration": 4,
    "start_time": "2021-10-05T07:56:30.856Z"
   },
   {
    "duration": 8,
    "start_time": "2021-10-05T07:56:30.862Z"
   },
   {
    "duration": 10,
    "start_time": "2021-10-05T07:56:30.871Z"
   },
   {
    "duration": 18,
    "start_time": "2021-10-05T07:56:30.900Z"
   },
   {
    "duration": 3,
    "start_time": "2021-10-05T07:56:30.920Z"
   },
   {
    "duration": 18,
    "start_time": "2021-10-05T07:56:30.925Z"
   },
   {
    "duration": 13,
    "start_time": "2021-10-05T07:56:30.945Z"
   },
   {
    "duration": 6,
    "start_time": "2021-10-05T07:56:30.960Z"
   },
   {
    "duration": 38,
    "start_time": "2021-10-05T07:56:30.968Z"
   },
   {
    "duration": 199,
    "start_time": "2021-10-05T07:56:31.008Z"
   },
   {
    "duration": 29,
    "start_time": "2021-10-05T07:56:31.209Z"
   },
   {
    "duration": 6,
    "start_time": "2021-10-05T07:56:31.239Z"
   },
   {
    "duration": 16,
    "start_time": "2021-10-05T07:56:31.246Z"
   },
   {
    "duration": 14,
    "start_time": "2021-10-05T07:56:31.263Z"
   },
   {
    "duration": 6,
    "start_time": "2021-10-05T07:56:31.278Z"
   },
   {
    "duration": 20,
    "start_time": "2021-10-05T07:56:31.286Z"
   },
   {
    "duration": 48021,
    "start_time": "2021-10-05T07:56:31.308Z"
   },
   {
    "duration": 177,
    "start_time": "2021-10-05T07:57:19.332Z"
   },
   {
    "duration": 92,
    "start_time": "2021-10-05T07:57:19.511Z"
   },
   {
    "duration": 126,
    "start_time": "2021-10-05T07:57:19.605Z"
   },
   {
    "duration": 79801,
    "start_time": "2021-10-05T07:57:19.732Z"
   },
   {
    "duration": 116,
    "start_time": "2021-10-05T07:58:39.535Z"
   },
   {
    "duration": 52,
    "start_time": "2021-10-05T07:58:39.653Z"
   },
   {
    "duration": 193,
    "start_time": "2021-10-05T07:58:39.707Z"
   },
   {
    "duration": 24,
    "start_time": "2021-10-05T07:58:39.902Z"
   },
   {
    "duration": 49,
    "start_time": "2021-10-05T07:58:39.928Z"
   },
   {
    "duration": 64251,
    "start_time": "2021-10-05T07:58:39.979Z"
   },
   {
    "duration": 195,
    "start_time": "2021-10-05T07:59:44.232Z"
   },
   {
    "duration": 76,
    "start_time": "2021-10-05T07:59:44.429Z"
   },
   {
    "duration": 279,
    "start_time": "2021-10-05T07:59:44.507Z"
   },
   {
    "duration": 24,
    "start_time": "2021-10-05T07:59:44.788Z"
   },
   {
    "duration": 1106,
    "start_time": "2021-10-06T06:08:55.052Z"
   },
   {
    "duration": 3,
    "start_time": "2021-10-06T06:08:56.160Z"
   },
   {
    "duration": 68,
    "start_time": "2021-10-06T06:08:56.165Z"
   },
   {
    "duration": 5,
    "start_time": "2021-10-06T06:08:56.235Z"
   },
   {
    "duration": 32,
    "start_time": "2021-10-06T06:08:56.242Z"
   },
   {
    "duration": 6,
    "start_time": "2021-10-06T06:08:56.276Z"
   },
   {
    "duration": 6,
    "start_time": "2021-10-06T06:08:56.284Z"
   },
   {
    "duration": 5,
    "start_time": "2021-10-06T06:08:56.292Z"
   },
   {
    "duration": 5,
    "start_time": "2021-10-06T06:08:56.299Z"
   },
   {
    "duration": 6,
    "start_time": "2021-10-06T06:08:56.306Z"
   },
   {
    "duration": 37,
    "start_time": "2021-10-06T06:08:56.314Z"
   },
   {
    "duration": 11,
    "start_time": "2021-10-06T06:08:56.353Z"
   },
   {
    "duration": 25,
    "start_time": "2021-10-06T06:08:56.366Z"
   },
   {
    "duration": 4,
    "start_time": "2021-10-06T06:08:56.393Z"
   },
   {
    "duration": 52,
    "start_time": "2021-10-06T06:08:56.399Z"
   },
   {
    "duration": 13,
    "start_time": "2021-10-06T06:08:56.453Z"
   },
   {
    "duration": 6,
    "start_time": "2021-10-06T06:08:56.467Z"
   },
   {
    "duration": 12,
    "start_time": "2021-10-06T06:08:56.474Z"
   },
   {
    "duration": 204,
    "start_time": "2021-10-06T06:08:56.487Z"
   },
   {
    "duration": 29,
    "start_time": "2021-10-06T06:08:56.692Z"
   },
   {
    "duration": 5,
    "start_time": "2021-10-06T06:08:56.723Z"
   },
   {
    "duration": 21,
    "start_time": "2021-10-06T06:08:56.730Z"
   },
   {
    "duration": 6,
    "start_time": "2021-10-06T06:08:56.754Z"
   },
   {
    "duration": 23,
    "start_time": "2021-10-06T06:08:56.762Z"
   },
   {
    "duration": 22,
    "start_time": "2021-10-06T06:08:56.786Z"
   },
   {
    "duration": 48567,
    "start_time": "2021-10-06T06:08:56.810Z"
   },
   {
    "duration": 175,
    "start_time": "2021-10-06T06:09:45.385Z"
   },
   {
    "duration": 187,
    "start_time": "2021-10-06T06:09:45.562Z"
   },
   {
    "duration": 35,
    "start_time": "2021-10-06T06:09:45.751Z"
   },
   {
    "duration": 81472,
    "start_time": "2021-10-06T06:09:45.788Z"
   },
   {
    "duration": 108,
    "start_time": "2021-10-06T06:11:07.262Z"
   },
   {
    "duration": 177,
    "start_time": "2021-10-06T06:11:07.372Z"
   },
   {
    "duration": 106,
    "start_time": "2021-10-06T06:11:07.553Z"
   },
   {
    "duration": 3,
    "start_time": "2021-10-06T06:11:07.661Z"
   },
   {
    "duration": 49,
    "start_time": "2021-10-06T06:11:07.666Z"
   },
   {
    "duration": 66295,
    "start_time": "2021-10-06T06:11:07.717Z"
   },
   {
    "duration": 200,
    "start_time": "2021-10-06T06:12:14.014Z"
   },
   {
    "duration": 138,
    "start_time": "2021-10-06T06:12:14.216Z"
   },
   {
    "duration": 354,
    "start_time": "2021-10-06T06:12:14.357Z"
   },
   {
    "duration": 17,
    "start_time": "2021-10-06T06:12:14.712Z"
   },
   {
    "duration": 103,
    "start_time": "2021-10-06T06:32:11.520Z"
   },
   {
    "duration": 96,
    "start_time": "2021-10-06T06:32:42.068Z"
   },
   {
    "duration": 1321,
    "start_time": "2021-10-06T09:53:32.630Z"
   },
   {
    "duration": 3,
    "start_time": "2021-10-06T09:53:34.996Z"
   },
   {
    "duration": 91,
    "start_time": "2021-10-06T09:53:35.154Z"
   },
   {
    "duration": 7,
    "start_time": "2021-10-06T09:53:35.919Z"
   },
   {
    "duration": 37,
    "start_time": "2021-10-06T09:53:36.103Z"
   },
   {
    "duration": 9,
    "start_time": "2021-10-06T09:53:36.300Z"
   },
   {
    "duration": 6,
    "start_time": "2021-10-06T09:53:36.507Z"
   },
   {
    "duration": 6,
    "start_time": "2021-10-06T09:53:36.687Z"
   },
   {
    "duration": 6,
    "start_time": "2021-10-06T09:53:37.005Z"
   },
   {
    "duration": 5,
    "start_time": "2021-10-06T09:53:37.323Z"
   },
   {
    "duration": 9,
    "start_time": "2021-10-06T09:53:37.528Z"
   },
   {
    "duration": 10,
    "start_time": "2021-10-06T09:53:38.028Z"
   },
   {
    "duration": 36,
    "start_time": "2021-10-06T09:53:42.728Z"
   },
   {
    "duration": 4,
    "start_time": "2021-10-06T09:53:43.222Z"
   },
   {
    "duration": 40,
    "start_time": "2021-10-06T09:53:44.967Z"
   },
   {
    "duration": 22,
    "start_time": "2021-10-06T09:53:45.943Z"
   },
   {
    "duration": 9,
    "start_time": "2021-10-06T09:53:47.595Z"
   },
   {
    "duration": 15,
    "start_time": "2021-10-06T09:53:47.755Z"
   },
   {
    "duration": 355,
    "start_time": "2021-10-06T09:53:48.187Z"
   },
   {
    "duration": 41,
    "start_time": "2021-10-06T09:53:49.259Z"
   },
   {
    "duration": 8,
    "start_time": "2021-10-06T09:53:49.827Z"
   },
   {
    "duration": 9,
    "start_time": "2021-10-06T09:54:32.947Z"
   },
   {
    "duration": 8,
    "start_time": "2021-10-06T09:54:34.178Z"
   },
   {
    "duration": 9,
    "start_time": "2021-10-06T09:54:35.937Z"
   },
   {
    "duration": 10,
    "start_time": "2021-10-06T09:54:36.681Z"
   },
   {
    "duration": 16864,
    "start_time": "2021-10-06T09:54:40.367Z"
   },
   {
    "duration": 219,
    "start_time": "2021-10-06T09:55:04.431Z"
   },
   {
    "duration": 229,
    "start_time": "2021-10-06T09:55:12.116Z"
   },
   {
    "duration": 226,
    "start_time": "2021-10-06T09:55:18.034Z"
   },
   {
    "duration": 20,
    "start_time": "2021-10-06T09:55:31.688Z"
   },
   {
    "duration": 6,
    "start_time": "2021-10-06T09:55:31.959Z"
   },
   {
    "duration": 272,
    "start_time": "2021-10-06T09:55:38.303Z"
   },
   {
    "duration": 257,
    "start_time": "2021-10-06T09:55:43.185Z"
   },
   {
    "duration": 253,
    "start_time": "2021-10-06T09:55:51.525Z"
   },
   {
    "duration": 201,
    "start_time": "2021-10-06T09:56:00.273Z"
   },
   {
    "duration": 249,
    "start_time": "2021-10-06T09:57:25.480Z"
   },
   {
    "duration": 253,
    "start_time": "2021-10-06T09:57:30.062Z"
   },
   {
    "duration": 155,
    "start_time": "2021-10-06T09:57:50.566Z"
   },
   {
    "duration": 317,
    "start_time": "2021-10-06T09:58:21.517Z"
   },
   {
    "duration": 8,
    "start_time": "2021-10-06T09:58:26.111Z"
   },
   {
    "duration": 8,
    "start_time": "2021-10-06T09:58:38.590Z"
   },
   {
    "duration": 8,
    "start_time": "2021-10-06T09:58:51.025Z"
   },
   {
    "duration": 8,
    "start_time": "2021-10-06T09:58:57.348Z"
   },
   {
    "duration": 1288,
    "start_time": "2021-10-06T09:59:28.472Z"
   },
   {
    "duration": 2606,
    "start_time": "2021-10-06T09:59:34.696Z"
   },
   {
    "duration": 1339,
    "start_time": "2021-10-06T09:59:40.134Z"
   },
   {
    "duration": 230,
    "start_time": "2021-10-06T10:02:51.838Z"
   },
   {
    "duration": 273,
    "start_time": "2021-10-06T10:03:48.777Z"
   },
   {
    "duration": 176,
    "start_time": "2021-10-06T10:04:31.132Z"
   },
   {
    "duration": 1173,
    "start_time": "2021-10-06T10:04:37.808Z"
   },
   {
    "duration": 2407,
    "start_time": "2021-10-06T10:04:42.065Z"
   },
   {
    "duration": 3487,
    "start_time": "2021-10-06T10:04:47.564Z"
   },
   {
    "duration": 2766,
    "start_time": "2021-10-06T10:04:55.936Z"
   },
   {
    "duration": 3068,
    "start_time": "2021-10-06T10:05:01.736Z"
   },
   {
    "duration": 2764,
    "start_time": "2021-10-06T10:05:08.434Z"
   },
   {
    "duration": 2844,
    "start_time": "2021-10-06T10:06:18.366Z"
   },
   {
    "duration": 262,
    "start_time": "2021-10-06T10:06:26.584Z"
   },
   {
    "duration": 168,
    "start_time": "2021-10-06T10:08:37.824Z"
   },
   {
    "duration": 347,
    "start_time": "2021-10-06T10:10:28.047Z"
   },
   {
    "duration": 1653,
    "start_time": "2021-10-06T10:13:19.572Z"
   },
   {
    "duration": 19,
    "start_time": "2021-10-06T10:13:54.415Z"
   },
   {
    "duration": 6,
    "start_time": "2021-10-06T10:13:54.755Z"
   },
   {
    "duration": 1373,
    "start_time": "2021-10-06T10:14:02.991Z"
   },
   {
    "duration": 948,
    "start_time": "2021-10-06T10:16:00.690Z"
   },
   {
    "duration": 1320,
    "start_time": "2021-10-06T10:33:31.742Z"
   },
   {
    "duration": 288,
    "start_time": "2021-10-06T10:33:48.943Z"
   },
   {
    "duration": 286,
    "start_time": "2021-10-06T10:34:18.930Z"
   },
   {
    "duration": 301,
    "start_time": "2021-10-06T10:34:45.910Z"
   },
   {
    "duration": 282,
    "start_time": "2021-10-06T10:34:53.448Z"
   },
   {
    "duration": 333,
    "start_time": "2021-10-06T10:35:14.173Z"
   },
   {
    "duration": 281,
    "start_time": "2021-10-06T10:35:23.420Z"
   },
   {
    "duration": 280,
    "start_time": "2021-10-06T10:35:42.457Z"
   },
   {
    "duration": 639,
    "start_time": "2021-10-06T10:35:47.889Z"
   },
   {
    "duration": 293,
    "start_time": "2021-10-06T10:35:54.790Z"
   },
   {
    "duration": 1218,
    "start_time": "2021-10-06T10:36:50.454Z"
   },
   {
    "duration": 627,
    "start_time": "2021-10-06T10:36:55.543Z"
   },
   {
    "duration": 634,
    "start_time": "2021-10-06T10:37:20.275Z"
   },
   {
    "duration": 635,
    "start_time": "2021-10-06T10:37:25.675Z"
   },
   {
    "duration": 274,
    "start_time": "2021-10-06T10:43:10.852Z"
   },
   {
    "duration": 19,
    "start_time": "2021-10-06T10:43:24.561Z"
   },
   {
    "duration": 6,
    "start_time": "2021-10-06T10:43:24.833Z"
   },
   {
    "duration": 254,
    "start_time": "2021-10-06T10:43:33.698Z"
   },
   {
    "duration": 1044,
    "start_time": "2021-10-06T12:22:52.050Z"
   },
   {
    "duration": 2,
    "start_time": "2021-10-06T12:22:53.096Z"
   },
   {
    "duration": 56,
    "start_time": "2021-10-06T12:22:53.100Z"
   },
   {
    "duration": 5,
    "start_time": "2021-10-06T12:22:53.158Z"
   },
   {
    "duration": 21,
    "start_time": "2021-10-06T12:22:53.164Z"
   },
   {
    "duration": 5,
    "start_time": "2021-10-06T12:22:53.187Z"
   },
   {
    "duration": 7,
    "start_time": "2021-10-06T12:22:53.193Z"
   },
   {
    "duration": 7,
    "start_time": "2021-10-06T12:22:53.201Z"
   },
   {
    "duration": 4,
    "start_time": "2021-10-06T12:22:53.211Z"
   },
   {
    "duration": 32,
    "start_time": "2021-10-06T12:22:53.217Z"
   },
   {
    "duration": 6,
    "start_time": "2021-10-06T12:22:53.251Z"
   },
   {
    "duration": 11,
    "start_time": "2021-10-06T12:22:53.259Z"
   },
   {
    "duration": 19,
    "start_time": "2021-10-06T12:22:53.272Z"
   },
   {
    "duration": 4,
    "start_time": "2021-10-06T12:22:53.293Z"
   },
   {
    "duration": 29,
    "start_time": "2021-10-06T12:22:53.298Z"
   },
   {
    "duration": 31,
    "start_time": "2021-10-06T12:22:53.329Z"
   },
   {
    "duration": 6,
    "start_time": "2021-10-06T12:22:53.361Z"
   },
   {
    "duration": 11,
    "start_time": "2021-10-06T12:22:53.368Z"
   },
   {
    "duration": 205,
    "start_time": "2021-10-06T12:22:53.381Z"
   },
   {
    "duration": 31,
    "start_time": "2021-10-06T12:22:53.587Z"
   },
   {
    "duration": 6,
    "start_time": "2021-10-06T12:22:53.620Z"
   },
   {
    "duration": 23,
    "start_time": "2021-10-06T12:22:53.627Z"
   },
   {
    "duration": 7,
    "start_time": "2021-10-06T12:22:53.652Z"
   },
   {
    "duration": 8,
    "start_time": "2021-10-06T12:22:53.661Z"
   },
   {
    "duration": 8,
    "start_time": "2021-10-06T12:22:53.670Z"
   },
   {
    "duration": 15779,
    "start_time": "2021-10-06T12:22:53.680Z"
   },
   {
    "duration": -462,
    "start_time": "2021-10-06T12:23:09.923Z"
   },
   {
    "duration": -464,
    "start_time": "2021-10-06T12:23:09.926Z"
   },
   {
    "duration": -466,
    "start_time": "2021-10-06T12:23:09.929Z"
   },
   {
    "duration": -471,
    "start_time": "2021-10-06T12:23:09.934Z"
   },
   {
    "duration": -471,
    "start_time": "2021-10-06T12:23:09.936Z"
   },
   {
    "duration": -573,
    "start_time": "2021-10-06T12:23:10.039Z"
   },
   {
    "duration": 4,
    "start_time": "2021-10-06T12:23:21.210Z"
   },
   {
    "duration": 7,
    "start_time": "2021-10-06T12:23:21.216Z"
   },
   {
    "duration": 46,
    "start_time": "2021-10-06T12:23:21.226Z"
   },
   {
    "duration": 4,
    "start_time": "2021-10-06T12:23:21.274Z"
   },
   {
    "duration": 25,
    "start_time": "2021-10-06T12:23:21.279Z"
   },
   {
    "duration": 5,
    "start_time": "2021-10-06T12:23:21.305Z"
   },
   {
    "duration": 17,
    "start_time": "2021-10-06T12:23:21.312Z"
   },
   {
    "duration": 18,
    "start_time": "2021-10-06T12:23:21.331Z"
   },
   {
    "duration": 4,
    "start_time": "2021-10-06T12:23:21.352Z"
   },
   {
    "duration": 6,
    "start_time": "2021-10-06T12:23:21.358Z"
   },
   {
    "duration": 21,
    "start_time": "2021-10-06T12:23:21.365Z"
   },
   {
    "duration": 19,
    "start_time": "2021-10-06T12:23:21.387Z"
   },
   {
    "duration": 19,
    "start_time": "2021-10-06T12:23:21.408Z"
   },
   {
    "duration": 4,
    "start_time": "2021-10-06T12:23:21.428Z"
   },
   {
    "duration": 36,
    "start_time": "2021-10-06T12:23:21.434Z"
   },
   {
    "duration": 13,
    "start_time": "2021-10-06T12:23:21.471Z"
   },
   {
    "duration": 6,
    "start_time": "2021-10-06T12:23:21.486Z"
   },
   {
    "duration": 19,
    "start_time": "2021-10-06T12:23:21.494Z"
   },
   {
    "duration": 134,
    "start_time": "2021-10-06T12:23:21.515Z"
   },
   {
    "duration": 30,
    "start_time": "2021-10-06T12:23:21.651Z"
   },
   {
    "duration": 5,
    "start_time": "2021-10-06T12:23:21.683Z"
   },
   {
    "duration": 21,
    "start_time": "2021-10-06T12:23:21.690Z"
   },
   {
    "duration": 11,
    "start_time": "2021-10-06T12:23:21.712Z"
   },
   {
    "duration": 15,
    "start_time": "2021-10-06T12:23:21.724Z"
   },
   {
    "duration": 13,
    "start_time": "2021-10-06T12:23:21.740Z"
   },
   {
    "duration": 84,
    "start_time": "2021-10-06T12:23:21.755Z"
   },
   {
    "duration": 164,
    "start_time": "2021-10-06T12:23:21.842Z"
   },
   {
    "duration": 49,
    "start_time": "2021-10-06T12:23:22.008Z"
   },
   {
    "duration": 130,
    "start_time": "2021-10-06T12:23:22.149Z"
   },
   {
    "duration": 157,
    "start_time": "2021-10-06T12:23:22.281Z"
   },
   {
    "duration": 97,
    "start_time": "2021-10-06T12:23:22.440Z"
   },
   {
    "duration": 116,
    "start_time": "2021-10-06T12:23:22.539Z"
   },
   {
    "duration": 16,
    "start_time": "2021-10-06T12:23:33.009Z"
   },
   {
    "duration": 4,
    "start_time": "2021-10-06T12:23:41.211Z"
   },
   {
    "duration": 44,
    "start_time": "2021-10-06T12:23:46.619Z"
   },
   {
    "duration": 174,
    "start_time": "2021-10-06T12:24:09.996Z"
   },
   {
    "duration": 67301,
    "start_time": "2021-10-06T12:24:20.972Z"
   },
   {
    "duration": 17,
    "start_time": "2021-10-06T12:31:31.279Z"
   },
   {
    "duration": 4,
    "start_time": "2021-10-06T12:31:43.044Z"
   },
   {
    "duration": 44,
    "start_time": "2021-10-06T12:31:47.162Z"
   },
   {
    "duration": 67997,
    "start_time": "2021-10-06T12:31:53.779Z"
   },
   {
    "duration": 154,
    "start_time": "2021-10-06T12:36:21.606Z"
   },
   {
    "duration": 159,
    "start_time": "2021-10-06T12:39:52.171Z"
   },
   {
    "duration": 33,
    "start_time": "2021-10-06T12:40:17.717Z"
   },
   {
    "duration": 171,
    "start_time": "2021-10-06T12:42:03.196Z"
   },
   {
    "duration": 168,
    "start_time": "2021-10-06T12:42:29.887Z"
   },
   {
    "duration": 188,
    "start_time": "2021-10-06T12:49:04.740Z"
   },
   {
    "duration": 141151,
    "start_time": "2021-10-06T12:53:02.362Z"
   },
   {
    "duration": 188,
    "start_time": "2021-10-06T13:07:53.359Z"
   },
   {
    "duration": 74,
    "start_time": "2021-10-06T13:10:17.832Z"
   },
   {
    "duration": 1415,
    "start_time": "2021-10-07T09:27:20.662Z"
   },
   {
    "duration": 3,
    "start_time": "2021-10-07T09:27:22.079Z"
   },
   {
    "duration": 78,
    "start_time": "2021-10-07T09:27:22.085Z"
   },
   {
    "duration": 7,
    "start_time": "2021-10-07T09:27:22.165Z"
   },
   {
    "duration": 49,
    "start_time": "2021-10-07T09:27:22.174Z"
   },
   {
    "duration": 7,
    "start_time": "2021-10-07T09:27:22.330Z"
   },
   {
    "duration": 6,
    "start_time": "2021-10-07T09:27:22.534Z"
   },
   {
    "duration": 5,
    "start_time": "2021-10-07T09:27:22.692Z"
   },
   {
    "duration": 5,
    "start_time": "2021-10-07T09:27:22.873Z"
   },
   {
    "duration": 5,
    "start_time": "2021-10-07T09:27:23.036Z"
   },
   {
    "duration": 9,
    "start_time": "2021-10-07T09:27:23.173Z"
   },
   {
    "duration": 12,
    "start_time": "2021-10-07T09:27:23.514Z"
   },
   {
    "duration": 30,
    "start_time": "2021-10-07T09:27:24.109Z"
   },
   {
    "duration": 5,
    "start_time": "2021-10-07T09:27:24.245Z"
   },
   {
    "duration": 37,
    "start_time": "2021-10-07T09:27:25.312Z"
   },
   {
    "duration": 21,
    "start_time": "2021-10-07T09:27:26.150Z"
   },
   {
    "duration": 9,
    "start_time": "2021-10-07T09:27:27.077Z"
   },
   {
    "duration": 12,
    "start_time": "2021-10-07T09:27:27.234Z"
   },
   {
    "duration": 324,
    "start_time": "2021-10-07T09:27:27.369Z"
   },
   {
    "duration": 23,
    "start_time": "2021-10-07T09:27:49.444Z"
   },
   {
    "duration": 6,
    "start_time": "2021-10-07T09:27:51.539Z"
   },
   {
    "duration": 260,
    "start_time": "2021-10-07T09:28:25.216Z"
   },
   {
    "duration": 97,
    "start_time": "2021-10-07T09:29:54.868Z"
   },
   {
    "duration": 637,
    "start_time": "2021-10-07T09:29:58.411Z"
   },
   {
    "duration": 527,
    "start_time": "2021-10-07T09:30:13.717Z"
   },
   {
    "duration": 527,
    "start_time": "2021-10-07T09:31:17.745Z"
   },
   {
    "duration": 595,
    "start_time": "2021-10-07T09:32:00.906Z"
   },
   {
    "duration": 93,
    "start_time": "2021-10-07T09:32:52.588Z"
   },
   {
    "duration": 604,
    "start_time": "2021-10-07T09:33:04.686Z"
   },
   {
    "duration": 254,
    "start_time": "2021-10-07T09:33:30.756Z"
   },
   {
    "duration": 257,
    "start_time": "2021-10-07T09:33:33.900Z"
   },
   {
    "duration": 274,
    "start_time": "2021-10-07T09:34:34.858Z"
   },
   {
    "duration": 282,
    "start_time": "2021-10-07T09:35:38.542Z"
   },
   {
    "duration": 303,
    "start_time": "2021-10-07T09:35:51.125Z"
   },
   {
    "duration": 280,
    "start_time": "2021-10-07T09:35:59.607Z"
   },
   {
    "duration": 304,
    "start_time": "2021-10-07T09:37:48.035Z"
   },
   {
    "duration": 285,
    "start_time": "2021-10-07T09:37:51.335Z"
   },
   {
    "duration": 312,
    "start_time": "2021-10-07T09:38:08.723Z"
   },
   {
    "duration": 296,
    "start_time": "2021-10-07T09:38:21.933Z"
   },
   {
    "duration": 35,
    "start_time": "2021-10-07T09:38:41.391Z"
   },
   {
    "duration": 14,
    "start_time": "2021-10-07T09:38:45.904Z"
   },
   {
    "duration": 40,
    "start_time": "2021-10-07T09:39:11.055Z"
   },
   {
    "duration": 10,
    "start_time": "2021-10-07T09:39:18.740Z"
   },
   {
    "duration": 56,
    "start_time": "2021-10-07T09:39:23.043Z"
   },
   {
    "duration": 11,
    "start_time": "2021-10-07T09:39:37.719Z"
   },
   {
    "duration": 8,
    "start_time": "2021-10-07T09:39:45.141Z"
   },
   {
    "duration": 84,
    "start_time": "2021-10-07T09:39:56.868Z"
   },
   {
    "duration": 24,
    "start_time": "2021-10-07T09:39:59.044Z"
   },
   {
    "duration": 39,
    "start_time": "2021-10-07T09:40:06.639Z"
   },
   {
    "duration": 271,
    "start_time": "2021-10-07T09:40:29.603Z"
   },
   {
    "duration": 326,
    "start_time": "2021-10-07T09:41:51.773Z"
   },
   {
    "duration": 36,
    "start_time": "2021-10-07T09:42:02.550Z"
   },
   {
    "duration": 208,
    "start_time": "2021-10-07T09:42:27.409Z"
   },
   {
    "duration": 224,
    "start_time": "2021-10-07T09:42:34.292Z"
   },
   {
    "duration": 41,
    "start_time": "2021-10-07T09:42:37.719Z"
   },
   {
    "duration": 6,
    "start_time": "2021-10-07T09:42:40.596Z"
   },
   {
    "duration": 295,
    "start_time": "2021-10-07T09:42:46.099Z"
   },
   {
    "duration": 178,
    "start_time": "2021-10-07T09:42:49.929Z"
   },
   {
    "duration": 413,
    "start_time": "2021-10-07T09:42:55.053Z"
   },
   {
    "duration": 270,
    "start_time": "2021-10-07T09:43:13.322Z"
   },
   {
    "duration": 33,
    "start_time": "2021-10-07T09:45:35.536Z"
   },
   {
    "duration": 29,
    "start_time": "2021-10-07T09:45:46.576Z"
   },
   {
    "duration": 5,
    "start_time": "2021-10-07T09:45:46.721Z"
   },
   {
    "duration": 291,
    "start_time": "2021-10-07T09:45:52.277Z"
   },
   {
    "duration": 1395,
    "start_time": "2021-10-07T11:18:11.736Z"
   },
   {
    "duration": 3,
    "start_time": "2021-10-07T11:18:13.134Z"
   },
   {
    "duration": 86,
    "start_time": "2021-10-07T11:18:13.140Z"
   },
   {
    "duration": 7,
    "start_time": "2021-10-07T11:18:13.229Z"
   },
   {
    "duration": 57,
    "start_time": "2021-10-07T11:18:13.238Z"
   },
   {
    "duration": 8,
    "start_time": "2021-10-07T11:18:13.297Z"
   },
   {
    "duration": 9,
    "start_time": "2021-10-07T11:18:13.307Z"
   },
   {
    "duration": 10,
    "start_time": "2021-10-07T11:18:13.318Z"
   },
   {
    "duration": 6,
    "start_time": "2021-10-07T11:18:13.333Z"
   },
   {
    "duration": 6,
    "start_time": "2021-10-07T11:18:13.358Z"
   },
   {
    "duration": 11,
    "start_time": "2021-10-07T11:18:13.366Z"
   },
   {
    "duration": 18,
    "start_time": "2021-10-07T11:18:13.379Z"
   },
   {
    "duration": 28,
    "start_time": "2021-10-07T11:18:13.399Z"
   },
   {
    "duration": 6,
    "start_time": "2021-10-07T11:20:40.060Z"
   },
   {
    "duration": 142,
    "start_time": "2021-10-07T11:29:31.189Z"
   },
   {
    "duration": 142,
    "start_time": "2021-10-07T11:30:25.463Z"
   },
   {
    "duration": 490,
    "start_time": "2021-10-07T11:32:11.746Z"
   },
   {
    "duration": 337,
    "start_time": "2021-10-07T11:43:15.546Z"
   },
   {
    "duration": 9,
    "start_time": "2021-10-07T11:43:30.790Z"
   },
   {
    "duration": 8,
    "start_time": "2021-10-07T11:43:56.995Z"
   },
   {
    "duration": 5,
    "start_time": "2021-10-07T12:32:15.721Z"
   },
   {
    "duration": 7,
    "start_time": "2021-10-07T12:32:15.728Z"
   },
   {
    "duration": 62,
    "start_time": "2021-10-07T12:32:15.738Z"
   },
   {
    "duration": 5,
    "start_time": "2021-10-07T12:32:15.803Z"
   },
   {
    "duration": 74,
    "start_time": "2021-10-07T12:32:15.810Z"
   },
   {
    "duration": 7,
    "start_time": "2021-10-07T12:32:15.886Z"
   },
   {
    "duration": 7,
    "start_time": "2021-10-07T12:32:15.895Z"
   },
   {
    "duration": 5,
    "start_time": "2021-10-07T12:32:15.905Z"
   },
   {
    "duration": 10,
    "start_time": "2021-10-07T12:32:15.913Z"
   },
   {
    "duration": 35,
    "start_time": "2021-10-07T12:32:15.925Z"
   },
   {
    "duration": 9,
    "start_time": "2021-10-07T12:32:15.962Z"
   },
   {
    "duration": 13,
    "start_time": "2021-10-07T12:32:15.974Z"
   },
   {
    "duration": 67,
    "start_time": "2021-10-07T12:32:15.990Z"
   },
   {
    "duration": 7,
    "start_time": "2021-10-07T12:32:16.060Z"
   },
   {
    "duration": 36,
    "start_time": "2021-10-07T12:32:16.070Z"
   },
   {
    "duration": 51,
    "start_time": "2021-10-07T12:32:16.108Z"
   },
   {
    "duration": 8,
    "start_time": "2021-10-07T12:32:16.161Z"
   },
   {
    "duration": 69,
    "start_time": "2021-10-07T12:32:16.170Z"
   },
   {
    "duration": 308,
    "start_time": "2021-10-07T12:32:16.241Z"
   },
   {
    "duration": 48,
    "start_time": "2021-10-07T12:32:16.551Z"
   },
   {
    "duration": 9,
    "start_time": "2021-10-07T12:32:16.602Z"
   },
   {
    "duration": 8,
    "start_time": "2021-10-07T12:32:16.616Z"
   },
   {
    "duration": 8,
    "start_time": "2021-10-07T12:32:16.658Z"
   },
   {
    "duration": 9,
    "start_time": "2021-10-07T12:32:16.669Z"
   },
   {
    "duration": 9,
    "start_time": "2021-10-07T12:32:16.681Z"
   },
   {
    "duration": 151,
    "start_time": "2021-10-07T12:32:16.693Z"
   },
   {
    "duration": 242,
    "start_time": "2021-10-07T12:32:16.847Z"
   },
   {
    "duration": 167,
    "start_time": "2021-10-07T12:32:17.092Z"
   },
   {
    "duration": 143,
    "start_time": "2021-10-07T12:32:17.263Z"
   },
   {
    "duration": 177,
    "start_time": "2021-10-07T12:32:17.409Z"
   },
   {
    "duration": 159,
    "start_time": "2021-10-07T12:32:17.589Z"
   },
   {
    "duration": 114,
    "start_time": "2021-10-07T12:32:17.751Z"
   },
   {
    "duration": 191,
    "start_time": "2021-10-07T12:32:17.868Z"
   },
   {
    "duration": 5,
    "start_time": "2021-10-07T12:32:18.061Z"
   },
   {
    "duration": 90,
    "start_time": "2021-10-07T12:32:18.069Z"
   },
   {
    "duration": 172,
    "start_time": "2021-10-07T12:32:18.162Z"
   },
   {
    "duration": 257,
    "start_time": "2021-10-07T12:32:18.337Z"
   },
   {
    "duration": 72,
    "start_time": "2021-10-07T12:32:18.596Z"
   },
   {
    "duration": 350,
    "start_time": "2021-10-07T12:32:18.761Z"
   },
   {
    "duration": 150,
    "start_time": "2021-10-07T12:32:19.113Z"
   },
   {
    "duration": 8,
    "start_time": "2021-10-07T12:32:19.266Z"
   },
   {
    "duration": 8,
    "start_time": "2021-10-07T12:32:19.276Z"
   },
   {
    "duration": 25,
    "start_time": "2021-10-07T12:32:19.286Z"
   },
   {
    "duration": 10,
    "start_time": "2021-10-07T12:55:36.798Z"
   },
   {
    "duration": 8,
    "start_time": "2021-10-07T12:55:57.326Z"
   },
   {
    "duration": 25,
    "start_time": "2021-10-07T12:56:37.432Z"
   },
   {
    "duration": 5,
    "start_time": "2021-10-07T12:56:57.232Z"
   },
   {
    "duration": 5,
    "start_time": "2021-10-07T12:56:59.385Z"
   },
   {
    "duration": 4,
    "start_time": "2021-10-07T12:57:01.135Z"
   },
   {
    "duration": 9,
    "start_time": "2021-10-07T12:57:48.224Z"
   },
   {
    "duration": 5,
    "start_time": "2021-10-07T12:57:49.218Z"
   },
   {
    "duration": 8,
    "start_time": "2021-10-07T12:58:26.231Z"
   },
   {
    "duration": 5,
    "start_time": "2021-10-07T12:58:27.177Z"
   },
   {
    "duration": 7,
    "start_time": "2021-10-07T13:00:07.411Z"
   },
   {
    "duration": 5,
    "start_time": "2021-10-07T13:00:11.705Z"
   },
   {
    "duration": 7,
    "start_time": "2021-10-07T13:03:22.348Z"
   },
   {
    "duration": 345,
    "start_time": "2021-10-07T13:03:35.637Z"
   },
   {
    "duration": 9,
    "start_time": "2021-10-07T13:03:47.172Z"
   },
   {
    "duration": 590,
    "start_time": "2021-10-07T13:03:48.990Z"
   },
   {
    "duration": 30,
    "start_time": "2021-10-07T13:03:56.276Z"
   },
   {
    "duration": 324,
    "start_time": "2021-10-07T13:05:27.742Z"
   },
   {
    "duration": 148,
    "start_time": "2021-10-07T13:06:56.336Z"
   },
   {
    "duration": 16,
    "start_time": "2021-10-07T13:07:05.248Z"
   },
   {
    "duration": 5,
    "start_time": "2021-10-07T13:07:13.077Z"
   },
   {
    "duration": 12,
    "start_time": "2021-10-07T13:07:13.085Z"
   },
   {
    "duration": 67,
    "start_time": "2021-10-07T13:07:13.100Z"
   },
   {
    "duration": 5,
    "start_time": "2021-10-07T13:07:13.170Z"
   },
   {
    "duration": 38,
    "start_time": "2021-10-07T13:07:13.177Z"
   },
   {
    "duration": 7,
    "start_time": "2021-10-07T13:07:13.217Z"
   },
   {
    "duration": 33,
    "start_time": "2021-10-07T13:07:13.226Z"
   },
   {
    "duration": 18,
    "start_time": "2021-10-07T13:07:13.261Z"
   },
   {
    "duration": 7,
    "start_time": "2021-10-07T13:07:13.283Z"
   },
   {
    "duration": 7,
    "start_time": "2021-10-07T13:07:13.293Z"
   },
   {
    "duration": 13,
    "start_time": "2021-10-07T13:07:13.302Z"
   },
   {
    "duration": 40,
    "start_time": "2021-10-07T13:07:13.318Z"
   },
   {
    "duration": 34,
    "start_time": "2021-10-07T13:07:13.360Z"
   },
   {
    "duration": 36,
    "start_time": "2021-10-07T13:07:13.397Z"
   },
   {
    "duration": 29,
    "start_time": "2021-10-07T13:07:13.435Z"
   },
   {
    "duration": 8,
    "start_time": "2021-10-07T13:07:13.467Z"
   },
   {
    "duration": 30,
    "start_time": "2021-10-07T13:07:13.477Z"
   },
   {
    "duration": 235,
    "start_time": "2021-10-07T13:07:13.509Z"
   },
   {
    "duration": 50,
    "start_time": "2021-10-07T13:07:13.746Z"
   },
   {
    "duration": 8,
    "start_time": "2021-10-07T13:07:13.798Z"
   },
   {
    "duration": 13,
    "start_time": "2021-10-07T13:07:13.808Z"
   },
   {
    "duration": 39,
    "start_time": "2021-10-07T13:07:13.823Z"
   },
   {
    "duration": 8,
    "start_time": "2021-10-07T13:07:13.864Z"
   },
   {
    "duration": 15,
    "start_time": "2021-10-07T13:07:13.874Z"
   },
   {
    "duration": 135,
    "start_time": "2021-10-07T13:07:13.891Z"
   },
   {
    "duration": 244,
    "start_time": "2021-10-07T13:07:14.028Z"
   },
   {
    "duration": 90,
    "start_time": "2021-10-07T13:07:14.276Z"
   },
   {
    "duration": 144,
    "start_time": "2021-10-07T13:07:14.460Z"
   },
   {
    "duration": 173,
    "start_time": "2021-10-07T13:07:14.606Z"
   },
   {
    "duration": 150,
    "start_time": "2021-10-07T13:07:14.782Z"
   },
   {
    "duration": 125,
    "start_time": "2021-10-07T13:07:14.934Z"
   },
   {
    "duration": 109,
    "start_time": "2021-10-07T13:07:15.063Z"
   },
   {
    "duration": 5,
    "start_time": "2021-10-07T13:07:15.174Z"
   },
   {
    "duration": 91,
    "start_time": "2021-10-07T13:07:15.181Z"
   },
   {
    "duration": 187,
    "start_time": "2021-10-07T13:07:15.275Z"
   },
   {
    "duration": 269,
    "start_time": "2021-10-07T13:07:15.465Z"
   },
   {
    "duration": 127,
    "start_time": "2021-10-07T13:07:15.737Z"
   },
   {
    "duration": 411,
    "start_time": "2021-10-07T13:07:15.868Z"
   },
   {
    "duration": 9,
    "start_time": "2021-10-07T13:07:19.434Z"
   },
   {
    "duration": 21,
    "start_time": "2021-10-07T13:07:37.756Z"
   },
   {
    "duration": 6,
    "start_time": "2021-10-07T13:08:04.478Z"
   },
   {
    "duration": 23,
    "start_time": "2021-10-07T13:08:08.377Z"
   },
   {
    "duration": 22,
    "start_time": "2021-10-07T13:08:13.725Z"
   },
   {
    "duration": 6,
    "start_time": "2021-10-07T13:09:00.953Z"
   },
   {
    "duration": 321,
    "start_time": "2021-10-07T13:09:25.579Z"
   },
   {
    "duration": 325,
    "start_time": "2021-10-08T07:49:51.238Z"
   },
   {
    "duration": 1619,
    "start_time": "2021-10-08T07:50:08.378Z"
   },
   {
    "duration": 3,
    "start_time": "2021-10-08T07:50:10.000Z"
   },
   {
    "duration": 627,
    "start_time": "2021-10-08T07:50:10.007Z"
   },
   {
    "duration": 929,
    "start_time": "2021-10-08T07:50:10.637Z"
   },
   {
    "duration": 260,
    "start_time": "2021-10-08T07:50:11.568Z"
   },
   {
    "duration": 231,
    "start_time": "2021-10-08T07:50:11.830Z"
   },
   {
    "duration": 14,
    "start_time": "2021-10-08T07:50:12.063Z"
   },
   {
    "duration": 15,
    "start_time": "2021-10-08T07:50:12.080Z"
   },
   {
    "duration": 5,
    "start_time": "2021-10-08T07:50:12.099Z"
   },
   {
    "duration": 11,
    "start_time": "2021-10-08T07:50:12.107Z"
   },
   {
    "duration": 17,
    "start_time": "2021-10-08T07:50:12.120Z"
   },
   {
    "duration": 23,
    "start_time": "2021-10-08T07:50:12.139Z"
   },
   {
    "duration": 39,
    "start_time": "2021-10-08T07:50:12.164Z"
   },
   {
    "duration": 35,
    "start_time": "2021-10-08T07:50:12.205Z"
   },
   {
    "duration": 21,
    "start_time": "2021-10-08T07:50:12.242Z"
   },
   {
    "duration": 8,
    "start_time": "2021-10-08T07:50:12.266Z"
   },
   {
    "duration": 17,
    "start_time": "2021-10-08T07:50:12.277Z"
   },
   {
    "duration": 331,
    "start_time": "2021-10-08T07:50:12.322Z"
   },
   {
    "duration": 43,
    "start_time": "2021-10-08T07:50:12.656Z"
   },
   {
    "duration": 26,
    "start_time": "2021-10-08T07:50:12.702Z"
   },
   {
    "duration": 9,
    "start_time": "2021-10-08T07:50:12.731Z"
   },
   {
    "duration": 9,
    "start_time": "2021-10-08T07:50:12.742Z"
   },
   {
    "duration": 9,
    "start_time": "2021-10-08T07:50:12.753Z"
   },
   {
    "duration": 63,
    "start_time": "2021-10-08T07:50:12.764Z"
   },
   {
    "duration": 133,
    "start_time": "2021-10-08T07:50:12.829Z"
   },
   {
    "duration": 246,
    "start_time": "2021-10-08T07:50:12.964Z"
   },
   {
    "duration": 211,
    "start_time": "2021-10-08T07:50:13.215Z"
   },
   {
    "duration": 143,
    "start_time": "2021-10-08T07:50:13.431Z"
   },
   {
    "duration": 185,
    "start_time": "2021-10-08T07:50:13.577Z"
   },
   {
    "duration": 161,
    "start_time": "2021-10-08T07:50:13.765Z"
   },
   {
    "duration": 102,
    "start_time": "2021-10-08T07:50:13.928Z"
   },
   {
    "duration": 116,
    "start_time": "2021-10-08T07:50:14.123Z"
   },
   {
    "duration": 5,
    "start_time": "2021-10-08T07:50:14.242Z"
   },
   {
    "duration": 92,
    "start_time": "2021-10-08T07:50:14.249Z"
   },
   {
    "duration": 228,
    "start_time": "2021-10-08T07:50:14.344Z"
   },
   {
    "duration": 369,
    "start_time": "2021-10-08T07:50:14.575Z"
   },
   {
    "duration": 179,
    "start_time": "2021-10-08T07:50:14.947Z"
   },
   {
    "duration": 360,
    "start_time": "2021-10-08T07:50:15.129Z"
   },
   {
    "duration": 611,
    "start_time": "2021-10-08T07:50:24.650Z"
   },
   {
    "duration": 5,
    "start_time": "2021-10-08T07:50:53.147Z"
   },
   {
    "duration": 314,
    "start_time": "2021-10-08T07:51:00.447Z"
   },
   {
    "duration": 259,
    "start_time": "2021-10-08T07:51:15.157Z"
   },
   {
    "duration": 409,
    "start_time": "2021-10-08T07:52:52.526Z"
   },
   {
    "duration": 714,
    "start_time": "2021-10-08T07:53:22.789Z"
   },
   {
    "duration": 6,
    "start_time": "2021-10-08T08:08:42.572Z"
   },
   {
    "duration": 23,
    "start_time": "2021-10-08T08:08:43.751Z"
   },
   {
    "duration": 25,
    "start_time": "2021-10-08T08:08:48.211Z"
   },
   {
    "duration": 6,
    "start_time": "2021-10-08T08:08:51.739Z"
   },
   {
    "duration": 325,
    "start_time": "2021-10-08T08:09:45.661Z"
   },
   {
    "duration": 644,
    "start_time": "2021-10-08T08:10:01.191Z"
   },
   {
    "duration": 6,
    "start_time": "2021-10-08T08:30:34.548Z"
   },
   {
    "duration": 608,
    "start_time": "2021-10-08T08:34:11.055Z"
   },
   {
    "duration": 546,
    "start_time": "2021-10-08T08:34:59.088Z"
   },
   {
    "duration": 6,
    "start_time": "2021-10-08T08:48:48.519Z"
   },
   {
    "duration": 33,
    "start_time": "2021-10-08T08:48:48.527Z"
   },
   {
    "duration": 67,
    "start_time": "2021-10-08T08:48:48.564Z"
   },
   {
    "duration": 6,
    "start_time": "2021-10-08T08:48:48.634Z"
   },
   {
    "duration": 43,
    "start_time": "2021-10-08T08:48:48.642Z"
   },
   {
    "duration": 7,
    "start_time": "2021-10-08T08:48:48.687Z"
   },
   {
    "duration": 6,
    "start_time": "2021-10-08T08:48:48.723Z"
   },
   {
    "duration": 14,
    "start_time": "2021-10-08T08:48:48.733Z"
   },
   {
    "duration": 14,
    "start_time": "2021-10-08T08:48:48.750Z"
   },
   {
    "duration": 25,
    "start_time": "2021-10-08T08:48:48.766Z"
   },
   {
    "duration": 23,
    "start_time": "2021-10-08T08:48:48.793Z"
   },
   {
    "duration": 42,
    "start_time": "2021-10-08T08:48:48.818Z"
   },
   {
    "duration": 33,
    "start_time": "2021-10-08T08:48:48.863Z"
   },
   {
    "duration": 38,
    "start_time": "2021-10-08T08:48:48.898Z"
   },
   {
    "duration": 22,
    "start_time": "2021-10-08T08:48:48.939Z"
   },
   {
    "duration": 10,
    "start_time": "2021-10-08T08:48:48.965Z"
   },
   {
    "duration": 14,
    "start_time": "2021-10-08T08:48:48.978Z"
   },
   {
    "duration": 238,
    "start_time": "2021-10-08T08:48:49.023Z"
   },
   {
    "duration": 58,
    "start_time": "2021-10-08T08:48:49.264Z"
   },
   {
    "duration": 12,
    "start_time": "2021-10-08T08:48:49.325Z"
   },
   {
    "duration": 10,
    "start_time": "2021-10-08T08:48:49.340Z"
   },
   {
    "duration": 27,
    "start_time": "2021-10-08T08:48:49.353Z"
   },
   {
    "duration": 39,
    "start_time": "2021-10-08T08:48:49.387Z"
   },
   {
    "duration": 11,
    "start_time": "2021-10-08T08:48:49.429Z"
   },
   {
    "duration": 138,
    "start_time": "2021-10-08T08:48:49.442Z"
   },
   {
    "duration": 254,
    "start_time": "2021-10-08T08:48:49.583Z"
   },
   {
    "duration": 91,
    "start_time": "2021-10-08T08:48:49.840Z"
   },
   {
    "duration": 145,
    "start_time": "2021-10-08T08:48:50.024Z"
   },
   {
    "duration": 180,
    "start_time": "2021-10-08T08:48:50.172Z"
   },
   {
    "duration": 148,
    "start_time": "2021-10-08T08:48:50.355Z"
   },
   {
    "duration": 219,
    "start_time": "2021-10-08T08:48:50.505Z"
   },
   {
    "duration": 113,
    "start_time": "2021-10-08T08:48:50.728Z"
   },
   {
    "duration": 6,
    "start_time": "2021-10-08T08:48:50.844Z"
   },
   {
    "duration": 97,
    "start_time": "2021-10-08T08:48:50.855Z"
   },
   {
    "duration": 182,
    "start_time": "2021-10-08T08:48:50.954Z"
   },
   {
    "duration": 255,
    "start_time": "2021-10-08T08:48:51.138Z"
   },
   {
    "duration": 129,
    "start_time": "2021-10-08T08:48:51.395Z"
   },
   {
    "duration": 345,
    "start_time": "2021-10-08T08:48:51.528Z"
   },
   {
    "duration": 560,
    "start_time": "2021-10-08T08:49:30.237Z"
   },
   {
    "duration": 563,
    "start_time": "2021-10-08T08:50:34.905Z"
   },
   {
    "duration": 545,
    "start_time": "2021-10-08T08:50:53.198Z"
   },
   {
    "duration": 587,
    "start_time": "2021-10-08T09:00:54.096Z"
   },
   {
    "duration": 543,
    "start_time": "2021-10-08T09:05:12.131Z"
   },
   {
    "duration": 551,
    "start_time": "2021-10-08T09:05:22.492Z"
   },
   {
    "duration": 254,
    "start_time": "2021-10-08T09:05:50.468Z"
   },
   {
    "duration": 546,
    "start_time": "2021-10-08T12:11:16.482Z"
   },
   {
    "duration": 18,
    "start_time": "2021-10-08T12:18:59.516Z"
   },
   {
    "duration": 20,
    "start_time": "2021-10-08T12:19:15.211Z"
   },
   {
    "duration": 14,
    "start_time": "2021-10-08T12:19:26.416Z"
   },
   {
    "duration": 16,
    "start_time": "2021-10-08T12:19:32.769Z"
   },
   {
    "duration": 5,
    "start_time": "2021-10-08T12:20:01.106Z"
   },
   {
    "duration": 1334,
    "start_time": "2021-10-10T06:26:12.139Z"
   },
   {
    "duration": 3,
    "start_time": "2021-10-10T06:26:13.476Z"
   },
   {
    "duration": 75,
    "start_time": "2021-10-10T06:26:13.482Z"
   },
   {
    "duration": 6,
    "start_time": "2021-10-10T06:26:13.560Z"
   },
   {
    "duration": 55,
    "start_time": "2021-10-10T06:26:13.569Z"
   },
   {
    "duration": 7,
    "start_time": "2021-10-10T06:26:13.626Z"
   },
   {
    "duration": 14,
    "start_time": "2021-10-10T06:26:13.635Z"
   },
   {
    "duration": 15,
    "start_time": "2021-10-10T06:26:13.651Z"
   },
   {
    "duration": 7,
    "start_time": "2021-10-10T06:26:13.670Z"
   },
   {
    "duration": 10,
    "start_time": "2021-10-10T06:26:13.681Z"
   },
   {
    "duration": 30,
    "start_time": "2021-10-10T06:26:13.693Z"
   },
   {
    "duration": 18,
    "start_time": "2021-10-10T06:26:13.726Z"
   },
   {
    "duration": 28,
    "start_time": "2021-10-10T06:26:13.746Z"
   },
   {
    "duration": 56,
    "start_time": "2021-10-10T06:26:13.777Z"
   },
   {
    "duration": 21,
    "start_time": "2021-10-10T06:26:13.836Z"
   },
   {
    "duration": 9,
    "start_time": "2021-10-10T06:26:13.859Z"
   },
   {
    "duration": 22,
    "start_time": "2021-10-10T06:26:13.870Z"
   },
   {
    "duration": 353,
    "start_time": "2021-10-10T06:26:13.894Z"
   },
   {
    "duration": 43,
    "start_time": "2021-10-10T06:26:14.250Z"
   },
   {
    "duration": 29,
    "start_time": "2021-10-10T06:26:14.296Z"
   },
   {
    "duration": 8,
    "start_time": "2021-10-10T06:26:14.328Z"
   },
   {
    "duration": 19,
    "start_time": "2021-10-10T06:26:14.338Z"
   },
   {
    "duration": 17,
    "start_time": "2021-10-10T06:26:14.360Z"
   },
   {
    "duration": 18,
    "start_time": "2021-10-10T06:26:14.380Z"
   },
   {
    "duration": 150,
    "start_time": "2021-10-10T06:26:14.400Z"
   },
   {
    "duration": 257,
    "start_time": "2021-10-10T06:26:14.552Z"
   },
   {
    "duration": 206,
    "start_time": "2021-10-10T06:26:14.822Z"
   },
   {
    "duration": 138,
    "start_time": "2021-10-10T06:26:15.033Z"
   },
   {
    "duration": 176,
    "start_time": "2021-10-10T06:26:15.173Z"
   },
   {
    "duration": 151,
    "start_time": "2021-10-10T06:26:15.351Z"
   },
   {
    "duration": 123,
    "start_time": "2021-10-10T06:26:15.505Z"
   },
   {
    "duration": 112,
    "start_time": "2021-10-10T06:26:15.631Z"
   },
   {
    "duration": 5,
    "start_time": "2021-10-10T06:26:15.745Z"
   },
   {
    "duration": 90,
    "start_time": "2021-10-10T06:26:15.752Z"
   },
   {
    "duration": 178,
    "start_time": "2021-10-10T06:26:15.845Z"
   },
   {
    "duration": 263,
    "start_time": "2021-10-10T06:26:16.025Z"
   },
   {
    "duration": 133,
    "start_time": "2021-10-10T06:26:16.290Z"
   },
   {
    "duration": 348,
    "start_time": "2021-10-10T06:26:16.426Z"
   },
   {
    "duration": 548,
    "start_time": "2021-10-10T06:33:44.292Z"
   },
   {
    "duration": 17,
    "start_time": "2021-10-10T06:34:31.908Z"
   },
   {
    "duration": 20,
    "start_time": "2021-10-10T06:34:41.273Z"
   },
   {
    "duration": 20,
    "start_time": "2021-10-10T06:34:55.776Z"
   },
   {
    "duration": 491,
    "start_time": "2021-10-10T06:35:08.937Z"
   },
   {
    "duration": 20,
    "start_time": "2021-10-10T06:35:18.713Z"
   },
   {
    "duration": 6,
    "start_time": "2021-10-10T06:55:54.103Z"
   },
   {
    "duration": 230,
    "start_time": "2021-10-10T06:59:36.170Z"
   },
   {
    "duration": 8,
    "start_time": "2021-10-10T06:59:52.995Z"
   },
   {
    "duration": 12,
    "start_time": "2021-10-10T07:00:42.023Z"
   },
   {
    "duration": 245,
    "start_time": "2021-10-10T07:14:12.835Z"
   },
   {
    "duration": 289,
    "start_time": "2021-10-10T07:14:27.843Z"
   },
   {
    "duration": 6,
    "start_time": "2021-10-10T07:14:40.039Z"
   },
   {
    "duration": 40,
    "start_time": "2021-10-10T07:14:40.047Z"
   },
   {
    "duration": 87,
    "start_time": "2021-10-10T07:14:40.090Z"
   },
   {
    "duration": 5,
    "start_time": "2021-10-10T07:14:40.180Z"
   },
   {
    "duration": 50,
    "start_time": "2021-10-10T07:14:40.188Z"
   },
   {
    "duration": 6,
    "start_time": "2021-10-10T07:14:40.241Z"
   },
   {
    "duration": 41,
    "start_time": "2021-10-10T07:14:40.250Z"
   },
   {
    "duration": 23,
    "start_time": "2021-10-10T07:14:40.294Z"
   },
   {
    "duration": 24,
    "start_time": "2021-10-10T07:14:40.321Z"
   },
   {
    "duration": 33,
    "start_time": "2021-10-10T07:14:40.348Z"
   },
   {
    "duration": 34,
    "start_time": "2021-10-10T07:14:40.383Z"
   },
   {
    "duration": 16,
    "start_time": "2021-10-10T07:14:40.420Z"
   },
   {
    "duration": 18,
    "start_time": "2021-10-10T07:14:40.440Z"
   },
   {
    "duration": 45,
    "start_time": "2021-10-10T07:14:40.461Z"
   },
   {
    "duration": 250,
    "start_time": "2021-10-10T07:15:05.301Z"
   },
   {
    "duration": 1373,
    "start_time": "2021-10-10T07:15:42.394Z"
   },
   {
    "duration": 3,
    "start_time": "2021-10-10T07:15:43.769Z"
   },
   {
    "duration": 78,
    "start_time": "2021-10-10T07:15:43.775Z"
   },
   {
    "duration": 6,
    "start_time": "2021-10-10T07:15:43.856Z"
   },
   {
    "duration": 35,
    "start_time": "2021-10-10T07:15:43.864Z"
   },
   {
    "duration": 25,
    "start_time": "2021-10-10T07:15:43.901Z"
   },
   {
    "duration": 12,
    "start_time": "2021-10-10T07:15:43.929Z"
   },
   {
    "duration": 15,
    "start_time": "2021-10-10T07:15:43.944Z"
   },
   {
    "duration": 11,
    "start_time": "2021-10-10T07:15:43.963Z"
   },
   {
    "duration": 11,
    "start_time": "2021-10-10T07:15:43.977Z"
   },
   {
    "duration": 21,
    "start_time": "2021-10-10T07:15:43.991Z"
   },
   {
    "duration": 11,
    "start_time": "2021-10-10T07:15:44.022Z"
   },
   {
    "duration": 6,
    "start_time": "2021-10-10T07:15:44.036Z"
   },
   {
    "duration": 349,
    "start_time": "2021-10-10T07:15:44.044Z"
   },
   {
    "duration": 252,
    "start_time": "2021-10-10T07:15:51.104Z"
   },
   {
    "duration": 25,
    "start_time": "2021-10-10T07:16:10.623Z"
   },
   {
    "duration": 302,
    "start_time": "2021-10-10T07:16:34.894Z"
   },
   {
    "duration": 29,
    "start_time": "2021-10-10T07:16:50.413Z"
   },
   {
    "duration": 13,
    "start_time": "2021-10-10T07:16:59.657Z"
   },
   {
    "duration": 1446,
    "start_time": "2021-10-10T07:17:38.708Z"
   },
   {
    "duration": 3,
    "start_time": "2021-10-10T07:17:40.157Z"
   },
   {
    "duration": 73,
    "start_time": "2021-10-10T07:17:40.162Z"
   },
   {
    "duration": 5,
    "start_time": "2021-10-10T07:17:40.238Z"
   },
   {
    "duration": 40,
    "start_time": "2021-10-10T07:17:40.245Z"
   },
   {
    "duration": 7,
    "start_time": "2021-10-10T07:17:40.287Z"
   },
   {
    "duration": 9,
    "start_time": "2021-10-10T07:17:40.296Z"
   },
   {
    "duration": 7,
    "start_time": "2021-10-10T07:17:40.308Z"
   },
   {
    "duration": 17,
    "start_time": "2021-10-10T07:17:40.318Z"
   },
   {
    "duration": 18,
    "start_time": "2021-10-10T07:17:40.337Z"
   },
   {
    "duration": 23,
    "start_time": "2021-10-10T07:17:40.358Z"
   },
   {
    "duration": 14,
    "start_time": "2021-10-10T07:17:40.384Z"
   },
   {
    "duration": 9,
    "start_time": "2021-10-10T07:17:40.400Z"
   },
   {
    "duration": 415,
    "start_time": "2021-10-10T07:17:40.411Z"
   },
   {
    "duration": -498,
    "start_time": "2021-10-10T07:17:41.326Z"
   },
   {
    "duration": 233,
    "start_time": "2021-10-10T07:17:48.359Z"
   },
   {
    "duration": 87,
    "start_time": "2021-10-10T07:17:55.714Z"
   },
   {
    "duration": 270,
    "start_time": "2021-10-10T07:18:02.936Z"
   },
   {
    "duration": 1290,
    "start_time": "2021-10-10T07:20:19.855Z"
   },
   {
    "duration": 3,
    "start_time": "2021-10-10T07:20:21.148Z"
   },
   {
    "duration": 89,
    "start_time": "2021-10-10T07:20:21.154Z"
   },
   {
    "duration": 6,
    "start_time": "2021-10-10T07:20:21.246Z"
   },
   {
    "duration": 55,
    "start_time": "2021-10-10T07:20:21.255Z"
   },
   {
    "duration": 10,
    "start_time": "2021-10-10T07:20:21.313Z"
   },
   {
    "duration": 27,
    "start_time": "2021-10-10T07:20:21.326Z"
   },
   {
    "duration": 26,
    "start_time": "2021-10-10T07:20:21.355Z"
   },
   {
    "duration": 21,
    "start_time": "2021-10-10T07:20:21.385Z"
   },
   {
    "duration": 25,
    "start_time": "2021-10-10T07:20:21.409Z"
   },
   {
    "duration": 49,
    "start_time": "2021-10-10T07:20:21.436Z"
   },
   {
    "duration": 29,
    "start_time": "2021-10-10T07:20:21.487Z"
   },
   {
    "duration": 23,
    "start_time": "2021-10-10T07:20:21.518Z"
   },
   {
    "duration": 368,
    "start_time": "2021-10-10T07:20:21.543Z"
   },
   {
    "duration": 274,
    "start_time": "2021-10-10T07:20:26.116Z"
   },
   {
    "duration": 36,
    "start_time": "2021-10-10T07:20:50.546Z"
   },
   {
    "duration": 12,
    "start_time": "2021-10-10T07:20:56.402Z"
   },
   {
    "duration": 1347,
    "start_time": "2021-10-10T07:22:30.328Z"
   },
   {
    "duration": 4,
    "start_time": "2021-10-10T07:22:31.678Z"
   },
   {
    "duration": 110,
    "start_time": "2021-10-10T07:22:31.685Z"
   },
   {
    "duration": 8,
    "start_time": "2021-10-10T07:22:31.798Z"
   },
   {
    "duration": 76,
    "start_time": "2021-10-10T07:22:31.809Z"
   },
   {
    "duration": 19,
    "start_time": "2021-10-10T07:22:31.887Z"
   },
   {
    "duration": 35,
    "start_time": "2021-10-10T07:22:31.909Z"
   },
   {
    "duration": 45,
    "start_time": "2021-10-10T07:22:31.948Z"
   },
   {
    "duration": 29,
    "start_time": "2021-10-10T07:22:31.996Z"
   },
   {
    "duration": 34,
    "start_time": "2021-10-10T07:22:32.027Z"
   },
   {
    "duration": 44,
    "start_time": "2021-10-10T07:22:32.064Z"
   },
   {
    "duration": 46,
    "start_time": "2021-10-10T07:22:32.110Z"
   },
   {
    "duration": 29,
    "start_time": "2021-10-10T07:22:32.159Z"
   },
   {
    "duration": 384,
    "start_time": "2021-10-10T07:22:32.191Z"
   },
   {
    "duration": -54,
    "start_time": "2021-10-10T07:22:32.632Z"
   },
   {
    "duration": -62,
    "start_time": "2021-10-10T07:22:32.641Z"
   },
   {
    "duration": -65,
    "start_time": "2021-10-10T07:22:32.646Z"
   },
   {
    "duration": -66,
    "start_time": "2021-10-10T07:22:32.648Z"
   },
   {
    "duration": -66,
    "start_time": "2021-10-10T07:22:32.650Z"
   },
   {
    "duration": -69,
    "start_time": "2021-10-10T07:22:32.654Z"
   },
   {
    "duration": -69,
    "start_time": "2021-10-10T07:22:32.656Z"
   },
   {
    "duration": -71,
    "start_time": "2021-10-10T07:22:32.659Z"
   },
   {
    "duration": -73,
    "start_time": "2021-10-10T07:22:32.662Z"
   },
   {
    "duration": -74,
    "start_time": "2021-10-10T07:22:32.665Z"
   },
   {
    "duration": -74,
    "start_time": "2021-10-10T07:22:32.667Z"
   },
   {
    "duration": -75,
    "start_time": "2021-10-10T07:22:32.669Z"
   },
   {
    "duration": -76,
    "start_time": "2021-10-10T07:22:32.671Z"
   },
   {
    "duration": 6,
    "start_time": "2021-10-10T07:23:03.614Z"
   },
   {
    "duration": 18,
    "start_time": "2021-10-10T07:23:03.623Z"
   },
   {
    "duration": 81,
    "start_time": "2021-10-10T07:23:03.645Z"
   },
   {
    "duration": 6,
    "start_time": "2021-10-10T07:23:03.728Z"
   },
   {
    "duration": 55,
    "start_time": "2021-10-10T07:23:03.736Z"
   },
   {
    "duration": 6,
    "start_time": "2021-10-10T07:23:03.794Z"
   },
   {
    "duration": 21,
    "start_time": "2021-10-10T07:23:03.802Z"
   },
   {
    "duration": 17,
    "start_time": "2021-10-10T07:23:03.825Z"
   },
   {
    "duration": 27,
    "start_time": "2021-10-10T07:23:03.846Z"
   },
   {
    "duration": 8,
    "start_time": "2021-10-10T07:23:03.876Z"
   },
   {
    "duration": 13,
    "start_time": "2021-10-10T07:23:03.886Z"
   },
   {
    "duration": 20,
    "start_time": "2021-10-10T07:23:03.902Z"
   },
   {
    "duration": 20,
    "start_time": "2021-10-10T07:23:03.924Z"
   },
   {
    "duration": 25,
    "start_time": "2021-10-10T07:23:03.946Z"
   },
   {
    "duration": 45,
    "start_time": "2021-10-10T07:23:03.974Z"
   },
   {
    "duration": 11,
    "start_time": "2021-10-10T07:23:04.021Z"
   },
   {
    "duration": 55,
    "start_time": "2021-10-10T07:23:04.034Z"
   },
   {
    "duration": 38,
    "start_time": "2021-10-10T07:23:04.092Z"
   },
   {
    "duration": 9,
    "start_time": "2021-10-10T07:23:04.134Z"
   },
   {
    "duration": 42,
    "start_time": "2021-10-10T07:23:04.146Z"
   },
   {
    "duration": 318,
    "start_time": "2021-10-10T07:23:04.192Z"
   },
   {
    "duration": 53,
    "start_time": "2021-10-10T07:23:04.513Z"
   },
   {
    "duration": 11,
    "start_time": "2021-10-10T07:23:04.569Z"
   },
   {
    "duration": 41,
    "start_time": "2021-10-10T07:23:04.583Z"
   },
   {
    "duration": 11,
    "start_time": "2021-10-10T07:23:04.627Z"
   },
   {
    "duration": 17,
    "start_time": "2021-10-10T07:23:04.641Z"
   },
   {
    "duration": 10,
    "start_time": "2021-10-10T07:23:04.664Z"
   },
   {
    "duration": 75392,
    "start_time": "2021-10-10T07:23:08.985Z"
   },
   {
    "duration": 232,
    "start_time": "2021-10-10T07:29:28.235Z"
   },
   {
    "duration": 121,
    "start_time": "2021-10-10T07:29:59.606Z"
   },
   {
    "duration": 50,
    "start_time": "2021-10-10T07:30:13.814Z"
   },
   {
    "duration": 78929,
    "start_time": "2021-10-10T07:30:28.528Z"
   },
   {
    "duration": 151,
    "start_time": "2021-10-10T07:35:47.903Z"
   },
   {
    "duration": 112,
    "start_time": "2021-10-10T07:35:56.616Z"
   },
   {
    "duration": 24,
    "start_time": "2021-10-10T07:37:12.997Z"
   },
   {
    "duration": 5,
    "start_time": "2021-10-10T07:37:21.538Z"
   },
   {
    "duration": 64,
    "start_time": "2021-10-10T07:37:24.530Z"
   },
   {
    "duration": 158231,
    "start_time": "2021-10-10T07:37:44.962Z"
   },
   {
    "duration": 411,
    "start_time": "2021-10-10T07:41:12.811Z"
   },
   {
    "duration": 101,
    "start_time": "2021-10-10T07:41:24.829Z"
   },
   {
    "duration": 425,
    "start_time": "2021-10-10T07:42:17.469Z"
   },
   {
    "duration": 155,
    "start_time": "2021-10-10T07:44:20.224Z"
   },
   {
    "duration": 115,
    "start_time": "2021-10-10T07:57:53.652Z"
   },
   {
    "duration": 79,
    "start_time": "2021-10-10T07:58:15.750Z"
   },
   {
    "duration": 51,
    "start_time": "2021-10-10T08:01:02.418Z"
   },
   {
    "duration": 412,
    "start_time": "2021-10-10T08:05:05.045Z"
   },
   {
    "duration": 26,
    "start_time": "2021-10-10T08:12:22.220Z"
   },
   {
    "duration": 322,
    "start_time": "2021-10-10T08:18:48.377Z"
   },
   {
    "duration": 403,
    "start_time": "2021-10-10T08:19:04.028Z"
   },
   {
    "duration": 229,
    "start_time": "2021-10-10T08:19:38.875Z"
   },
   {
    "duration": 404,
    "start_time": "2021-10-10T08:20:08.559Z"
   },
   {
    "duration": 410,
    "start_time": "2021-10-10T08:20:25.237Z"
   },
   {
    "duration": 153,
    "start_time": "2021-10-10T08:20:42.925Z"
   },
   {
    "duration": 155,
    "start_time": "2021-10-10T08:23:02.007Z"
   },
   {
    "duration": 228,
    "start_time": "2021-10-10T08:23:12.185Z"
   },
   {
    "duration": 412,
    "start_time": "2021-10-10T08:23:48.129Z"
   },
   {
    "duration": 233,
    "start_time": "2021-10-10T08:24:01.456Z"
   },
   {
    "duration": 374,
    "start_time": "2021-10-23T10:09:48.090Z"
   },
   {
    "duration": 1439,
    "start_time": "2021-10-23T10:09:58.064Z"
   },
   {
    "duration": 3,
    "start_time": "2021-10-23T10:09:59.506Z"
   },
   {
    "duration": 690,
    "start_time": "2021-10-23T10:09:59.511Z"
   },
   {
    "duration": 6,
    "start_time": "2021-10-23T10:10:00.203Z"
   },
   {
    "duration": 44,
    "start_time": "2021-10-23T10:10:00.211Z"
   },
   {
    "duration": 24,
    "start_time": "2021-10-23T10:10:00.258Z"
   },
   {
    "duration": 6,
    "start_time": "2021-10-23T10:10:00.284Z"
   },
   {
    "duration": 20,
    "start_time": "2021-10-23T10:10:00.294Z"
   },
   {
    "duration": 19,
    "start_time": "2021-10-23T10:10:00.317Z"
   },
   {
    "duration": 16,
    "start_time": "2021-10-23T10:10:00.339Z"
   },
   {
    "duration": 27,
    "start_time": "2021-10-23T10:10:00.357Z"
   },
   {
    "duration": 18,
    "start_time": "2021-10-23T10:10:00.386Z"
   },
   {
    "duration": 38,
    "start_time": "2021-10-23T10:10:00.406Z"
   },
   {
    "duration": 11,
    "start_time": "2021-10-23T10:10:00.446Z"
   },
   {
    "duration": 35,
    "start_time": "2021-10-23T10:10:00.484Z"
   },
   {
    "duration": 19,
    "start_time": "2021-10-23T10:10:00.521Z"
   },
   {
    "duration": 8,
    "start_time": "2021-10-23T10:10:00.542Z"
   },
   {
    "duration": 58,
    "start_time": "2021-10-23T10:10:00.552Z"
   },
   {
    "duration": 325,
    "start_time": "2021-10-23T10:10:00.613Z"
   },
   {
    "duration": 61,
    "start_time": "2021-10-23T10:10:00.941Z"
   },
   {
    "duration": 8,
    "start_time": "2021-10-23T10:10:01.004Z"
   },
   {
    "duration": 12,
    "start_time": "2021-10-23T10:10:01.014Z"
   },
   {
    "duration": 7,
    "start_time": "2021-10-23T10:10:01.030Z"
   },
   {
    "duration": 19,
    "start_time": "2021-10-23T10:10:01.039Z"
   },
   {
    "duration": 12,
    "start_time": "2021-10-23T10:10:01.083Z"
   },
   {
    "duration": 23,
    "start_time": "2021-10-23T10:10:05.966Z"
   },
   {
    "duration": 7,
    "start_time": "2021-10-23T10:10:27.851Z"
   },
   {
    "duration": 22,
    "start_time": "2021-10-23T10:12:22.359Z"
   },
   {
    "duration": 996,
    "start_time": "2021-11-14T13:19:00.273Z"
   },
   {
    "duration": 2,
    "start_time": "2021-11-14T13:19:01.271Z"
   },
   {
    "duration": 57,
    "start_time": "2021-11-14T13:19:01.275Z"
   },
   {
    "duration": 4,
    "start_time": "2021-11-14T13:19:01.334Z"
   },
   {
    "duration": 37,
    "start_time": "2021-11-14T13:19:01.340Z"
   },
   {
    "duration": 13,
    "start_time": "2021-11-14T13:19:01.379Z"
   },
   {
    "duration": 26,
    "start_time": "2021-11-14T13:19:01.393Z"
   },
   {
    "duration": 13,
    "start_time": "2021-11-14T13:19:01.421Z"
   },
   {
    "duration": 8,
    "start_time": "2021-11-14T13:19:01.436Z"
   },
   {
    "duration": 10,
    "start_time": "2021-11-14T13:19:01.445Z"
   },
   {
    "duration": 16,
    "start_time": "2021-11-14T13:19:01.457Z"
   },
   {
    "duration": 15,
    "start_time": "2021-11-14T13:19:01.474Z"
   },
   {
    "duration": 4,
    "start_time": "2021-11-14T13:19:35.361Z"
   },
   {
    "duration": 8,
    "start_time": "2021-11-14T13:19:35.367Z"
   },
   {
    "duration": 45,
    "start_time": "2021-11-14T13:19:35.377Z"
   },
   {
    "duration": 3,
    "start_time": "2021-11-14T13:19:35.424Z"
   },
   {
    "duration": 20,
    "start_time": "2021-11-14T13:19:35.429Z"
   },
   {
    "duration": 5,
    "start_time": "2021-11-14T13:19:35.450Z"
   },
   {
    "duration": 7,
    "start_time": "2021-11-14T13:19:35.456Z"
   },
   {
    "duration": 7,
    "start_time": "2021-11-14T13:19:35.464Z"
   },
   {
    "duration": 15,
    "start_time": "2021-11-14T13:19:35.473Z"
   },
   {
    "duration": 9,
    "start_time": "2021-11-14T13:19:35.489Z"
   },
   {
    "duration": 9,
    "start_time": "2021-11-14T13:19:35.500Z"
   },
   {
    "duration": 13,
    "start_time": "2021-11-14T13:19:35.511Z"
   },
   {
    "duration": 27,
    "start_time": "2021-11-14T13:19:44.223Z"
   },
   {
    "duration": 6,
    "start_time": "2021-11-14T13:20:02.509Z"
   }
  ],
  "kernelspec": {
   "display_name": "Python 3",
   "language": "python",
   "name": "python3"
  },
  "language_info": {
   "codemirror_mode": {
    "name": "ipython",
    "version": 3
   },
   "file_extension": ".py",
   "mimetype": "text/x-python",
   "name": "python",
   "nbconvert_exporter": "python",
   "pygments_lexer": "ipython3",
   "version": "3.8.3"
  },
  "toc": {
   "base_numbering": 1,
   "nav_menu": {},
   "number_sections": true,
   "sideBar": true,
   "skip_h1_title": true,
   "title_cell": "Table of Contents",
   "title_sidebar": "Contents",
   "toc_cell": false,
   "toc_position": {},
   "toc_section_display": true,
   "toc_window_display": false
  }
 },
 "nbformat": 4,
 "nbformat_minor": 2
}
